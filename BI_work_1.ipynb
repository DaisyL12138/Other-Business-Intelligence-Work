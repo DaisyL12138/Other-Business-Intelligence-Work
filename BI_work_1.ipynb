{
 "cells": [
  {
   "cell_type": "code",
   "execution_count": 1,
   "metadata": {},
   "outputs": [],
   "source": [
    "import pandas as pd\n",
    "import plotly.express as px\n",
    "import plotly.graph_objects as go\n",
    "from plotly.subplots import make_subplots"
   ]
  },
  {
   "cell_type": "code",
   "execution_count": null,
   "metadata": {},
   "outputs": [
    {
     "data": {
      "text/html": [
       "<div>\n",
       "<style scoped>\n",
       "    .dataframe tbody tr th:only-of-type {\n",
       "        vertical-align: middle;\n",
       "    }\n",
       "\n",
       "    .dataframe tbody tr th {\n",
       "        vertical-align: top;\n",
       "    }\n",
       "\n",
       "    .dataframe thead th {\n",
       "        text-align: right;\n",
       "    }\n",
       "</style>\n",
       "<table border=\"1\" class=\"dataframe\">\n",
       "  <thead>\n",
       "    <tr style=\"text-align: right;\">\n",
       "      <th></th>\n",
       "      <th>date</th>\n",
       "      <th>channel_name</th>\n",
       "      <th>campaign_name</th>\n",
       "      <th>creative_id</th>\n",
       "      <th>device_type</th>\n",
       "      <th>cost_usd</th>\n",
       "      <th>impressions</th>\n",
       "      <th>clicks</th>\n",
       "      <th>signups</th>\n",
       "      <th>payments</th>\n",
       "      <th>ctr</th>\n",
       "      <th>cr(click-signup)</th>\n",
       "      <th>cr(signup-payment)</th>\n",
       "    </tr>\n",
       "  </thead>\n",
       "  <tbody>\n",
       "    <tr>\n",
       "      <th>0</th>\n",
       "      <td>12/6/2024</td>\n",
       "      <td>Google Search Engine</td>\n",
       "      <td>Awareness Female 35-44</td>\n",
       "      <td>Creative_32</td>\n",
       "      <td>Android</td>\n",
       "      <td>2.335280</td>\n",
       "      <td>719</td>\n",
       "      <td>38</td>\n",
       "      <td>3</td>\n",
       "      <td>1</td>\n",
       "      <td>5.29%</td>\n",
       "      <td>7.89%</td>\n",
       "      <td>33.33%</td>\n",
       "    </tr>\n",
       "    <tr>\n",
       "      <th>1</th>\n",
       "      <td>27/1/2024</td>\n",
       "      <td>YouTube</td>\n",
       "      <td>Remarketing Male 55+</td>\n",
       "      <td>Creative_12</td>\n",
       "      <td>iOS</td>\n",
       "      <td>4.703972</td>\n",
       "      <td>4166</td>\n",
       "      <td>15</td>\n",
       "      <td>1</td>\n",
       "      <td>1</td>\n",
       "      <td>0.36%</td>\n",
       "      <td>6.67%</td>\n",
       "      <td>100.00%</td>\n",
       "    </tr>\n",
       "    <tr>\n",
       "      <th>2</th>\n",
       "      <td>9/1/2024</td>\n",
       "      <td>Google Search Engine</td>\n",
       "      <td>Awareness Male 45-54</td>\n",
       "      <td>Creative_30</td>\n",
       "      <td>iOS</td>\n",
       "      <td>3.018451</td>\n",
       "      <td>1188</td>\n",
       "      <td>25</td>\n",
       "      <td>2</td>\n",
       "      <td>1</td>\n",
       "      <td>2.10%</td>\n",
       "      <td>8.00%</td>\n",
       "      <td>50.00%</td>\n",
       "    </tr>\n",
       "    <tr>\n",
       "      <th>3</th>\n",
       "      <td>7/1/2024</td>\n",
       "      <td>Instagram Stories</td>\n",
       "      <td>Remarketing Male 55+</td>\n",
       "      <td>Creative_54</td>\n",
       "      <td>Android</td>\n",
       "      <td>0.760292</td>\n",
       "      <td>1292</td>\n",
       "      <td>7</td>\n",
       "      <td>0</td>\n",
       "      <td>0</td>\n",
       "      <td>0.54%</td>\n",
       "      <td>0.00%</td>\n",
       "      <td>0.00%</td>\n",
       "    </tr>\n",
       "    <tr>\n",
       "      <th>4</th>\n",
       "      <td>30/5/2024</td>\n",
       "      <td>Google Search Engine</td>\n",
       "      <td>Branding Male 18-24</td>\n",
       "      <td>Creative_98</td>\n",
       "      <td>Desktop</td>\n",
       "      <td>1.167750</td>\n",
       "      <td>700</td>\n",
       "      <td>9</td>\n",
       "      <td>0</td>\n",
       "      <td>0</td>\n",
       "      <td>1.29%</td>\n",
       "      <td>0.00%</td>\n",
       "      <td>0.00%</td>\n",
       "    </tr>\n",
       "  </tbody>\n",
       "</table>\n",
       "</div>"
      ],
      "text/plain": [
       "        date          channel_name           campaign_name  creative_id  \\\n",
       "0  12/6/2024  Google Search Engine  Awareness Female 35-44  Creative_32   \n",
       "1  27/1/2024               YouTube    Remarketing Male 55+  Creative_12   \n",
       "2   9/1/2024  Google Search Engine    Awareness Male 45-54  Creative_30   \n",
       "3   7/1/2024     Instagram Stories    Remarketing Male 55+  Creative_54   \n",
       "4  30/5/2024  Google Search Engine     Branding Male 18-24  Creative_98   \n",
       "\n",
       "  device_type  cost_usd  impressions  clicks  signups  payments    ctr  \\\n",
       "0     Android  2.335280          719      38        3         1  5.29%   \n",
       "1         iOS  4.703972         4166      15        1         1  0.36%   \n",
       "2         iOS  3.018451         1188      25        2         1  2.10%   \n",
       "3     Android  0.760292         1292       7        0         0  0.54%   \n",
       "4     Desktop  1.167750          700       9        0         0  1.29%   \n",
       "\n",
       "  cr(click-signup) cr(signup-payment)  \n",
       "0            7.89%             33.33%  \n",
       "1            6.67%            100.00%  \n",
       "2            8.00%             50.00%  \n",
       "3            0.00%              0.00%  \n",
       "4            0.00%              0.00%  "
      ]
     },
     "execution_count": 2,
     "metadata": {},
     "output_type": "execute_result"
    }
   ],
   "source": [
    "file_path = 'dataset.csv'\n",
    "df = pd.read_csv(file_path)\n",
    "df = df.drop(df.columns[-2:], axis=1)\n",
    "df.head()"
   ]
  },
  {
   "cell_type": "code",
   "execution_count": 3,
   "metadata": {},
   "outputs": [
    {
     "data": {
      "text/plain": [
       "date                   object\n",
       "channel_name           object\n",
       "campaign_name          object\n",
       "creative_id            object\n",
       "device_type            object\n",
       "cost_usd              float64\n",
       "impressions             int64\n",
       "clicks                  int64\n",
       "signups                 int64\n",
       "payments                int64\n",
       "ctr                    object\n",
       "cr(click-signup)       object\n",
       "cr(signup-payment)     object\n",
       "dtype: object"
      ]
     },
     "execution_count": 3,
     "metadata": {},
     "output_type": "execute_result"
    }
   ],
   "source": [
    "df.dtypes"
   ]
  },
  {
   "cell_type": "code",
   "execution_count": 4,
   "metadata": {},
   "outputs": [],
   "source": [
    "df['date'] = pd.to_datetime(df['date'], format='%d/%m/%Y')\n",
    "\n",
    "percentage_columns = ['ctr', 'cr(click-signup)', 'cr(signup-payment)']\n",
    "for column in percentage_columns:\n",
    "    # Strip the '%' sign and convert to float\n",
    "    df[column] = df[column].str.rstrip('%').astype(float)/100"
   ]
  },
  {
   "cell_type": "code",
   "execution_count": 5,
   "metadata": {},
   "outputs": [
    {
     "data": {
      "text/html": [
       "<div>\n",
       "<style scoped>\n",
       "    .dataframe tbody tr th:only-of-type {\n",
       "        vertical-align: middle;\n",
       "    }\n",
       "\n",
       "    .dataframe tbody tr th {\n",
       "        vertical-align: top;\n",
       "    }\n",
       "\n",
       "    .dataframe thead th {\n",
       "        text-align: right;\n",
       "    }\n",
       "</style>\n",
       "<table border=\"1\" class=\"dataframe\">\n",
       "  <thead>\n",
       "    <tr style=\"text-align: right;\">\n",
       "      <th></th>\n",
       "      <th>date</th>\n",
       "      <th>channel_name</th>\n",
       "      <th>campaign_name</th>\n",
       "      <th>creative_id</th>\n",
       "      <th>device_type</th>\n",
       "      <th>cost_usd</th>\n",
       "      <th>impressions</th>\n",
       "      <th>clicks</th>\n",
       "      <th>signups</th>\n",
       "      <th>payments</th>\n",
       "      <th>ctr</th>\n",
       "      <th>cr(click-signup)</th>\n",
       "      <th>cr(signup-payment)</th>\n",
       "    </tr>\n",
       "  </thead>\n",
       "  <tbody>\n",
       "    <tr>\n",
       "      <th>0</th>\n",
       "      <td>2024-06-12</td>\n",
       "      <td>Google Search Engine</td>\n",
       "      <td>Awareness Female 35-44</td>\n",
       "      <td>Creative_32</td>\n",
       "      <td>Android</td>\n",
       "      <td>2.335280</td>\n",
       "      <td>719</td>\n",
       "      <td>38</td>\n",
       "      <td>3</td>\n",
       "      <td>1</td>\n",
       "      <td>0.0529</td>\n",
       "      <td>0.0789</td>\n",
       "      <td>0.3333</td>\n",
       "    </tr>\n",
       "    <tr>\n",
       "      <th>1</th>\n",
       "      <td>2024-01-27</td>\n",
       "      <td>YouTube</td>\n",
       "      <td>Remarketing Male 55+</td>\n",
       "      <td>Creative_12</td>\n",
       "      <td>iOS</td>\n",
       "      <td>4.703972</td>\n",
       "      <td>4166</td>\n",
       "      <td>15</td>\n",
       "      <td>1</td>\n",
       "      <td>1</td>\n",
       "      <td>0.0036</td>\n",
       "      <td>0.0667</td>\n",
       "      <td>1.0000</td>\n",
       "    </tr>\n",
       "    <tr>\n",
       "      <th>2</th>\n",
       "      <td>2024-01-09</td>\n",
       "      <td>Google Search Engine</td>\n",
       "      <td>Awareness Male 45-54</td>\n",
       "      <td>Creative_30</td>\n",
       "      <td>iOS</td>\n",
       "      <td>3.018451</td>\n",
       "      <td>1188</td>\n",
       "      <td>25</td>\n",
       "      <td>2</td>\n",
       "      <td>1</td>\n",
       "      <td>0.0210</td>\n",
       "      <td>0.0800</td>\n",
       "      <td>0.5000</td>\n",
       "    </tr>\n",
       "    <tr>\n",
       "      <th>3</th>\n",
       "      <td>2024-01-07</td>\n",
       "      <td>Instagram Stories</td>\n",
       "      <td>Remarketing Male 55+</td>\n",
       "      <td>Creative_54</td>\n",
       "      <td>Android</td>\n",
       "      <td>0.760292</td>\n",
       "      <td>1292</td>\n",
       "      <td>7</td>\n",
       "      <td>0</td>\n",
       "      <td>0</td>\n",
       "      <td>0.0054</td>\n",
       "      <td>0.0000</td>\n",
       "      <td>0.0000</td>\n",
       "    </tr>\n",
       "    <tr>\n",
       "      <th>4</th>\n",
       "      <td>2024-05-30</td>\n",
       "      <td>Google Search Engine</td>\n",
       "      <td>Branding Male 18-24</td>\n",
       "      <td>Creative_98</td>\n",
       "      <td>Desktop</td>\n",
       "      <td>1.167750</td>\n",
       "      <td>700</td>\n",
       "      <td>9</td>\n",
       "      <td>0</td>\n",
       "      <td>0</td>\n",
       "      <td>0.0129</td>\n",
       "      <td>0.0000</td>\n",
       "      <td>0.0000</td>\n",
       "    </tr>\n",
       "  </tbody>\n",
       "</table>\n",
       "</div>"
      ],
      "text/plain": [
       "        date          channel_name           campaign_name  creative_id  \\\n",
       "0 2024-06-12  Google Search Engine  Awareness Female 35-44  Creative_32   \n",
       "1 2024-01-27               YouTube    Remarketing Male 55+  Creative_12   \n",
       "2 2024-01-09  Google Search Engine    Awareness Male 45-54  Creative_30   \n",
       "3 2024-01-07     Instagram Stories    Remarketing Male 55+  Creative_54   \n",
       "4 2024-05-30  Google Search Engine     Branding Male 18-24  Creative_98   \n",
       "\n",
       "  device_type  cost_usd  impressions  clicks  signups  payments     ctr  \\\n",
       "0     Android  2.335280          719      38        3         1  0.0529   \n",
       "1         iOS  4.703972         4166      15        1         1  0.0036   \n",
       "2         iOS  3.018451         1188      25        2         1  0.0210   \n",
       "3     Android  0.760292         1292       7        0         0  0.0054   \n",
       "4     Desktop  1.167750          700       9        0         0  0.0129   \n",
       "\n",
       "   cr(click-signup)  cr(signup-payment)  \n",
       "0            0.0789              0.3333  \n",
       "1            0.0667              1.0000  \n",
       "2            0.0800              0.5000  \n",
       "3            0.0000              0.0000  \n",
       "4            0.0000              0.0000  "
      ]
     },
     "execution_count": 5,
     "metadata": {},
     "output_type": "execute_result"
    }
   ],
   "source": [
    "df.head()"
   ]
  },
  {
   "cell_type": "code",
   "execution_count": 6,
   "metadata": {},
   "outputs": [
    {
     "data": {
      "text/html": [
       "<div>\n",
       "<style scoped>\n",
       "    .dataframe tbody tr th:only-of-type {\n",
       "        vertical-align: middle;\n",
       "    }\n",
       "\n",
       "    .dataframe tbody tr th {\n",
       "        vertical-align: top;\n",
       "    }\n",
       "\n",
       "    .dataframe thead th {\n",
       "        text-align: right;\n",
       "    }\n",
       "</style>\n",
       "<table border=\"1\" class=\"dataframe\">\n",
       "  <thead>\n",
       "    <tr style=\"text-align: right;\">\n",
       "      <th></th>\n",
       "      <th>channel_name</th>\n",
       "      <th>total_cost</th>\n",
       "      <th>total_impressions</th>\n",
       "      <th>total_clicks</th>\n",
       "      <th>signups</th>\n",
       "      <th>payments</th>\n",
       "      <th>CPM</th>\n",
       "      <th>CPC</th>\n",
       "      <th>CPS</th>\n",
       "      <th>CPP</th>\n",
       "    </tr>\n",
       "  </thead>\n",
       "  <tbody>\n",
       "    <tr>\n",
       "      <th>0</th>\n",
       "      <td>Facebook News Feed</td>\n",
       "      <td>2139.618646</td>\n",
       "      <td>535341</td>\n",
       "      <td>15124</td>\n",
       "      <td>869</td>\n",
       "      <td>654</td>\n",
       "      <td>3.996740</td>\n",
       "      <td>0.141472</td>\n",
       "      <td>2.462162</td>\n",
       "      <td>3.271588</td>\n",
       "    </tr>\n",
       "    <tr>\n",
       "      <th>1</th>\n",
       "      <td>Google Search Engine</td>\n",
       "      <td>4836.019245</td>\n",
       "      <td>1068680</td>\n",
       "      <td>44502</td>\n",
       "      <td>3196</td>\n",
       "      <td>1359</td>\n",
       "      <td>4.525227</td>\n",
       "      <td>0.108670</td>\n",
       "      <td>1.513147</td>\n",
       "      <td>3.558513</td>\n",
       "    </tr>\n",
       "    <tr>\n",
       "      <th>2</th>\n",
       "      <td>Instagram Stories</td>\n",
       "      <td>1118.888303</td>\n",
       "      <td>344640</td>\n",
       "      <td>6565</td>\n",
       "      <td>294</td>\n",
       "      <td>289</td>\n",
       "      <td>3.246542</td>\n",
       "      <td>0.170432</td>\n",
       "      <td>3.805743</td>\n",
       "      <td>3.871586</td>\n",
       "    </tr>\n",
       "    <tr>\n",
       "      <th>3</th>\n",
       "      <td>MoPub</td>\n",
       "      <td>559.119707</td>\n",
       "      <td>202883</td>\n",
       "      <td>1591</td>\n",
       "      <td>0</td>\n",
       "      <td>0</td>\n",
       "      <td>2.755873</td>\n",
       "      <td>0.351427</td>\n",
       "      <td>inf</td>\n",
       "      <td>inf</td>\n",
       "    </tr>\n",
       "    <tr>\n",
       "      <th>4</th>\n",
       "      <td>TikTok</td>\n",
       "      <td>532.051920</td>\n",
       "      <td>233068</td>\n",
       "      <td>2039</td>\n",
       "      <td>2</td>\n",
       "      <td>2</td>\n",
       "      <td>2.282818</td>\n",
       "      <td>0.260938</td>\n",
       "      <td>266.025960</td>\n",
       "      <td>266.025960</td>\n",
       "    </tr>\n",
       "    <tr>\n",
       "      <th>5</th>\n",
       "      <td>YouTube</td>\n",
       "      <td>1225.759759</td>\n",
       "      <td>383111</td>\n",
       "      <td>6216</td>\n",
       "      <td>211</td>\n",
       "      <td>210</td>\n",
       "      <td>3.199490</td>\n",
       "      <td>0.197194</td>\n",
       "      <td>5.809288</td>\n",
       "      <td>5.836951</td>\n",
       "    </tr>\n",
       "  </tbody>\n",
       "</table>\n",
       "</div>"
      ],
      "text/plain": [
       "           channel_name   total_cost  total_impressions  total_clicks  \\\n",
       "0    Facebook News Feed  2139.618646             535341         15124   \n",
       "1  Google Search Engine  4836.019245            1068680         44502   \n",
       "2     Instagram Stories  1118.888303             344640          6565   \n",
       "3                 MoPub   559.119707             202883          1591   \n",
       "4                TikTok   532.051920             233068          2039   \n",
       "5               YouTube  1225.759759             383111          6216   \n",
       "\n",
       "   signups  payments       CPM       CPC         CPS         CPP  \n",
       "0      869       654  3.996740  0.141472    2.462162    3.271588  \n",
       "1     3196      1359  4.525227  0.108670    1.513147    3.558513  \n",
       "2      294       289  3.246542  0.170432    3.805743    3.871586  \n",
       "3        0         0  2.755873  0.351427         inf         inf  \n",
       "4        2         2  2.282818  0.260938  266.025960  266.025960  \n",
       "5      211       210  3.199490  0.197194    5.809288    5.836951  "
      ]
     },
     "execution_count": 6,
     "metadata": {},
     "output_type": "execute_result"
    }
   ],
   "source": [
    "channel_summary = df.groupby('channel_name')[['cost_usd', 'impressions','clicks','signups','payments']].sum().reset_index()\n",
    "channel_summary['CPM'] = (channel_summary['cost_usd'] / channel_summary['impressions']) * 1000\n",
    "channel_summary['CPC'] = channel_summary['cost_usd'] / channel_summary['clicks']\n",
    "channel_summary['CPS'] = channel_summary['cost_usd'] / channel_summary['signups']\n",
    "channel_summary['CPP'] = channel_summary['cost_usd'] / channel_summary['payments']\n",
    "channel_summary = channel_summary.rename(columns={'cost_usd': 'total_cost','impressions': 'total_impressions','clicks':'total_clicks'})\n",
    "channel_summary"
   ]
  },
  {
   "cell_type": "code",
   "execution_count": 95,
   "metadata": {},
   "outputs": [],
   "source": [
    "channel_summary.to_csv('channel_summary.csv', index=False)"
   ]
  },
  {
   "cell_type": "code",
   "execution_count": 7,
   "metadata": {},
   "outputs": [
    {
     "name": "stderr",
     "output_type": "stream",
     "text": [
      "C:\\Users\\LYX\\AppData\\Local\\Temp\\ipykernel_10316\\3733338905.py:1: FutureWarning: In a future version of pandas all arguments of StringMethods.split except for the argument 'pat' will be keyword-only.\n",
      "  split_columns = df['campaign_name'].str.split(' ', 2, expand=True)\n"
     ]
    },
    {
     "data": {
      "text/html": [
       "<div>\n",
       "<style scoped>\n",
       "    .dataframe tbody tr th:only-of-type {\n",
       "        vertical-align: middle;\n",
       "    }\n",
       "\n",
       "    .dataframe tbody tr th {\n",
       "        vertical-align: top;\n",
       "    }\n",
       "\n",
       "    .dataframe thead th {\n",
       "        text-align: right;\n",
       "    }\n",
       "</style>\n",
       "<table border=\"1\" class=\"dataframe\">\n",
       "  <thead>\n",
       "    <tr style=\"text-align: right;\">\n",
       "      <th></th>\n",
       "      <th>date</th>\n",
       "      <th>channel_name</th>\n",
       "      <th>campaign_name</th>\n",
       "      <th>creative_id</th>\n",
       "      <th>device_type</th>\n",
       "      <th>cost_usd</th>\n",
       "      <th>impressions</th>\n",
       "      <th>clicks</th>\n",
       "      <th>signups</th>\n",
       "      <th>payments</th>\n",
       "      <th>ctr</th>\n",
       "      <th>cr(click-signup)</th>\n",
       "      <th>cr(signup-payment)</th>\n",
       "      <th>objective</th>\n",
       "      <th>gender</th>\n",
       "      <th>age</th>\n",
       "    </tr>\n",
       "  </thead>\n",
       "  <tbody>\n",
       "    <tr>\n",
       "      <th>0</th>\n",
       "      <td>2024-06-12</td>\n",
       "      <td>Google Search Engine</td>\n",
       "      <td>Awareness Female 35-44</td>\n",
       "      <td>Creative_32</td>\n",
       "      <td>Android</td>\n",
       "      <td>2.335280</td>\n",
       "      <td>719</td>\n",
       "      <td>38</td>\n",
       "      <td>3</td>\n",
       "      <td>1</td>\n",
       "      <td>0.0529</td>\n",
       "      <td>0.0789</td>\n",
       "      <td>0.3333</td>\n",
       "      <td>Awareness</td>\n",
       "      <td>Female</td>\n",
       "      <td>35-44</td>\n",
       "    </tr>\n",
       "    <tr>\n",
       "      <th>1</th>\n",
       "      <td>2024-01-27</td>\n",
       "      <td>YouTube</td>\n",
       "      <td>Remarketing Male 55+</td>\n",
       "      <td>Creative_12</td>\n",
       "      <td>iOS</td>\n",
       "      <td>4.703972</td>\n",
       "      <td>4166</td>\n",
       "      <td>15</td>\n",
       "      <td>1</td>\n",
       "      <td>1</td>\n",
       "      <td>0.0036</td>\n",
       "      <td>0.0667</td>\n",
       "      <td>1.0000</td>\n",
       "      <td>Remarketing</td>\n",
       "      <td>Male</td>\n",
       "      <td>55+</td>\n",
       "    </tr>\n",
       "    <tr>\n",
       "      <th>2</th>\n",
       "      <td>2024-01-09</td>\n",
       "      <td>Google Search Engine</td>\n",
       "      <td>Awareness Male 45-54</td>\n",
       "      <td>Creative_30</td>\n",
       "      <td>iOS</td>\n",
       "      <td>3.018451</td>\n",
       "      <td>1188</td>\n",
       "      <td>25</td>\n",
       "      <td>2</td>\n",
       "      <td>1</td>\n",
       "      <td>0.0210</td>\n",
       "      <td>0.0800</td>\n",
       "      <td>0.5000</td>\n",
       "      <td>Awareness</td>\n",
       "      <td>Male</td>\n",
       "      <td>45-54</td>\n",
       "    </tr>\n",
       "    <tr>\n",
       "      <th>3</th>\n",
       "      <td>2024-01-07</td>\n",
       "      <td>Instagram Stories</td>\n",
       "      <td>Remarketing Male 55+</td>\n",
       "      <td>Creative_54</td>\n",
       "      <td>Android</td>\n",
       "      <td>0.760292</td>\n",
       "      <td>1292</td>\n",
       "      <td>7</td>\n",
       "      <td>0</td>\n",
       "      <td>0</td>\n",
       "      <td>0.0054</td>\n",
       "      <td>0.0000</td>\n",
       "      <td>0.0000</td>\n",
       "      <td>Remarketing</td>\n",
       "      <td>Male</td>\n",
       "      <td>55+</td>\n",
       "    </tr>\n",
       "    <tr>\n",
       "      <th>4</th>\n",
       "      <td>2024-05-30</td>\n",
       "      <td>Google Search Engine</td>\n",
       "      <td>Branding Male 18-24</td>\n",
       "      <td>Creative_98</td>\n",
       "      <td>Desktop</td>\n",
       "      <td>1.167750</td>\n",
       "      <td>700</td>\n",
       "      <td>9</td>\n",
       "      <td>0</td>\n",
       "      <td>0</td>\n",
       "      <td>0.0129</td>\n",
       "      <td>0.0000</td>\n",
       "      <td>0.0000</td>\n",
       "      <td>Branding</td>\n",
       "      <td>Male</td>\n",
       "      <td>18-24</td>\n",
       "    </tr>\n",
       "  </tbody>\n",
       "</table>\n",
       "</div>"
      ],
      "text/plain": [
       "        date          channel_name           campaign_name  creative_id  \\\n",
       "0 2024-06-12  Google Search Engine  Awareness Female 35-44  Creative_32   \n",
       "1 2024-01-27               YouTube    Remarketing Male 55+  Creative_12   \n",
       "2 2024-01-09  Google Search Engine    Awareness Male 45-54  Creative_30   \n",
       "3 2024-01-07     Instagram Stories    Remarketing Male 55+  Creative_54   \n",
       "4 2024-05-30  Google Search Engine     Branding Male 18-24  Creative_98   \n",
       "\n",
       "  device_type  cost_usd  impressions  clicks  signups  payments     ctr  \\\n",
       "0     Android  2.335280          719      38        3         1  0.0529   \n",
       "1         iOS  4.703972         4166      15        1         1  0.0036   \n",
       "2         iOS  3.018451         1188      25        2         1  0.0210   \n",
       "3     Android  0.760292         1292       7        0         0  0.0054   \n",
       "4     Desktop  1.167750          700       9        0         0  0.0129   \n",
       "\n",
       "   cr(click-signup)  cr(signup-payment)    objective  gender    age  \n",
       "0            0.0789              0.3333    Awareness  Female  35-44  \n",
       "1            0.0667              1.0000  Remarketing    Male    55+  \n",
       "2            0.0800              0.5000    Awareness    Male  45-54  \n",
       "3            0.0000              0.0000  Remarketing    Male    55+  \n",
       "4            0.0000              0.0000     Branding    Male  18-24  "
      ]
     },
     "execution_count": 7,
     "metadata": {},
     "output_type": "execute_result"
    }
   ],
   "source": [
    "split_columns = df['campaign_name'].str.split(' ', 2, expand=True)\n",
    "split_columns.columns = ['objective', 'gender', 'age']\n",
    "expanded_df = df.join(split_columns)\n",
    "expanded_df.head()"
   ]
  },
  {
   "cell_type": "code",
   "execution_count": 8,
   "metadata": {},
   "outputs": [
    {
     "data": {
      "text/html": [
       "<div>\n",
       "<style scoped>\n",
       "    .dataframe tbody tr th:only-of-type {\n",
       "        vertical-align: middle;\n",
       "    }\n",
       "\n",
       "    .dataframe tbody tr th {\n",
       "        vertical-align: top;\n",
       "    }\n",
       "\n",
       "    .dataframe thead th {\n",
       "        text-align: right;\n",
       "    }\n",
       "</style>\n",
       "<table border=\"1\" class=\"dataframe\">\n",
       "  <thead>\n",
       "    <tr style=\"text-align: right;\">\n",
       "      <th></th>\n",
       "      <th>objective</th>\n",
       "      <th>channel_name</th>\n",
       "      <th>device_type</th>\n",
       "      <th>cost_usd</th>\n",
       "      <th>impressions</th>\n",
       "      <th>clicks</th>\n",
       "      <th>signups</th>\n",
       "      <th>payments</th>\n",
       "    </tr>\n",
       "  </thead>\n",
       "  <tbody>\n",
       "    <tr>\n",
       "      <th>0</th>\n",
       "      <td>Awareness</td>\n",
       "      <td>Facebook News Feed</td>\n",
       "      <td>Android</td>\n",
       "      <td>237.677213</td>\n",
       "      <td>63958</td>\n",
       "      <td>1772</td>\n",
       "      <td>114</td>\n",
       "      <td>82</td>\n",
       "    </tr>\n",
       "    <tr>\n",
       "      <th>1</th>\n",
       "      <td>Awareness</td>\n",
       "      <td>Facebook News Feed</td>\n",
       "      <td>Desktop</td>\n",
       "      <td>61.017573</td>\n",
       "      <td>11505</td>\n",
       "      <td>373</td>\n",
       "      <td>4</td>\n",
       "      <td>4</td>\n",
       "    </tr>\n",
       "    <tr>\n",
       "      <th>2</th>\n",
       "      <td>Awareness</td>\n",
       "      <td>Facebook News Feed</td>\n",
       "      <td>iOS</td>\n",
       "      <td>201.270655</td>\n",
       "      <td>50651</td>\n",
       "      <td>1452</td>\n",
       "      <td>95</td>\n",
       "      <td>74</td>\n",
       "    </tr>\n",
       "    <tr>\n",
       "      <th>3</th>\n",
       "      <td>Awareness</td>\n",
       "      <td>Google Search Engine</td>\n",
       "      <td>Android</td>\n",
       "      <td>508.990768</td>\n",
       "      <td>107483</td>\n",
       "      <td>4785</td>\n",
       "      <td>358</td>\n",
       "      <td>138</td>\n",
       "    </tr>\n",
       "    <tr>\n",
       "      <th>4</th>\n",
       "      <td>Awareness</td>\n",
       "      <td>Google Search Engine</td>\n",
       "      <td>Desktop</td>\n",
       "      <td>132.214653</td>\n",
       "      <td>30180</td>\n",
       "      <td>1154</td>\n",
       "      <td>44</td>\n",
       "      <td>41</td>\n",
       "    </tr>\n",
       "    <tr>\n",
       "      <th>...</th>\n",
       "      <td>...</td>\n",
       "      <td>...</td>\n",
       "      <td>...</td>\n",
       "      <td>...</td>\n",
       "      <td>...</td>\n",
       "      <td>...</td>\n",
       "      <td>...</td>\n",
       "      <td>...</td>\n",
       "    </tr>\n",
       "    <tr>\n",
       "      <th>67</th>\n",
       "      <td>Remarketing</td>\n",
       "      <td>TikTok</td>\n",
       "      <td>Desktop</td>\n",
       "      <td>18.218244</td>\n",
       "      <td>6475</td>\n",
       "      <td>62</td>\n",
       "      <td>0</td>\n",
       "      <td>0</td>\n",
       "    </tr>\n",
       "    <tr>\n",
       "      <th>68</th>\n",
       "      <td>Remarketing</td>\n",
       "      <td>TikTok</td>\n",
       "      <td>iOS</td>\n",
       "      <td>51.888233</td>\n",
       "      <td>23173</td>\n",
       "      <td>198</td>\n",
       "      <td>0</td>\n",
       "      <td>0</td>\n",
       "    </tr>\n",
       "    <tr>\n",
       "      <th>69</th>\n",
       "      <td>Remarketing</td>\n",
       "      <td>YouTube</td>\n",
       "      <td>Android</td>\n",
       "      <td>145.389652</td>\n",
       "      <td>42877</td>\n",
       "      <td>764</td>\n",
       "      <td>32</td>\n",
       "      <td>32</td>\n",
       "    </tr>\n",
       "    <tr>\n",
       "      <th>70</th>\n",
       "      <td>Remarketing</td>\n",
       "      <td>YouTube</td>\n",
       "      <td>Desktop</td>\n",
       "      <td>33.789478</td>\n",
       "      <td>22849</td>\n",
       "      <td>151</td>\n",
       "      <td>0</td>\n",
       "      <td>0</td>\n",
       "    </tr>\n",
       "    <tr>\n",
       "      <th>71</th>\n",
       "      <td>Remarketing</td>\n",
       "      <td>YouTube</td>\n",
       "      <td>iOS</td>\n",
       "      <td>143.166676</td>\n",
       "      <td>49724</td>\n",
       "      <td>722</td>\n",
       "      <td>28</td>\n",
       "      <td>28</td>\n",
       "    </tr>\n",
       "  </tbody>\n",
       "</table>\n",
       "<p>72 rows × 8 columns</p>\n",
       "</div>"
      ],
      "text/plain": [
       "      objective          channel_name device_type    cost_usd  impressions  \\\n",
       "0     Awareness    Facebook News Feed     Android  237.677213        63958   \n",
       "1     Awareness    Facebook News Feed     Desktop   61.017573        11505   \n",
       "2     Awareness    Facebook News Feed         iOS  201.270655        50651   \n",
       "3     Awareness  Google Search Engine     Android  508.990768       107483   \n",
       "4     Awareness  Google Search Engine     Desktop  132.214653        30180   \n",
       "..          ...                   ...         ...         ...          ...   \n",
       "67  Remarketing                TikTok     Desktop   18.218244         6475   \n",
       "68  Remarketing                TikTok         iOS   51.888233        23173   \n",
       "69  Remarketing               YouTube     Android  145.389652        42877   \n",
       "70  Remarketing               YouTube     Desktop   33.789478        22849   \n",
       "71  Remarketing               YouTube         iOS  143.166676        49724   \n",
       "\n",
       "    clicks  signups  payments  \n",
       "0     1772      114        82  \n",
       "1      373        4         4  \n",
       "2     1452       95        74  \n",
       "3     4785      358       138  \n",
       "4     1154       44        41  \n",
       "..     ...      ...       ...  \n",
       "67      62        0         0  \n",
       "68     198        0         0  \n",
       "69     764       32        32  \n",
       "70     151        0         0  \n",
       "71     722       28        28  \n",
       "\n",
       "[72 rows x 8 columns]"
      ]
     },
     "execution_count": 8,
     "metadata": {},
     "output_type": "execute_result"
    }
   ],
   "source": [
    "pivot_table = expanded_df.groupby(['objective', 'channel_name', 'device_type'])[['cost_usd','impressions', 'clicks', 'signups', 'payments']].sum().reset_index()\n",
    "pivot_table"
   ]
  },
  {
   "cell_type": "code",
   "execution_count": 53,
   "metadata": {},
   "outputs": [
    {
     "data": {
      "text/html": [
       "<div>\n",
       "<style scoped>\n",
       "    .dataframe tbody tr th:only-of-type {\n",
       "        vertical-align: middle;\n",
       "    }\n",
       "\n",
       "    .dataframe tbody tr th {\n",
       "        vertical-align: top;\n",
       "    }\n",
       "\n",
       "    .dataframe thead th {\n",
       "        text-align: right;\n",
       "    }\n",
       "</style>\n",
       "<table border=\"1\" class=\"dataframe\">\n",
       "  <thead>\n",
       "    <tr style=\"text-align: right;\">\n",
       "      <th></th>\n",
       "      <th>objective</th>\n",
       "      <th>channel_name</th>\n",
       "      <th>device_type</th>\n",
       "      <th>cost_usd</th>\n",
       "      <th>impressions</th>\n",
       "      <th>clicks</th>\n",
       "      <th>signups</th>\n",
       "      <th>payments</th>\n",
       "      <th>CPM</th>\n",
       "      <th>CTR</th>\n",
       "      <th>CPC</th>\n",
       "      <th>CPS</th>\n",
       "      <th>CPP</th>\n",
       "      <th>cr2</th>\n",
       "      <th>cr3</th>\n",
       "    </tr>\n",
       "  </thead>\n",
       "  <tbody>\n",
       "    <tr>\n",
       "      <th>0</th>\n",
       "      <td>Awareness</td>\n",
       "      <td>Facebook News Feed</td>\n",
       "      <td>Android</td>\n",
       "      <td>237.677213</td>\n",
       "      <td>63958</td>\n",
       "      <td>1772</td>\n",
       "      <td>114</td>\n",
       "      <td>82</td>\n",
       "      <td>3.716145</td>\n",
       "      <td>0.027706</td>\n",
       "      <td>0.134129</td>\n",
       "      <td>2.084888</td>\n",
       "      <td>2.898503</td>\n",
       "      <td>0.064334</td>\n",
       "      <td>0.719298</td>\n",
       "    </tr>\n",
       "    <tr>\n",
       "      <th>1</th>\n",
       "      <td>Awareness</td>\n",
       "      <td>Facebook News Feed</td>\n",
       "      <td>Desktop</td>\n",
       "      <td>61.017573</td>\n",
       "      <td>11505</td>\n",
       "      <td>373</td>\n",
       "      <td>4</td>\n",
       "      <td>4</td>\n",
       "      <td>5.303570</td>\n",
       "      <td>0.032421</td>\n",
       "      <td>0.163586</td>\n",
       "      <td>15.254393</td>\n",
       "      <td>15.254393</td>\n",
       "      <td>0.010724</td>\n",
       "      <td>1.000000</td>\n",
       "    </tr>\n",
       "    <tr>\n",
       "      <th>2</th>\n",
       "      <td>Awareness</td>\n",
       "      <td>Facebook News Feed</td>\n",
       "      <td>iOS</td>\n",
       "      <td>201.270655</td>\n",
       "      <td>50651</td>\n",
       "      <td>1452</td>\n",
       "      <td>95</td>\n",
       "      <td>74</td>\n",
       "      <td>3.973676</td>\n",
       "      <td>0.028667</td>\n",
       "      <td>0.138616</td>\n",
       "      <td>2.118638</td>\n",
       "      <td>2.719874</td>\n",
       "      <td>0.065427</td>\n",
       "      <td>0.778947</td>\n",
       "    </tr>\n",
       "    <tr>\n",
       "      <th>3</th>\n",
       "      <td>Awareness</td>\n",
       "      <td>Google Search Engine</td>\n",
       "      <td>Android</td>\n",
       "      <td>508.990768</td>\n",
       "      <td>107483</td>\n",
       "      <td>4785</td>\n",
       "      <td>358</td>\n",
       "      <td>138</td>\n",
       "      <td>4.735547</td>\n",
       "      <td>0.044519</td>\n",
       "      <td>0.106372</td>\n",
       "      <td>1.421762</td>\n",
       "      <td>3.688339</td>\n",
       "      <td>0.074817</td>\n",
       "      <td>0.385475</td>\n",
       "    </tr>\n",
       "    <tr>\n",
       "      <th>4</th>\n",
       "      <td>Awareness</td>\n",
       "      <td>Google Search Engine</td>\n",
       "      <td>Desktop</td>\n",
       "      <td>132.214653</td>\n",
       "      <td>30180</td>\n",
       "      <td>1154</td>\n",
       "      <td>44</td>\n",
       "      <td>41</td>\n",
       "      <td>4.380870</td>\n",
       "      <td>0.038237</td>\n",
       "      <td>0.114571</td>\n",
       "      <td>3.004878</td>\n",
       "      <td>3.224748</td>\n",
       "      <td>0.038128</td>\n",
       "      <td>0.931818</td>\n",
       "    </tr>\n",
       "    <tr>\n",
       "      <th>...</th>\n",
       "      <td>...</td>\n",
       "      <td>...</td>\n",
       "      <td>...</td>\n",
       "      <td>...</td>\n",
       "      <td>...</td>\n",
       "      <td>...</td>\n",
       "      <td>...</td>\n",
       "      <td>...</td>\n",
       "      <td>...</td>\n",
       "      <td>...</td>\n",
       "      <td>...</td>\n",
       "      <td>...</td>\n",
       "      <td>...</td>\n",
       "      <td>...</td>\n",
       "      <td>...</td>\n",
       "    </tr>\n",
       "    <tr>\n",
       "      <th>67</th>\n",
       "      <td>Remarketing</td>\n",
       "      <td>TikTok</td>\n",
       "      <td>Desktop</td>\n",
       "      <td>18.218244</td>\n",
       "      <td>6475</td>\n",
       "      <td>62</td>\n",
       "      <td>0</td>\n",
       "      <td>0</td>\n",
       "      <td>2.813628</td>\n",
       "      <td>0.009575</td>\n",
       "      <td>0.293843</td>\n",
       "      <td>inf</td>\n",
       "      <td>inf</td>\n",
       "      <td>0.000000</td>\n",
       "      <td>NaN</td>\n",
       "    </tr>\n",
       "    <tr>\n",
       "      <th>68</th>\n",
       "      <td>Remarketing</td>\n",
       "      <td>TikTok</td>\n",
       "      <td>iOS</td>\n",
       "      <td>51.888233</td>\n",
       "      <td>23173</td>\n",
       "      <td>198</td>\n",
       "      <td>0</td>\n",
       "      <td>0</td>\n",
       "      <td>2.239168</td>\n",
       "      <td>0.008544</td>\n",
       "      <td>0.262062</td>\n",
       "      <td>inf</td>\n",
       "      <td>inf</td>\n",
       "      <td>0.000000</td>\n",
       "      <td>NaN</td>\n",
       "    </tr>\n",
       "    <tr>\n",
       "      <th>69</th>\n",
       "      <td>Remarketing</td>\n",
       "      <td>YouTube</td>\n",
       "      <td>Android</td>\n",
       "      <td>145.389652</td>\n",
       "      <td>42877</td>\n",
       "      <td>764</td>\n",
       "      <td>32</td>\n",
       "      <td>32</td>\n",
       "      <td>3.390854</td>\n",
       "      <td>0.017818</td>\n",
       "      <td>0.190301</td>\n",
       "      <td>4.543427</td>\n",
       "      <td>4.543427</td>\n",
       "      <td>0.041885</td>\n",
       "      <td>1.000000</td>\n",
       "    </tr>\n",
       "    <tr>\n",
       "      <th>70</th>\n",
       "      <td>Remarketing</td>\n",
       "      <td>YouTube</td>\n",
       "      <td>Desktop</td>\n",
       "      <td>33.789478</td>\n",
       "      <td>22849</td>\n",
       "      <td>151</td>\n",
       "      <td>0</td>\n",
       "      <td>0</td>\n",
       "      <td>1.478817</td>\n",
       "      <td>0.006609</td>\n",
       "      <td>0.223771</td>\n",
       "      <td>inf</td>\n",
       "      <td>inf</td>\n",
       "      <td>0.000000</td>\n",
       "      <td>NaN</td>\n",
       "    </tr>\n",
       "    <tr>\n",
       "      <th>71</th>\n",
       "      <td>Remarketing</td>\n",
       "      <td>YouTube</td>\n",
       "      <td>iOS</td>\n",
       "      <td>143.166676</td>\n",
       "      <td>49724</td>\n",
       "      <td>722</td>\n",
       "      <td>28</td>\n",
       "      <td>28</td>\n",
       "      <td>2.879227</td>\n",
       "      <td>0.014520</td>\n",
       "      <td>0.198292</td>\n",
       "      <td>5.113096</td>\n",
       "      <td>5.113096</td>\n",
       "      <td>0.038781</td>\n",
       "      <td>1.000000</td>\n",
       "    </tr>\n",
       "  </tbody>\n",
       "</table>\n",
       "<p>72 rows × 15 columns</p>\n",
       "</div>"
      ],
      "text/plain": [
       "      objective          channel_name device_type    cost_usd  impressions  \\\n",
       "0     Awareness    Facebook News Feed     Android  237.677213        63958   \n",
       "1     Awareness    Facebook News Feed     Desktop   61.017573        11505   \n",
       "2     Awareness    Facebook News Feed         iOS  201.270655        50651   \n",
       "3     Awareness  Google Search Engine     Android  508.990768       107483   \n",
       "4     Awareness  Google Search Engine     Desktop  132.214653        30180   \n",
       "..          ...                   ...         ...         ...          ...   \n",
       "67  Remarketing                TikTok     Desktop   18.218244         6475   \n",
       "68  Remarketing                TikTok         iOS   51.888233        23173   \n",
       "69  Remarketing               YouTube     Android  145.389652        42877   \n",
       "70  Remarketing               YouTube     Desktop   33.789478        22849   \n",
       "71  Remarketing               YouTube         iOS  143.166676        49724   \n",
       "\n",
       "    clicks  signups  payments       CPM       CTR       CPC        CPS  \\\n",
       "0     1772      114        82  3.716145  0.027706  0.134129   2.084888   \n",
       "1      373        4         4  5.303570  0.032421  0.163586  15.254393   \n",
       "2     1452       95        74  3.973676  0.028667  0.138616   2.118638   \n",
       "3     4785      358       138  4.735547  0.044519  0.106372   1.421762   \n",
       "4     1154       44        41  4.380870  0.038237  0.114571   3.004878   \n",
       "..     ...      ...       ...       ...       ...       ...        ...   \n",
       "67      62        0         0  2.813628  0.009575  0.293843        inf   \n",
       "68     198        0         0  2.239168  0.008544  0.262062        inf   \n",
       "69     764       32        32  3.390854  0.017818  0.190301   4.543427   \n",
       "70     151        0         0  1.478817  0.006609  0.223771        inf   \n",
       "71     722       28        28  2.879227  0.014520  0.198292   5.113096   \n",
       "\n",
       "          CPP       cr2       cr3  \n",
       "0    2.898503  0.064334  0.719298  \n",
       "1   15.254393  0.010724  1.000000  \n",
       "2    2.719874  0.065427  0.778947  \n",
       "3    3.688339  0.074817  0.385475  \n",
       "4    3.224748  0.038128  0.931818  \n",
       "..        ...       ...       ...  \n",
       "67        inf  0.000000       NaN  \n",
       "68        inf  0.000000       NaN  \n",
       "69   4.543427  0.041885  1.000000  \n",
       "70        inf  0.000000       NaN  \n",
       "71   5.113096  0.038781  1.000000  \n",
       "\n",
       "[72 rows x 15 columns]"
      ]
     },
     "execution_count": 53,
     "metadata": {},
     "output_type": "execute_result"
    }
   ],
   "source": [
    "pivot_table['CPM'] = (pivot_table['cost_usd'] / pivot_table['impressions']) * 1000\n",
    "pivot_table['CTR'] = (pivot_table['clicks'] / pivot_table['impressions']) \n",
    "pivot_table['CPC'] = (pivot_table['cost_usd'] / pivot_table['clicks']) \n",
    "pivot_table['CPS'] = (pivot_table['cost_usd'] / pivot_table['signups']) \n",
    "pivot_table['CPP'] = (pivot_table['cost_usd'] / pivot_table['payments']) \n",
    "pivot_table['cr2'] = (pivot_table['signups'] / pivot_table['clicks'])\n",
    "pivot_table['cr3'] = (pivot_table['payments'] / pivot_table['signups'])\n",
    "pivot_table"
   ]
  },
  {
   "cell_type": "code",
   "execution_count": 38,
   "metadata": {},
   "outputs": [
    {
     "data": {
      "text/html": [
       "<div>\n",
       "<style scoped>\n",
       "    .dataframe tbody tr th:only-of-type {\n",
       "        vertical-align: middle;\n",
       "    }\n",
       "\n",
       "    .dataframe tbody tr th {\n",
       "        vertical-align: top;\n",
       "    }\n",
       "\n",
       "    .dataframe thead th {\n",
       "        text-align: right;\n",
       "    }\n",
       "</style>\n",
       "<table border=\"1\" class=\"dataframe\">\n",
       "  <thead>\n",
       "    <tr style=\"text-align: right;\">\n",
       "      <th></th>\n",
       "      <th>objective</th>\n",
       "      <th>channel_name</th>\n",
       "      <th>device_type</th>\n",
       "      <th>metric</th>\n",
       "      <th>value</th>\n",
       "    </tr>\n",
       "  </thead>\n",
       "  <tbody>\n",
       "    <tr>\n",
       "      <th>0</th>\n",
       "      <td>Awareness</td>\n",
       "      <td>Facebook News Feed</td>\n",
       "      <td>Android</td>\n",
       "      <td>impressions</td>\n",
       "      <td>63958</td>\n",
       "    </tr>\n",
       "    <tr>\n",
       "      <th>1</th>\n",
       "      <td>Awareness</td>\n",
       "      <td>Facebook News Feed</td>\n",
       "      <td>Desktop</td>\n",
       "      <td>impressions</td>\n",
       "      <td>11505</td>\n",
       "    </tr>\n",
       "    <tr>\n",
       "      <th>2</th>\n",
       "      <td>Awareness</td>\n",
       "      <td>Facebook News Feed</td>\n",
       "      <td>iOS</td>\n",
       "      <td>impressions</td>\n",
       "      <td>50651</td>\n",
       "    </tr>\n",
       "    <tr>\n",
       "      <th>3</th>\n",
       "      <td>Awareness</td>\n",
       "      <td>Google Search Engine</td>\n",
       "      <td>Android</td>\n",
       "      <td>impressions</td>\n",
       "      <td>107483</td>\n",
       "    </tr>\n",
       "    <tr>\n",
       "      <th>4</th>\n",
       "      <td>Awareness</td>\n",
       "      <td>Google Search Engine</td>\n",
       "      <td>Desktop</td>\n",
       "      <td>impressions</td>\n",
       "      <td>30180</td>\n",
       "    </tr>\n",
       "    <tr>\n",
       "      <th>...</th>\n",
       "      <td>...</td>\n",
       "      <td>...</td>\n",
       "      <td>...</td>\n",
       "      <td>...</td>\n",
       "      <td>...</td>\n",
       "    </tr>\n",
       "    <tr>\n",
       "      <th>283</th>\n",
       "      <td>Remarketing</td>\n",
       "      <td>TikTok</td>\n",
       "      <td>Desktop</td>\n",
       "      <td>payments</td>\n",
       "      <td>0</td>\n",
       "    </tr>\n",
       "    <tr>\n",
       "      <th>284</th>\n",
       "      <td>Remarketing</td>\n",
       "      <td>TikTok</td>\n",
       "      <td>iOS</td>\n",
       "      <td>payments</td>\n",
       "      <td>0</td>\n",
       "    </tr>\n",
       "    <tr>\n",
       "      <th>285</th>\n",
       "      <td>Remarketing</td>\n",
       "      <td>YouTube</td>\n",
       "      <td>Android</td>\n",
       "      <td>payments</td>\n",
       "      <td>32</td>\n",
       "    </tr>\n",
       "    <tr>\n",
       "      <th>286</th>\n",
       "      <td>Remarketing</td>\n",
       "      <td>YouTube</td>\n",
       "      <td>Desktop</td>\n",
       "      <td>payments</td>\n",
       "      <td>0</td>\n",
       "    </tr>\n",
       "    <tr>\n",
       "      <th>287</th>\n",
       "      <td>Remarketing</td>\n",
       "      <td>YouTube</td>\n",
       "      <td>iOS</td>\n",
       "      <td>payments</td>\n",
       "      <td>28</td>\n",
       "    </tr>\n",
       "  </tbody>\n",
       "</table>\n",
       "<p>288 rows × 5 columns</p>\n",
       "</div>"
      ],
      "text/plain": [
       "       objective          channel_name device_type       metric   value\n",
       "0      Awareness    Facebook News Feed     Android  impressions   63958\n",
       "1      Awareness    Facebook News Feed     Desktop  impressions   11505\n",
       "2      Awareness    Facebook News Feed         iOS  impressions   50651\n",
       "3      Awareness  Google Search Engine     Android  impressions  107483\n",
       "4      Awareness  Google Search Engine     Desktop  impressions   30180\n",
       "..           ...                   ...         ...          ...     ...\n",
       "283  Remarketing                TikTok     Desktop     payments       0\n",
       "284  Remarketing                TikTok         iOS     payments       0\n",
       "285  Remarketing               YouTube     Android     payments      32\n",
       "286  Remarketing               YouTube     Desktop     payments       0\n",
       "287  Remarketing               YouTube         iOS     payments      28\n",
       "\n",
       "[288 rows x 5 columns]"
      ]
     },
     "execution_count": 38,
     "metadata": {},
     "output_type": "execute_result"
    }
   ],
   "source": [
    "melted_df = pivot_table.melt(id_vars=['objective', 'channel_name', 'device_type'], \n",
    "                     value_vars=['impressions', 'clicks', 'signups', 'payments'],\n",
    "                     var_name='metric',\n",
    "                     value_name='value')\n",
    "melted_df"
   ]
  },
  {
   "cell_type": "code",
   "execution_count": 40,
   "metadata": {},
   "outputs": [
    {
     "data": {
      "application/vnd.plotly.v1+json": {
       "config": {
        "plotlyServerURL": "https://plot.ly"
       },
       "data": [
        {
         "alignmentgroup": "True",
         "hovertemplate": "channel_name=Facebook News Feed<br>objective=Awareness<br>metric=%{x}<br>Count=%{text}<extra></extra>",
         "legendgroup": "Facebook News Feed",
         "marker": {
          "color": "#636efa",
          "pattern": {
           "shape": ""
          }
         },
         "name": "Facebook News Feed",
         "offsetgroup": "Facebook News Feed",
         "orientation": "v",
         "showlegend": true,
         "text": [
          63958,
          11505,
          50651,
          1772,
          373,
          1452,
          114,
          4,
          95,
          82,
          4,
          74
         ],
         "textfont": {
          "size": 10
         },
         "textposition": "inside",
         "texttemplate": "%{text:.0f}",
         "type": "bar",
         "x": [
          "impressions",
          "impressions",
          "impressions",
          "clicks",
          "clicks",
          "clicks",
          "signups",
          "signups",
          "signups",
          "payments",
          "payments",
          "payments"
         ],
         "xaxis": "x",
         "y": [
          63958,
          11505,
          50651,
          1772,
          373,
          1452,
          114,
          4,
          95,
          82,
          4,
          74
         ],
         "yaxis": "y"
        },
        {
         "alignmentgroup": "True",
         "hovertemplate": "channel_name=Facebook News Feed<br>objective=Branding<br>metric=%{x}<br>Count=%{text}<extra></extra>",
         "legendgroup": "Facebook News Feed",
         "marker": {
          "color": "#636efa",
          "pattern": {
           "shape": ""
          }
         },
         "name": "Facebook News Feed",
         "offsetgroup": "Facebook News Feed",
         "orientation": "v",
         "showlegend": false,
         "text": [
          53621,
          15516,
          46125,
          1588,
          418,
          1546,
          91,
          3,
          103,
          74,
          3,
          74
         ],
         "textfont": {
          "size": 10
         },
         "textposition": "inside",
         "texttemplate": "%{text:.0f}",
         "type": "bar",
         "x": [
          "impressions",
          "impressions",
          "impressions",
          "clicks",
          "clicks",
          "clicks",
          "signups",
          "signups",
          "signups",
          "payments",
          "payments",
          "payments"
         ],
         "xaxis": "x2",
         "y": [
          53621,
          15516,
          46125,
          1588,
          418,
          1546,
          91,
          3,
          103,
          74,
          3,
          74
         ],
         "yaxis": "y2"
        },
        {
         "alignmentgroup": "True",
         "hovertemplate": "channel_name=Facebook News Feed<br>objective=Prospecting<br>metric=%{x}<br>Count=%{text}<extra></extra>",
         "legendgroup": "Facebook News Feed",
         "marker": {
          "color": "#636efa",
          "pattern": {
           "shape": ""
          }
         },
         "name": "Facebook News Feed",
         "offsetgroup": "Facebook News Feed",
         "orientation": "v",
         "showlegend": false,
         "text": [
          59782,
          20230,
          69300,
          1586,
          419,
          1921,
          93,
          1,
          127,
          77,
          1,
          89
         ],
         "textfont": {
          "size": 10
         },
         "textposition": "inside",
         "texttemplate": "%{text:.0f}",
         "type": "bar",
         "x": [
          "impressions",
          "impressions",
          "impressions",
          "clicks",
          "clicks",
          "clicks",
          "signups",
          "signups",
          "signups",
          "payments",
          "payments",
          "payments"
         ],
         "xaxis": "x3",
         "y": [
          59782,
          20230,
          69300,
          1586,
          419,
          1921,
          93,
          1,
          127,
          77,
          1,
          89
         ],
         "yaxis": "y3"
        },
        {
         "alignmentgroup": "True",
         "hovertemplate": "channel_name=Facebook News Feed<br>objective=Remarketing<br>metric=%{x}<br>Count=%{text}<extra></extra>",
         "legendgroup": "Facebook News Feed",
         "marker": {
          "color": "#636efa",
          "pattern": {
           "shape": ""
          }
         },
         "name": "Facebook News Feed",
         "offsetgroup": "Facebook News Feed",
         "orientation": "v",
         "showlegend": false,
         "text": [
          64305,
          16763,
          63585,
          1774,
          346,
          1929,
          108,
          4,
          126,
          78,
          4,
          94
         ],
         "textfont": {
          "size": 10
         },
         "textposition": "inside",
         "texttemplate": "%{text:.0f}",
         "type": "bar",
         "x": [
          "impressions",
          "impressions",
          "impressions",
          "clicks",
          "clicks",
          "clicks",
          "signups",
          "signups",
          "signups",
          "payments",
          "payments",
          "payments"
         ],
         "xaxis": "x4",
         "y": [
          64305,
          16763,
          63585,
          1774,
          346,
          1929,
          108,
          4,
          126,
          78,
          4,
          94
         ],
         "yaxis": "y4"
        },
        {
         "alignmentgroup": "True",
         "hovertemplate": "channel_name=Google Search Engine<br>objective=Awareness<br>metric=%{x}<br>Count=%{text}<extra></extra>",
         "legendgroup": "Google Search Engine",
         "marker": {
          "color": "#EF553B",
          "pattern": {
           "shape": ""
          }
         },
         "name": "Google Search Engine",
         "offsetgroup": "Google Search Engine",
         "orientation": "v",
         "showlegend": true,
         "text": [
          107483,
          30180,
          121623,
          4785,
          1154,
          4907,
          358,
          44,
          373,
          138,
          41,
          147
         ],
         "textfont": {
          "size": 10
         },
         "textposition": "inside",
         "texttemplate": "%{text:.0f}",
         "type": "bar",
         "x": [
          "impressions",
          "impressions",
          "impressions",
          "clicks",
          "clicks",
          "clicks",
          "signups",
          "signups",
          "signups",
          "payments",
          "payments",
          "payments"
         ],
         "xaxis": "x",
         "y": [
          107483,
          30180,
          121623,
          4785,
          1154,
          4907,
          358,
          44,
          373,
          138,
          41,
          147
         ],
         "yaxis": "y"
        },
        {
         "alignmentgroup": "True",
         "hovertemplate": "channel_name=Google Search Engine<br>objective=Branding<br>metric=%{x}<br>Count=%{text}<extra></extra>",
         "legendgroup": "Google Search Engine",
         "marker": {
          "color": "#EF553B",
          "pattern": {
           "shape": ""
          }
         },
         "name": "Google Search Engine",
         "offsetgroup": "Google Search Engine",
         "orientation": "v",
         "showlegend": false,
         "text": [
          104150,
          46310,
          124483,
          4831,
          1362,
          5193,
          363,
          54,
          391,
          144,
          53,
          156
         ],
         "textfont": {
          "size": 10
         },
         "textposition": "inside",
         "texttemplate": "%{text:.0f}",
         "type": "bar",
         "x": [
          "impressions",
          "impressions",
          "impressions",
          "clicks",
          "clicks",
          "clicks",
          "signups",
          "signups",
          "signups",
          "payments",
          "payments",
          "payments"
         ],
         "xaxis": "x2",
         "y": [
          104150,
          46310,
          124483,
          4831,
          1362,
          5193,
          363,
          54,
          391,
          144,
          53,
          156
         ],
         "yaxis": "y2"
        },
        {
         "alignmentgroup": "True",
         "hovertemplate": "channel_name=Google Search Engine<br>objective=Prospecting<br>metric=%{x}<br>Count=%{text}<extra></extra>",
         "legendgroup": "Google Search Engine",
         "marker": {
          "color": "#EF553B",
          "pattern": {
           "shape": ""
          }
         },
         "name": "Google Search Engine",
         "offsetgroup": "Google Search Engine",
         "orientation": "v",
         "showlegend": false,
         "text": [
          111940,
          41560,
          120137,
          4442,
          1264,
          5529,
          338,
          55,
          416,
          135,
          51,
          160
         ],
         "textfont": {
          "size": 10
         },
         "textposition": "inside",
         "texttemplate": "%{text:.0f}",
         "type": "bar",
         "x": [
          "impressions",
          "impressions",
          "impressions",
          "clicks",
          "clicks",
          "clicks",
          "signups",
          "signups",
          "signups",
          "payments",
          "payments",
          "payments"
         ],
         "xaxis": "x3",
         "y": [
          111940,
          41560,
          120137,
          4442,
          1264,
          5529,
          338,
          55,
          416,
          135,
          51,
          160
         ],
         "yaxis": "y3"
        },
        {
         "alignmentgroup": "True",
         "hovertemplate": "channel_name=Google Search Engine<br>objective=Remarketing<br>metric=%{x}<br>Count=%{text}<extra></extra>",
         "legendgroup": "Google Search Engine",
         "marker": {
          "color": "#EF553B",
          "pattern": {
           "shape": ""
          }
         },
         "name": "Google Search Engine",
         "offsetgroup": "Google Search Engine",
         "orientation": "v",
         "showlegend": false,
         "text": [
          116183,
          38870,
          105761,
          5191,
          1170,
          4674,
          398,
          49,
          357,
          154,
          47,
          133
         ],
         "textfont": {
          "size": 10
         },
         "textposition": "inside",
         "texttemplate": "%{text:.0f}",
         "type": "bar",
         "x": [
          "impressions",
          "impressions",
          "impressions",
          "clicks",
          "clicks",
          "clicks",
          "signups",
          "signups",
          "signups",
          "payments",
          "payments",
          "payments"
         ],
         "xaxis": "x4",
         "y": [
          116183,
          38870,
          105761,
          5191,
          1170,
          4674,
          398,
          49,
          357,
          154,
          47,
          133
         ],
         "yaxis": "y4"
        },
        {
         "alignmentgroup": "True",
         "hovertemplate": "channel_name=Instagram Stories<br>objective=Awareness<br>metric=%{x}<br>Count=%{text}<extra></extra>",
         "legendgroup": "Instagram Stories",
         "marker": {
          "color": "#00cc96",
          "pattern": {
           "shape": ""
          }
         },
         "name": "Instagram Stories",
         "offsetgroup": "Instagram Stories",
         "orientation": "v",
         "showlegend": true,
         "text": [
          35035,
          10405,
          32582,
          807,
          146,
          807,
          44,
          0,
          41,
          43,
          0,
          41
         ],
         "textfont": {
          "size": 10
         },
         "textposition": "inside",
         "texttemplate": "%{text:.0f}",
         "type": "bar",
         "x": [
          "impressions",
          "impressions",
          "impressions",
          "clicks",
          "clicks",
          "clicks",
          "signups",
          "signups",
          "signups",
          "payments",
          "payments",
          "payments"
         ],
         "xaxis": "x",
         "y": [
          35035,
          10405,
          32582,
          807,
          146,
          807,
          44,
          0,
          41,
          43,
          0,
          41
         ],
         "yaxis": "y"
        },
        {
         "alignmentgroup": "True",
         "hovertemplate": "channel_name=Instagram Stories<br>objective=Branding<br>metric=%{x}<br>Count=%{text}<extra></extra>",
         "legendgroup": "Instagram Stories",
         "marker": {
          "color": "#00cc96",
          "pattern": {
           "shape": ""
          }
         },
         "name": "Instagram Stories",
         "offsetgroup": "Instagram Stories",
         "orientation": "v",
         "showlegend": false,
         "text": [
          48361,
          10699,
          43078,
          758,
          166,
          874,
          36,
          0,
          46,
          36,
          0,
          45
         ],
         "textfont": {
          "size": 10
         },
         "textposition": "inside",
         "texttemplate": "%{text:.0f}",
         "type": "bar",
         "x": [
          "impressions",
          "impressions",
          "impressions",
          "clicks",
          "clicks",
          "clicks",
          "signups",
          "signups",
          "signups",
          "payments",
          "payments",
          "payments"
         ],
         "xaxis": "x2",
         "y": [
          48361,
          10699,
          43078,
          758,
          166,
          874,
          36,
          0,
          46,
          36,
          0,
          45
         ],
         "yaxis": "y2"
        },
        {
         "alignmentgroup": "True",
         "hovertemplate": "channel_name=Instagram Stories<br>objective=Prospecting<br>metric=%{x}<br>Count=%{text}<extra></extra>",
         "legendgroup": "Instagram Stories",
         "marker": {
          "color": "#00cc96",
          "pattern": {
           "shape": ""
          }
         },
         "name": "Instagram Stories",
         "offsetgroup": "Instagram Stories",
         "orientation": "v",
         "showlegend": false,
         "text": [
          37367,
          14992,
          23491,
          780,
          143,
          576,
          33,
          0,
          32,
          32,
          0,
          32
         ],
         "textfont": {
          "size": 10
         },
         "textposition": "inside",
         "texttemplate": "%{text:.0f}",
         "type": "bar",
         "x": [
          "impressions",
          "impressions",
          "impressions",
          "clicks",
          "clicks",
          "clicks",
          "signups",
          "signups",
          "signups",
          "payments",
          "payments",
          "payments"
         ],
         "xaxis": "x3",
         "y": [
          37367,
          14992,
          23491,
          780,
          143,
          576,
          33,
          0,
          32,
          32,
          0,
          32
         ],
         "yaxis": "y3"
        },
        {
         "alignmentgroup": "True",
         "hovertemplate": "channel_name=Instagram Stories<br>objective=Remarketing<br>metric=%{x}<br>Count=%{text}<extra></extra>",
         "legendgroup": "Instagram Stories",
         "marker": {
          "color": "#00cc96",
          "pattern": {
           "shape": ""
          }
         },
         "name": "Instagram Stories",
         "offsetgroup": "Instagram Stories",
         "orientation": "v",
         "showlegend": false,
         "text": [
          30102,
          22387,
          36141,
          584,
          195,
          729,
          29,
          0,
          33,
          29,
          0,
          31
         ],
         "textfont": {
          "size": 10
         },
         "textposition": "inside",
         "texttemplate": "%{text:.0f}",
         "type": "bar",
         "x": [
          "impressions",
          "impressions",
          "impressions",
          "clicks",
          "clicks",
          "clicks",
          "signups",
          "signups",
          "signups",
          "payments",
          "payments",
          "payments"
         ],
         "xaxis": "x4",
         "y": [
          30102,
          22387,
          36141,
          584,
          195,
          729,
          29,
          0,
          33,
          29,
          0,
          31
         ],
         "yaxis": "y4"
        },
        {
         "alignmentgroup": "True",
         "hovertemplate": "channel_name=MoPub<br>objective=Awareness<br>metric=%{x}<br>Count=%{text}<extra></extra>",
         "legendgroup": "MoPub",
         "marker": {
          "color": "#ab63fa",
          "pattern": {
           "shape": ""
          }
         },
         "name": "MoPub",
         "offsetgroup": "MoPub",
         "orientation": "v",
         "showlegend": true,
         "text": [
          13062,
          9264,
          20253,
          148,
          27,
          151,
          0,
          0,
          0,
          0,
          0,
          0
         ],
         "textfont": {
          "size": 10
         },
         "textposition": "inside",
         "texttemplate": "%{text:.0f}",
         "type": "bar",
         "x": [
          "impressions",
          "impressions",
          "impressions",
          "clicks",
          "clicks",
          "clicks",
          "signups",
          "signups",
          "signups",
          "payments",
          "payments",
          "payments"
         ],
         "xaxis": "x",
         "y": [
          13062,
          9264,
          20253,
          148,
          27,
          151,
          0,
          0,
          0,
          0,
          0,
          0
         ],
         "yaxis": "y"
        },
        {
         "alignmentgroup": "True",
         "hovertemplate": "channel_name=MoPub<br>objective=Branding<br>metric=%{x}<br>Count=%{text}<extra></extra>",
         "legendgroup": "MoPub",
         "marker": {
          "color": "#ab63fa",
          "pattern": {
           "shape": ""
          }
         },
         "name": "MoPub",
         "offsetgroup": "MoPub",
         "orientation": "v",
         "showlegend": false,
         "text": [
          24867,
          5302,
          26869,
          218,
          43,
          213,
          0,
          0,
          0,
          0,
          0,
          0
         ],
         "textfont": {
          "size": 10
         },
         "textposition": "inside",
         "texttemplate": "%{text:.0f}",
         "type": "bar",
         "x": [
          "impressions",
          "impressions",
          "impressions",
          "clicks",
          "clicks",
          "clicks",
          "signups",
          "signups",
          "signups",
          "payments",
          "payments",
          "payments"
         ],
         "xaxis": "x2",
         "y": [
          24867,
          5302,
          26869,
          218,
          43,
          213,
          0,
          0,
          0,
          0,
          0,
          0
         ],
         "yaxis": "y2"
        },
        {
         "alignmentgroup": "True",
         "hovertemplate": "channel_name=MoPub<br>objective=Prospecting<br>metric=%{x}<br>Count=%{text}<extra></extra>",
         "legendgroup": "MoPub",
         "marker": {
          "color": "#ab63fa",
          "pattern": {
           "shape": ""
          }
         },
         "name": "MoPub",
         "offsetgroup": "MoPub",
         "orientation": "v",
         "showlegend": false,
         "text": [
          15248,
          7954,
          22632,
          133,
          32,
          188,
          0,
          0,
          0,
          0,
          0,
          0
         ],
         "textfont": {
          "size": 10
         },
         "textposition": "inside",
         "texttemplate": "%{text:.0f}",
         "type": "bar",
         "x": [
          "impressions",
          "impressions",
          "impressions",
          "clicks",
          "clicks",
          "clicks",
          "signups",
          "signups",
          "signups",
          "payments",
          "payments",
          "payments"
         ],
         "xaxis": "x3",
         "y": [
          15248,
          7954,
          22632,
          133,
          32,
          188,
          0,
          0,
          0,
          0,
          0,
          0
         ],
         "yaxis": "y3"
        },
        {
         "alignmentgroup": "True",
         "hovertemplate": "channel_name=MoPub<br>objective=Remarketing<br>metric=%{x}<br>Count=%{text}<extra></extra>",
         "legendgroup": "MoPub",
         "marker": {
          "color": "#ab63fa",
          "pattern": {
           "shape": ""
          }
         },
         "name": "MoPub",
         "offsetgroup": "MoPub",
         "orientation": "v",
         "showlegend": false,
         "text": [
          22310,
          6361,
          28761,
          172,
          43,
          223,
          0,
          0,
          0,
          0,
          0,
          0
         ],
         "textfont": {
          "size": 10
         },
         "textposition": "inside",
         "texttemplate": "%{text:.0f}",
         "type": "bar",
         "x": [
          "impressions",
          "impressions",
          "impressions",
          "clicks",
          "clicks",
          "clicks",
          "signups",
          "signups",
          "signups",
          "payments",
          "payments",
          "payments"
         ],
         "xaxis": "x4",
         "y": [
          22310,
          6361,
          28761,
          172,
          43,
          223,
          0,
          0,
          0,
          0,
          0,
          0
         ],
         "yaxis": "y4"
        },
        {
         "alignmentgroup": "True",
         "hovertemplate": "channel_name=TikTok<br>objective=Awareness<br>metric=%{x}<br>Count=%{text}<extra></extra>",
         "legendgroup": "TikTok",
         "marker": {
          "color": "#FFA15A",
          "pattern": {
           "shape": ""
          }
         },
         "name": "TikTok",
         "offsetgroup": "TikTok",
         "orientation": "v",
         "showlegend": true,
         "text": [
          25557,
          3554,
          19647,
          185,
          30,
          269,
          0,
          0,
          2,
          0,
          0,
          2
         ],
         "textfont": {
          "size": 10
         },
         "textposition": "inside",
         "texttemplate": "%{text:.0f}",
         "type": "bar",
         "x": [
          "impressions",
          "impressions",
          "impressions",
          "clicks",
          "clicks",
          "clicks",
          "signups",
          "signups",
          "signups",
          "payments",
          "payments",
          "payments"
         ],
         "xaxis": "x",
         "y": [
          25557,
          3554,
          19647,
          185,
          30,
          269,
          0,
          0,
          2,
          0,
          0,
          2
         ],
         "yaxis": "y"
        },
        {
         "alignmentgroup": "True",
         "hovertemplate": "channel_name=TikTok<br>objective=Branding<br>metric=%{x}<br>Count=%{text}<extra></extra>",
         "legendgroup": "TikTok",
         "marker": {
          "color": "#FFA15A",
          "pattern": {
           "shape": ""
          }
         },
         "name": "TikTok",
         "offsetgroup": "TikTok",
         "orientation": "v",
         "showlegend": false,
         "text": [
          24220,
          19633,
          32201,
          228,
          89,
          244,
          0,
          0,
          0,
          0,
          0,
          0
         ],
         "textfont": {
          "size": 10
         },
         "textposition": "inside",
         "texttemplate": "%{text:.0f}",
         "type": "bar",
         "x": [
          "impressions",
          "impressions",
          "impressions",
          "clicks",
          "clicks",
          "clicks",
          "signups",
          "signups",
          "signups",
          "payments",
          "payments",
          "payments"
         ],
         "xaxis": "x2",
         "y": [
          24220,
          19633,
          32201,
          228,
          89,
          244,
          0,
          0,
          0,
          0,
          0,
          0
         ],
         "yaxis": "y2"
        },
        {
         "alignmentgroup": "True",
         "hovertemplate": "channel_name=TikTok<br>objective=Prospecting<br>metric=%{x}<br>Count=%{text}<extra></extra>",
         "legendgroup": "TikTok",
         "marker": {
          "color": "#FFA15A",
          "pattern": {
           "shape": ""
          }
         },
         "name": "TikTok",
         "offsetgroup": "TikTok",
         "orientation": "v",
         "showlegend": false,
         "text": [
          22028,
          9286,
          21242,
          190,
          53,
          239,
          0,
          0,
          0,
          0,
          0,
          0
         ],
         "textfont": {
          "size": 10
         },
         "textposition": "inside",
         "texttemplate": "%{text:.0f}",
         "type": "bar",
         "x": [
          "impressions",
          "impressions",
          "impressions",
          "clicks",
          "clicks",
          "clicks",
          "signups",
          "signups",
          "signups",
          "payments",
          "payments",
          "payments"
         ],
         "xaxis": "x3",
         "y": [
          22028,
          9286,
          21242,
          190,
          53,
          239,
          0,
          0,
          0,
          0,
          0,
          0
         ],
         "yaxis": "y3"
        },
        {
         "alignmentgroup": "True",
         "hovertemplate": "channel_name=TikTok<br>objective=Remarketing<br>metric=%{x}<br>Count=%{text}<extra></extra>",
         "legendgroup": "TikTok",
         "marker": {
          "color": "#FFA15A",
          "pattern": {
           "shape": ""
          }
         },
         "name": "TikTok",
         "offsetgroup": "TikTok",
         "orientation": "v",
         "showlegend": false,
         "text": [
          26052,
          6475,
          23173,
          252,
          62,
          198,
          0,
          0,
          0,
          0,
          0,
          0
         ],
         "textfont": {
          "size": 10
         },
         "textposition": "inside",
         "texttemplate": "%{text:.0f}",
         "type": "bar",
         "x": [
          "impressions",
          "impressions",
          "impressions",
          "clicks",
          "clicks",
          "clicks",
          "signups",
          "signups",
          "signups",
          "payments",
          "payments",
          "payments"
         ],
         "xaxis": "x4",
         "y": [
          26052,
          6475,
          23173,
          252,
          62,
          198,
          0,
          0,
          0,
          0,
          0,
          0
         ],
         "yaxis": "y4"
        },
        {
         "alignmentgroup": "True",
         "hovertemplate": "channel_name=YouTube<br>objective=Awareness<br>metric=%{x}<br>Count=%{text}<extra></extra>",
         "legendgroup": "YouTube",
         "marker": {
          "color": "#19d3f3",
          "pattern": {
           "shape": ""
          }
         },
         "name": "YouTube",
         "offsetgroup": "YouTube",
         "orientation": "v",
         "showlegend": true,
         "text": [
          32771,
          17196,
          44318,
          597,
          181,
          757,
          18,
          0,
          28,
          18,
          0,
          27
         ],
         "textfont": {
          "size": 10
         },
         "textposition": "inside",
         "texttemplate": "%{text:.0f}",
         "type": "bar",
         "x": [
          "impressions",
          "impressions",
          "impressions",
          "clicks",
          "clicks",
          "clicks",
          "signups",
          "signups",
          "signups",
          "payments",
          "payments",
          "payments"
         ],
         "xaxis": "x",
         "y": [
          32771,
          17196,
          44318,
          597,
          181,
          757,
          18,
          0,
          28,
          18,
          0,
          27
         ],
         "yaxis": "y"
        },
        {
         "alignmentgroup": "True",
         "hovertemplate": "channel_name=YouTube<br>objective=Branding<br>metric=%{x}<br>Count=%{text}<extra></extra>",
         "legendgroup": "YouTube",
         "marker": {
          "color": "#19d3f3",
          "pattern": {
           "shape": ""
          }
         },
         "name": "YouTube",
         "offsetgroup": "YouTube",
         "orientation": "v",
         "showlegend": false,
         "text": [
          31813,
          12971,
          29722,
          718,
          143,
          632,
          30,
          0,
          26,
          30,
          0,
          26
         ],
         "textfont": {
          "size": 10
         },
         "textposition": "inside",
         "texttemplate": "%{text:.0f}",
         "type": "bar",
         "x": [
          "impressions",
          "impressions",
          "impressions",
          "clicks",
          "clicks",
          "clicks",
          "signups",
          "signups",
          "signups",
          "payments",
          "payments",
          "payments"
         ],
         "xaxis": "x2",
         "y": [
          31813,
          12971,
          29722,
          718,
          143,
          632,
          30,
          0,
          26,
          30,
          0,
          26
         ],
         "yaxis": "y2"
        },
        {
         "alignmentgroup": "True",
         "hovertemplate": "channel_name=YouTube<br>objective=Prospecting<br>metric=%{x}<br>Count=%{text}<extra></extra>",
         "legendgroup": "YouTube",
         "marker": {
          "color": "#19d3f3",
          "pattern": {
           "shape": ""
          }
         },
         "name": "YouTube",
         "offsetgroup": "YouTube",
         "orientation": "v",
         "showlegend": false,
         "text": [
          38571,
          20700,
          39599,
          675,
          174,
          702,
          21,
          0,
          28,
          21,
          0,
          28
         ],
         "textfont": {
          "size": 10
         },
         "textposition": "inside",
         "texttemplate": "%{text:.0f}",
         "type": "bar",
         "x": [
          "impressions",
          "impressions",
          "impressions",
          "clicks",
          "clicks",
          "clicks",
          "signups",
          "signups",
          "signups",
          "payments",
          "payments",
          "payments"
         ],
         "xaxis": "x3",
         "y": [
          38571,
          20700,
          39599,
          675,
          174,
          702,
          21,
          0,
          28,
          21,
          0,
          28
         ],
         "yaxis": "y3"
        },
        {
         "alignmentgroup": "True",
         "hovertemplate": "channel_name=YouTube<br>objective=Remarketing<br>metric=%{x}<br>Count=%{text}<extra></extra>",
         "legendgroup": "YouTube",
         "marker": {
          "color": "#19d3f3",
          "pattern": {
           "shape": ""
          }
         },
         "name": "YouTube",
         "offsetgroup": "YouTube",
         "orientation": "v",
         "showlegend": false,
         "text": [
          42877,
          22849,
          49724,
          764,
          151,
          722,
          32,
          0,
          28,
          32,
          0,
          28
         ],
         "textfont": {
          "size": 10
         },
         "textposition": "inside",
         "texttemplate": "%{text:.0f}",
         "type": "bar",
         "x": [
          "impressions",
          "impressions",
          "impressions",
          "clicks",
          "clicks",
          "clicks",
          "signups",
          "signups",
          "signups",
          "payments",
          "payments",
          "payments"
         ],
         "xaxis": "x4",
         "y": [
          42877,
          22849,
          49724,
          764,
          151,
          722,
          32,
          0,
          28,
          32,
          0,
          28
         ],
         "yaxis": "y4"
        }
       ],
       "layout": {
        "annotations": [
         {
          "font": {},
          "showarrow": false,
          "text": "objective=Awareness",
          "x": 0.1175,
          "xanchor": "center",
          "xref": "paper",
          "y": 1,
          "yanchor": "bottom",
          "yref": "paper"
         },
         {
          "font": {},
          "showarrow": false,
          "text": "objective=Branding",
          "x": 0.3725,
          "xanchor": "center",
          "xref": "paper",
          "y": 1,
          "yanchor": "bottom",
          "yref": "paper"
         },
         {
          "font": {},
          "showarrow": false,
          "text": "objective=Prospecting",
          "x": 0.6275,
          "xanchor": "center",
          "xref": "paper",
          "y": 1,
          "yanchor": "bottom",
          "yref": "paper"
         },
         {
          "font": {},
          "showarrow": false,
          "text": "objective=Remarketing",
          "x": 0.8824999999999998,
          "xanchor": "center",
          "xref": "paper",
          "y": 1,
          "yanchor": "bottom",
          "yref": "paper"
         }
        ],
        "barmode": "relative",
        "height": 800,
        "legend": {
         "title": {
          "text": "channel_name"
         },
         "tracegroupgap": 0
        },
        "template": {
         "data": {
          "bar": [
           {
            "error_x": {
             "color": "#2a3f5f"
            },
            "error_y": {
             "color": "#2a3f5f"
            },
            "marker": {
             "line": {
              "color": "#E5ECF6",
              "width": 0.5
             },
             "pattern": {
              "fillmode": "overlay",
              "size": 10,
              "solidity": 0.2
             }
            },
            "type": "bar"
           }
          ],
          "barpolar": [
           {
            "marker": {
             "line": {
              "color": "#E5ECF6",
              "width": 0.5
             },
             "pattern": {
              "fillmode": "overlay",
              "size": 10,
              "solidity": 0.2
             }
            },
            "type": "barpolar"
           }
          ],
          "carpet": [
           {
            "aaxis": {
             "endlinecolor": "#2a3f5f",
             "gridcolor": "white",
             "linecolor": "white",
             "minorgridcolor": "white",
             "startlinecolor": "#2a3f5f"
            },
            "baxis": {
             "endlinecolor": "#2a3f5f",
             "gridcolor": "white",
             "linecolor": "white",
             "minorgridcolor": "white",
             "startlinecolor": "#2a3f5f"
            },
            "type": "carpet"
           }
          ],
          "choropleth": [
           {
            "colorbar": {
             "outlinewidth": 0,
             "ticks": ""
            },
            "type": "choropleth"
           }
          ],
          "contour": [
           {
            "colorbar": {
             "outlinewidth": 0,
             "ticks": ""
            },
            "colorscale": [
             [
              0,
              "#0d0887"
             ],
             [
              0.1111111111111111,
              "#46039f"
             ],
             [
              0.2222222222222222,
              "#7201a8"
             ],
             [
              0.3333333333333333,
              "#9c179e"
             ],
             [
              0.4444444444444444,
              "#bd3786"
             ],
             [
              0.5555555555555556,
              "#d8576b"
             ],
             [
              0.6666666666666666,
              "#ed7953"
             ],
             [
              0.7777777777777778,
              "#fb9f3a"
             ],
             [
              0.8888888888888888,
              "#fdca26"
             ],
             [
              1,
              "#f0f921"
             ]
            ],
            "type": "contour"
           }
          ],
          "contourcarpet": [
           {
            "colorbar": {
             "outlinewidth": 0,
             "ticks": ""
            },
            "type": "contourcarpet"
           }
          ],
          "heatmap": [
           {
            "colorbar": {
             "outlinewidth": 0,
             "ticks": ""
            },
            "colorscale": [
             [
              0,
              "#0d0887"
             ],
             [
              0.1111111111111111,
              "#46039f"
             ],
             [
              0.2222222222222222,
              "#7201a8"
             ],
             [
              0.3333333333333333,
              "#9c179e"
             ],
             [
              0.4444444444444444,
              "#bd3786"
             ],
             [
              0.5555555555555556,
              "#d8576b"
             ],
             [
              0.6666666666666666,
              "#ed7953"
             ],
             [
              0.7777777777777778,
              "#fb9f3a"
             ],
             [
              0.8888888888888888,
              "#fdca26"
             ],
             [
              1,
              "#f0f921"
             ]
            ],
            "type": "heatmap"
           }
          ],
          "heatmapgl": [
           {
            "colorbar": {
             "outlinewidth": 0,
             "ticks": ""
            },
            "colorscale": [
             [
              0,
              "#0d0887"
             ],
             [
              0.1111111111111111,
              "#46039f"
             ],
             [
              0.2222222222222222,
              "#7201a8"
             ],
             [
              0.3333333333333333,
              "#9c179e"
             ],
             [
              0.4444444444444444,
              "#bd3786"
             ],
             [
              0.5555555555555556,
              "#d8576b"
             ],
             [
              0.6666666666666666,
              "#ed7953"
             ],
             [
              0.7777777777777778,
              "#fb9f3a"
             ],
             [
              0.8888888888888888,
              "#fdca26"
             ],
             [
              1,
              "#f0f921"
             ]
            ],
            "type": "heatmapgl"
           }
          ],
          "histogram": [
           {
            "marker": {
             "pattern": {
              "fillmode": "overlay",
              "size": 10,
              "solidity": 0.2
             }
            },
            "type": "histogram"
           }
          ],
          "histogram2d": [
           {
            "colorbar": {
             "outlinewidth": 0,
             "ticks": ""
            },
            "colorscale": [
             [
              0,
              "#0d0887"
             ],
             [
              0.1111111111111111,
              "#46039f"
             ],
             [
              0.2222222222222222,
              "#7201a8"
             ],
             [
              0.3333333333333333,
              "#9c179e"
             ],
             [
              0.4444444444444444,
              "#bd3786"
             ],
             [
              0.5555555555555556,
              "#d8576b"
             ],
             [
              0.6666666666666666,
              "#ed7953"
             ],
             [
              0.7777777777777778,
              "#fb9f3a"
             ],
             [
              0.8888888888888888,
              "#fdca26"
             ],
             [
              1,
              "#f0f921"
             ]
            ],
            "type": "histogram2d"
           }
          ],
          "histogram2dcontour": [
           {
            "colorbar": {
             "outlinewidth": 0,
             "ticks": ""
            },
            "colorscale": [
             [
              0,
              "#0d0887"
             ],
             [
              0.1111111111111111,
              "#46039f"
             ],
             [
              0.2222222222222222,
              "#7201a8"
             ],
             [
              0.3333333333333333,
              "#9c179e"
             ],
             [
              0.4444444444444444,
              "#bd3786"
             ],
             [
              0.5555555555555556,
              "#d8576b"
             ],
             [
              0.6666666666666666,
              "#ed7953"
             ],
             [
              0.7777777777777778,
              "#fb9f3a"
             ],
             [
              0.8888888888888888,
              "#fdca26"
             ],
             [
              1,
              "#f0f921"
             ]
            ],
            "type": "histogram2dcontour"
           }
          ],
          "mesh3d": [
           {
            "colorbar": {
             "outlinewidth": 0,
             "ticks": ""
            },
            "type": "mesh3d"
           }
          ],
          "parcoords": [
           {
            "line": {
             "colorbar": {
              "outlinewidth": 0,
              "ticks": ""
             }
            },
            "type": "parcoords"
           }
          ],
          "pie": [
           {
            "automargin": true,
            "type": "pie"
           }
          ],
          "scatter": [
           {
            "fillpattern": {
             "fillmode": "overlay",
             "size": 10,
             "solidity": 0.2
            },
            "type": "scatter"
           }
          ],
          "scatter3d": [
           {
            "line": {
             "colorbar": {
              "outlinewidth": 0,
              "ticks": ""
             }
            },
            "marker": {
             "colorbar": {
              "outlinewidth": 0,
              "ticks": ""
             }
            },
            "type": "scatter3d"
           }
          ],
          "scattercarpet": [
           {
            "marker": {
             "colorbar": {
              "outlinewidth": 0,
              "ticks": ""
             }
            },
            "type": "scattercarpet"
           }
          ],
          "scattergeo": [
           {
            "marker": {
             "colorbar": {
              "outlinewidth": 0,
              "ticks": ""
             }
            },
            "type": "scattergeo"
           }
          ],
          "scattergl": [
           {
            "marker": {
             "colorbar": {
              "outlinewidth": 0,
              "ticks": ""
             }
            },
            "type": "scattergl"
           }
          ],
          "scattermapbox": [
           {
            "marker": {
             "colorbar": {
              "outlinewidth": 0,
              "ticks": ""
             }
            },
            "type": "scattermapbox"
           }
          ],
          "scatterpolar": [
           {
            "marker": {
             "colorbar": {
              "outlinewidth": 0,
              "ticks": ""
             }
            },
            "type": "scatterpolar"
           }
          ],
          "scatterpolargl": [
           {
            "marker": {
             "colorbar": {
              "outlinewidth": 0,
              "ticks": ""
             }
            },
            "type": "scatterpolargl"
           }
          ],
          "scatterternary": [
           {
            "marker": {
             "colorbar": {
              "outlinewidth": 0,
              "ticks": ""
             }
            },
            "type": "scatterternary"
           }
          ],
          "surface": [
           {
            "colorbar": {
             "outlinewidth": 0,
             "ticks": ""
            },
            "colorscale": [
             [
              0,
              "#0d0887"
             ],
             [
              0.1111111111111111,
              "#46039f"
             ],
             [
              0.2222222222222222,
              "#7201a8"
             ],
             [
              0.3333333333333333,
              "#9c179e"
             ],
             [
              0.4444444444444444,
              "#bd3786"
             ],
             [
              0.5555555555555556,
              "#d8576b"
             ],
             [
              0.6666666666666666,
              "#ed7953"
             ],
             [
              0.7777777777777778,
              "#fb9f3a"
             ],
             [
              0.8888888888888888,
              "#fdca26"
             ],
             [
              1,
              "#f0f921"
             ]
            ],
            "type": "surface"
           }
          ],
          "table": [
           {
            "cells": {
             "fill": {
              "color": "#EBF0F8"
             },
             "line": {
              "color": "white"
             }
            },
            "header": {
             "fill": {
              "color": "#C8D4E3"
             },
             "line": {
              "color": "white"
             }
            },
            "type": "table"
           }
          ]
         },
         "layout": {
          "annotationdefaults": {
           "arrowcolor": "#2a3f5f",
           "arrowhead": 0,
           "arrowwidth": 1
          },
          "autotypenumbers": "strict",
          "coloraxis": {
           "colorbar": {
            "outlinewidth": 0,
            "ticks": ""
           }
          },
          "colorscale": {
           "diverging": [
            [
             0,
             "#8e0152"
            ],
            [
             0.1,
             "#c51b7d"
            ],
            [
             0.2,
             "#de77ae"
            ],
            [
             0.3,
             "#f1b6da"
            ],
            [
             0.4,
             "#fde0ef"
            ],
            [
             0.5,
             "#f7f7f7"
            ],
            [
             0.6,
             "#e6f5d0"
            ],
            [
             0.7,
             "#b8e186"
            ],
            [
             0.8,
             "#7fbc41"
            ],
            [
             0.9,
             "#4d9221"
            ],
            [
             1,
             "#276419"
            ]
           ],
           "sequential": [
            [
             0,
             "#0d0887"
            ],
            [
             0.1111111111111111,
             "#46039f"
            ],
            [
             0.2222222222222222,
             "#7201a8"
            ],
            [
             0.3333333333333333,
             "#9c179e"
            ],
            [
             0.4444444444444444,
             "#bd3786"
            ],
            [
             0.5555555555555556,
             "#d8576b"
            ],
            [
             0.6666666666666666,
             "#ed7953"
            ],
            [
             0.7777777777777778,
             "#fb9f3a"
            ],
            [
             0.8888888888888888,
             "#fdca26"
            ],
            [
             1,
             "#f0f921"
            ]
           ],
           "sequentialminus": [
            [
             0,
             "#0d0887"
            ],
            [
             0.1111111111111111,
             "#46039f"
            ],
            [
             0.2222222222222222,
             "#7201a8"
            ],
            [
             0.3333333333333333,
             "#9c179e"
            ],
            [
             0.4444444444444444,
             "#bd3786"
            ],
            [
             0.5555555555555556,
             "#d8576b"
            ],
            [
             0.6666666666666666,
             "#ed7953"
            ],
            [
             0.7777777777777778,
             "#fb9f3a"
            ],
            [
             0.8888888888888888,
             "#fdca26"
            ],
            [
             1,
             "#f0f921"
            ]
           ]
          },
          "colorway": [
           "#636efa",
           "#EF553B",
           "#00cc96",
           "#ab63fa",
           "#FFA15A",
           "#19d3f3",
           "#FF6692",
           "#B6E880",
           "#FF97FF",
           "#FECB52"
          ],
          "font": {
           "color": "#2a3f5f"
          },
          "geo": {
           "bgcolor": "white",
           "lakecolor": "white",
           "landcolor": "#E5ECF6",
           "showlakes": true,
           "showland": true,
           "subunitcolor": "white"
          },
          "hoverlabel": {
           "align": "left"
          },
          "hovermode": "closest",
          "mapbox": {
           "style": "light"
          },
          "paper_bgcolor": "white",
          "plot_bgcolor": "#E5ECF6",
          "polar": {
           "angularaxis": {
            "gridcolor": "white",
            "linecolor": "white",
            "ticks": ""
           },
           "bgcolor": "#E5ECF6",
           "radialaxis": {
            "gridcolor": "white",
            "linecolor": "white",
            "ticks": ""
           }
          },
          "scene": {
           "xaxis": {
            "backgroundcolor": "#E5ECF6",
            "gridcolor": "white",
            "gridwidth": 2,
            "linecolor": "white",
            "showbackground": true,
            "ticks": "",
            "zerolinecolor": "white"
           },
           "yaxis": {
            "backgroundcolor": "#E5ECF6",
            "gridcolor": "white",
            "gridwidth": 2,
            "linecolor": "white",
            "showbackground": true,
            "ticks": "",
            "zerolinecolor": "white"
           },
           "zaxis": {
            "backgroundcolor": "#E5ECF6",
            "gridcolor": "white",
            "gridwidth": 2,
            "linecolor": "white",
            "showbackground": true,
            "ticks": "",
            "zerolinecolor": "white"
           }
          },
          "shapedefaults": {
           "line": {
            "color": "#2a3f5f"
           }
          },
          "ternary": {
           "aaxis": {
            "gridcolor": "white",
            "linecolor": "white",
            "ticks": ""
           },
           "baxis": {
            "gridcolor": "white",
            "linecolor": "white",
            "ticks": ""
           },
           "bgcolor": "#E5ECF6",
           "caxis": {
            "gridcolor": "white",
            "linecolor": "white",
            "ticks": ""
           }
          },
          "title": {
           "x": 0.05
          },
          "xaxis": {
           "automargin": true,
           "gridcolor": "white",
           "linecolor": "white",
           "ticks": "",
           "title": {
            "standoff": 15
           },
           "zerolinecolor": "white",
           "zerolinewidth": 2
          },
          "yaxis": {
           "automargin": true,
           "gridcolor": "white",
           "linecolor": "white",
           "ticks": "",
           "title": {
            "standoff": 15
           },
           "zerolinecolor": "white",
           "zerolinewidth": 2
          }
         }
        },
        "title": {
         "font": {
          "size": 20
         },
         "text": "Metrics by Channel and Objective",
         "x": 0.5
        },
        "width": 1200,
        "xaxis": {
         "anchor": "y",
         "domain": [
          0,
          0.235
         ],
         "title": {
          "text": "metric"
         }
        },
        "xaxis2": {
         "anchor": "y2",
         "domain": [
          0.255,
          0.49
         ],
         "matches": "x",
         "title": {
          "text": "metric"
         }
        },
        "xaxis3": {
         "anchor": "y3",
         "domain": [
          0.51,
          0.745
         ],
         "matches": "x",
         "title": {
          "text": "metric"
         }
        },
        "xaxis4": {
         "anchor": "y4",
         "domain": [
          0.7649999999999999,
          0.9999999999999999
         ],
         "matches": "x",
         "title": {
          "text": "metric"
         }
        },
        "yaxis": {
         "anchor": "x",
         "domain": [
          0,
          1
         ],
         "title": {
          "text": "Count"
         }
        },
        "yaxis2": {
         "anchor": "x2",
         "domain": [
          0,
          1
         ],
         "matches": "y",
         "showticklabels": false
        },
        "yaxis3": {
         "anchor": "x3",
         "domain": [
          0,
          1
         ],
         "matches": "y",
         "showticklabels": false
        },
        "yaxis4": {
         "anchor": "x4",
         "domain": [
          0,
          1
         ],
         "matches": "y",
         "showticklabels": false
        }
       }
      }
     },
     "metadata": {},
     "output_type": "display_data"
    }
   ],
   "source": [
    "fig = px.bar(\n",
    "    melted_df, \n",
    "    x='metric', \n",
    "    y='value', \n",
    "    color='channel_name',\n",
    "    facet_col='objective',\n",
    "    text='value',\n",
    "    title='Metrics by Channel and Objective',\n",
    "    labels={'value': 'Count'},\n",
    "    height=800,\n",
    "    width=1200\n",
    ")\n",
    "\n",
    "# Remove 'objective=' from facet titles\n",
    "fig.update_layout(\n",
    "    title_text='Metrics by Channel and Objective',\n",
    "    title_x=0.5,  # Center the title\n",
    "    title_font_size=20\n",
    ")\n",
    "\n",
    "# Update text position and size\n",
    "fig.update_traces(\n",
    "    texttemplate='%{text:.0f}',  # Show number without decimal places\n",
    "    textposition='inside',  # Place text inside bars\n",
    "    textfont_size=10  # Adjust text size\n",
    ")\n",
    "\n",
    "fig.show()"
   ]
  },
  {
   "cell_type": "code",
   "execution_count": 69,
   "metadata": {},
   "outputs": [],
   "source": [
    "pivot_nodevice = expanded_df.groupby(['objective', 'channel_name'])[['cost_usd','impressions', 'clicks', 'signups', 'payments']].sum().reset_index()\n",
    "pivot_noobjective = expanded_df.groupby(['device_type', 'channel_name'])[['cost_usd','impressions', 'clicks', 'signups', 'payments']].sum().reset_index()\n",
    "campaign_summary = expanded_df.groupby(['objective'])[['cost_usd','impressions', 'clicks', 'signups', 'payments']].sum().reset_index()\n"
   ]
  },
  {
   "cell_type": "code",
   "execution_count": null,
   "metadata": {},
   "outputs": [
    {
     "data": {
      "text/html": [
       "<div>\n",
       "<style scoped>\n",
       "    .dataframe tbody tr th:only-of-type {\n",
       "        vertical-align: middle;\n",
       "    }\n",
       "\n",
       "    .dataframe tbody tr th {\n",
       "        vertical-align: top;\n",
       "    }\n",
       "\n",
       "    .dataframe thead th {\n",
       "        text-align: right;\n",
       "    }\n",
       "</style>\n",
       "<table border=\"1\" class=\"dataframe\">\n",
       "  <thead>\n",
       "    <tr style=\"text-align: right;\">\n",
       "      <th></th>\n",
       "      <th>device_type</th>\n",
       "      <th>channel_name</th>\n",
       "      <th>cost_usd</th>\n",
       "      <th>impressions</th>\n",
       "      <th>clicks</th>\n",
       "      <th>signups</th>\n",
       "      <th>payments</th>\n",
       "      <th>label</th>\n",
       "      <th>CPM</th>\n",
       "      <th>CTR</th>\n",
       "      <th>CPC</th>\n",
       "      <th>CPS</th>\n",
       "      <th>CPP</th>\n",
       "      <th>cr2</th>\n",
       "      <th>cr3</th>\n",
       "    </tr>\n",
       "  </thead>\n",
       "  <tbody>\n",
       "    <tr>\n",
       "      <th>0</th>\n",
       "      <td>Android</td>\n",
       "      <td>Facebook News Feed</td>\n",
       "      <td>947.778946</td>\n",
       "      <td>241666</td>\n",
       "      <td>6720</td>\n",
       "      <td>406</td>\n",
       "      <td>311</td>\n",
       "      <td>Facebook News Feed | Android</td>\n",
       "      <td>3.921855</td>\n",
       "      <td>0.027807</td>\n",
       "      <td>0.141039</td>\n",
       "      <td>2.334431</td>\n",
       "      <td>3.047521</td>\n",
       "      <td>0.060417</td>\n",
       "      <td>0.766010</td>\n",
       "    </tr>\n",
       "    <tr>\n",
       "      <th>1</th>\n",
       "      <td>Android</td>\n",
       "      <td>Google Search Engine</td>\n",
       "      <td>2068.786097</td>\n",
       "      <td>439756</td>\n",
       "      <td>19249</td>\n",
       "      <td>1457</td>\n",
       "      <td>571</td>\n",
       "      <td>Google Search Engine | Android</td>\n",
       "      <td>4.704395</td>\n",
       "      <td>0.043772</td>\n",
       "      <td>0.107475</td>\n",
       "      <td>1.419894</td>\n",
       "      <td>3.623093</td>\n",
       "      <td>0.075692</td>\n",
       "      <td>0.391901</td>\n",
       "    </tr>\n",
       "    <tr>\n",
       "      <th>2</th>\n",
       "      <td>Android</td>\n",
       "      <td>Instagram Stories</td>\n",
       "      <td>500.511884</td>\n",
       "      <td>150865</td>\n",
       "      <td>2929</td>\n",
       "      <td>142</td>\n",
       "      <td>140</td>\n",
       "      <td>Instagram Stories | Android</td>\n",
       "      <td>3.317614</td>\n",
       "      <td>0.019415</td>\n",
       "      <td>0.170881</td>\n",
       "      <td>3.524732</td>\n",
       "      <td>3.575085</td>\n",
       "      <td>0.048481</td>\n",
       "      <td>0.985915</td>\n",
       "    </tr>\n",
       "    <tr>\n",
       "      <th>3</th>\n",
       "      <td>Android</td>\n",
       "      <td>MoPub</td>\n",
       "      <td>227.479220</td>\n",
       "      <td>75487</td>\n",
       "      <td>671</td>\n",
       "      <td>0</td>\n",
       "      <td>0</td>\n",
       "      <td>MoPub | Android</td>\n",
       "      <td>3.013489</td>\n",
       "      <td>0.008889</td>\n",
       "      <td>0.339015</td>\n",
       "      <td>inf</td>\n",
       "      <td>inf</td>\n",
       "      <td>0.000000</td>\n",
       "      <td>NaN</td>\n",
       "    </tr>\n",
       "    <tr>\n",
       "      <th>4</th>\n",
       "      <td>Android</td>\n",
       "      <td>TikTok</td>\n",
       "      <td>220.984239</td>\n",
       "      <td>97857</td>\n",
       "      <td>855</td>\n",
       "      <td>0</td>\n",
       "      <td>0</td>\n",
       "      <td>TikTok | Android</td>\n",
       "      <td>2.258236</td>\n",
       "      <td>0.008737</td>\n",
       "      <td>0.258461</td>\n",
       "      <td>inf</td>\n",
       "      <td>inf</td>\n",
       "      <td>0.000000</td>\n",
       "      <td>NaN</td>\n",
       "    </tr>\n",
       "    <tr>\n",
       "      <th>5</th>\n",
       "      <td>Android</td>\n",
       "      <td>YouTube</td>\n",
       "      <td>548.585343</td>\n",
       "      <td>146032</td>\n",
       "      <td>2754</td>\n",
       "      <td>101</td>\n",
       "      <td>101</td>\n",
       "      <td>YouTube | Android</td>\n",
       "      <td>3.756610</td>\n",
       "      <td>0.018859</td>\n",
       "      <td>0.199196</td>\n",
       "      <td>5.431538</td>\n",
       "      <td>5.431538</td>\n",
       "      <td>0.036674</td>\n",
       "      <td>1.000000</td>\n",
       "    </tr>\n",
       "    <tr>\n",
       "      <th>6</th>\n",
       "      <td>Desktop</td>\n",
       "      <td>Facebook News Feed</td>\n",
       "      <td>227.261037</td>\n",
       "      <td>64014</td>\n",
       "      <td>1556</td>\n",
       "      <td>12</td>\n",
       "      <td>12</td>\n",
       "      <td>Facebook News Feed | Desktop</td>\n",
       "      <td>3.550177</td>\n",
       "      <td>0.024307</td>\n",
       "      <td>0.146055</td>\n",
       "      <td>18.938420</td>\n",
       "      <td>18.938420</td>\n",
       "      <td>0.007712</td>\n",
       "      <td>1.000000</td>\n",
       "    </tr>\n",
       "    <tr>\n",
       "      <th>7</th>\n",
       "      <td>Desktop</td>\n",
       "      <td>Google Search Engine</td>\n",
       "      <td>540.836578</td>\n",
       "      <td>156920</td>\n",
       "      <td>4950</td>\n",
       "      <td>202</td>\n",
       "      <td>192</td>\n",
       "      <td>Google Search Engine | Desktop</td>\n",
       "      <td>3.446575</td>\n",
       "      <td>0.031545</td>\n",
       "      <td>0.109260</td>\n",
       "      <td>2.677409</td>\n",
       "      <td>2.816857</td>\n",
       "      <td>0.040808</td>\n",
       "      <td>0.950495</td>\n",
       "    </tr>\n",
       "    <tr>\n",
       "      <th>8</th>\n",
       "      <td>Desktop</td>\n",
       "      <td>Instagram Stories</td>\n",
       "      <td>122.856453</td>\n",
       "      <td>58483</td>\n",
       "      <td>650</td>\n",
       "      <td>0</td>\n",
       "      <td>0</td>\n",
       "      <td>Instagram Stories | Desktop</td>\n",
       "      <td>2.100721</td>\n",
       "      <td>0.011114</td>\n",
       "      <td>0.189010</td>\n",
       "      <td>inf</td>\n",
       "      <td>inf</td>\n",
       "      <td>0.000000</td>\n",
       "      <td>NaN</td>\n",
       "    </tr>\n",
       "    <tr>\n",
       "      <th>9</th>\n",
       "      <td>Desktop</td>\n",
       "      <td>MoPub</td>\n",
       "      <td>61.115309</td>\n",
       "      <td>28881</td>\n",
       "      <td>145</td>\n",
       "      <td>0</td>\n",
       "      <td>0</td>\n",
       "      <td>MoPub | Desktop</td>\n",
       "      <td>2.116108</td>\n",
       "      <td>0.005021</td>\n",
       "      <td>0.421485</td>\n",
       "      <td>inf</td>\n",
       "      <td>inf</td>\n",
       "      <td>0.000000</td>\n",
       "      <td>NaN</td>\n",
       "    </tr>\n",
       "    <tr>\n",
       "      <th>10</th>\n",
       "      <td>Desktop</td>\n",
       "      <td>TikTok</td>\n",
       "      <td>65.161188</td>\n",
       "      <td>38948</td>\n",
       "      <td>234</td>\n",
       "      <td>0</td>\n",
       "      <td>0</td>\n",
       "      <td>TikTok | Desktop</td>\n",
       "      <td>1.673030</td>\n",
       "      <td>0.006008</td>\n",
       "      <td>0.278467</td>\n",
       "      <td>inf</td>\n",
       "      <td>inf</td>\n",
       "      <td>0.000000</td>\n",
       "      <td>NaN</td>\n",
       "    </tr>\n",
       "    <tr>\n",
       "      <th>11</th>\n",
       "      <td>Desktop</td>\n",
       "      <td>YouTube</td>\n",
       "      <td>138.440878</td>\n",
       "      <td>73716</td>\n",
       "      <td>649</td>\n",
       "      <td>0</td>\n",
       "      <td>0</td>\n",
       "      <td>YouTube | Desktop</td>\n",
       "      <td>1.878030</td>\n",
       "      <td>0.008804</td>\n",
       "      <td>0.213314</td>\n",
       "      <td>inf</td>\n",
       "      <td>inf</td>\n",
       "      <td>0.000000</td>\n",
       "      <td>NaN</td>\n",
       "    </tr>\n",
       "    <tr>\n",
       "      <th>12</th>\n",
       "      <td>iOS</td>\n",
       "      <td>Facebook News Feed</td>\n",
       "      <td>964.578663</td>\n",
       "      <td>229661</td>\n",
       "      <td>6848</td>\n",
       "      <td>451</td>\n",
       "      <td>331</td>\n",
       "      <td>Facebook News Feed | iOS</td>\n",
       "      <td>4.200011</td>\n",
       "      <td>0.029818</td>\n",
       "      <td>0.140856</td>\n",
       "      <td>2.138755</td>\n",
       "      <td>2.914135</td>\n",
       "      <td>0.065859</td>\n",
       "      <td>0.733925</td>\n",
       "    </tr>\n",
       "    <tr>\n",
       "      <th>13</th>\n",
       "      <td>iOS</td>\n",
       "      <td>Google Search Engine</td>\n",
       "      <td>2226.396571</td>\n",
       "      <td>472004</td>\n",
       "      <td>20303</td>\n",
       "      <td>1537</td>\n",
       "      <td>596</td>\n",
       "      <td>Google Search Engine | iOS</td>\n",
       "      <td>4.716902</td>\n",
       "      <td>0.043014</td>\n",
       "      <td>0.109659</td>\n",
       "      <td>1.448534</td>\n",
       "      <td>3.735565</td>\n",
       "      <td>0.075703</td>\n",
       "      <td>0.387768</td>\n",
       "    </tr>\n",
       "    <tr>\n",
       "      <th>14</th>\n",
       "      <td>iOS</td>\n",
       "      <td>Instagram Stories</td>\n",
       "      <td>495.519966</td>\n",
       "      <td>135292</td>\n",
       "      <td>2986</td>\n",
       "      <td>152</td>\n",
       "      <td>149</td>\n",
       "      <td>Instagram Stories | iOS</td>\n",
       "      <td>3.662596</td>\n",
       "      <td>0.022071</td>\n",
       "      <td>0.165948</td>\n",
       "      <td>3.260000</td>\n",
       "      <td>3.325637</td>\n",
       "      <td>0.050904</td>\n",
       "      <td>0.980263</td>\n",
       "    </tr>\n",
       "    <tr>\n",
       "      <th>15</th>\n",
       "      <td>iOS</td>\n",
       "      <td>MoPub</td>\n",
       "      <td>270.525178</td>\n",
       "      <td>98515</td>\n",
       "      <td>775</td>\n",
       "      <td>0</td>\n",
       "      <td>0</td>\n",
       "      <td>MoPub | iOS</td>\n",
       "      <td>2.746030</td>\n",
       "      <td>0.007867</td>\n",
       "      <td>0.349065</td>\n",
       "      <td>inf</td>\n",
       "      <td>inf</td>\n",
       "      <td>0.000000</td>\n",
       "      <td>NaN</td>\n",
       "    </tr>\n",
       "    <tr>\n",
       "      <th>16</th>\n",
       "      <td>iOS</td>\n",
       "      <td>TikTok</td>\n",
       "      <td>245.906494</td>\n",
       "      <td>96263</td>\n",
       "      <td>950</td>\n",
       "      <td>2</td>\n",
       "      <td>2</td>\n",
       "      <td>TikTok | iOS</td>\n",
       "      <td>2.554528</td>\n",
       "      <td>0.009869</td>\n",
       "      <td>0.258849</td>\n",
       "      <td>122.953247</td>\n",
       "      <td>122.953247</td>\n",
       "      <td>0.002105</td>\n",
       "      <td>1.000000</td>\n",
       "    </tr>\n",
       "    <tr>\n",
       "      <th>17</th>\n",
       "      <td>iOS</td>\n",
       "      <td>YouTube</td>\n",
       "      <td>538.733538</td>\n",
       "      <td>163363</td>\n",
       "      <td>2813</td>\n",
       "      <td>110</td>\n",
       "      <td>109</td>\n",
       "      <td>YouTube | iOS</td>\n",
       "      <td>3.297770</td>\n",
       "      <td>0.017219</td>\n",
       "      <td>0.191516</td>\n",
       "      <td>4.897578</td>\n",
       "      <td>4.942510</td>\n",
       "      <td>0.039104</td>\n",
       "      <td>0.990909</td>\n",
       "    </tr>\n",
       "  </tbody>\n",
       "</table>\n",
       "</div>"
      ],
      "text/plain": [
       "   device_type          channel_name     cost_usd  impressions  clicks  \\\n",
       "0      Android    Facebook News Feed   947.778946       241666    6720   \n",
       "1      Android  Google Search Engine  2068.786097       439756   19249   \n",
       "2      Android     Instagram Stories   500.511884       150865    2929   \n",
       "3      Android                 MoPub   227.479220        75487     671   \n",
       "4      Android                TikTok   220.984239        97857     855   \n",
       "5      Android               YouTube   548.585343       146032    2754   \n",
       "6      Desktop    Facebook News Feed   227.261037        64014    1556   \n",
       "7      Desktop  Google Search Engine   540.836578       156920    4950   \n",
       "8      Desktop     Instagram Stories   122.856453        58483     650   \n",
       "9      Desktop                 MoPub    61.115309        28881     145   \n",
       "10     Desktop                TikTok    65.161188        38948     234   \n",
       "11     Desktop               YouTube   138.440878        73716     649   \n",
       "12         iOS    Facebook News Feed   964.578663       229661    6848   \n",
       "13         iOS  Google Search Engine  2226.396571       472004   20303   \n",
       "14         iOS     Instagram Stories   495.519966       135292    2986   \n",
       "15         iOS                 MoPub   270.525178        98515     775   \n",
       "16         iOS                TikTok   245.906494        96263     950   \n",
       "17         iOS               YouTube   538.733538       163363    2813   \n",
       "\n",
       "    signups  payments                           label       CPM       CTR  \\\n",
       "0       406       311    Facebook News Feed | Android  3.921855  0.027807   \n",
       "1      1457       571  Google Search Engine | Android  4.704395  0.043772   \n",
       "2       142       140     Instagram Stories | Android  3.317614  0.019415   \n",
       "3         0         0                 MoPub | Android  3.013489  0.008889   \n",
       "4         0         0                TikTok | Android  2.258236  0.008737   \n",
       "5       101       101               YouTube | Android  3.756610  0.018859   \n",
       "6        12        12    Facebook News Feed | Desktop  3.550177  0.024307   \n",
       "7       202       192  Google Search Engine | Desktop  3.446575  0.031545   \n",
       "8         0         0     Instagram Stories | Desktop  2.100721  0.011114   \n",
       "9         0         0                 MoPub | Desktop  2.116108  0.005021   \n",
       "10        0         0                TikTok | Desktop  1.673030  0.006008   \n",
       "11        0         0               YouTube | Desktop  1.878030  0.008804   \n",
       "12      451       331        Facebook News Feed | iOS  4.200011  0.029818   \n",
       "13     1537       596      Google Search Engine | iOS  4.716902  0.043014   \n",
       "14      152       149         Instagram Stories | iOS  3.662596  0.022071   \n",
       "15        0         0                     MoPub | iOS  2.746030  0.007867   \n",
       "16        2         2                    TikTok | iOS  2.554528  0.009869   \n",
       "17      110       109                   YouTube | iOS  3.297770  0.017219   \n",
       "\n",
       "         CPC         CPS         CPP       cr2       cr3  \n",
       "0   0.141039    2.334431    3.047521  0.060417  0.766010  \n",
       "1   0.107475    1.419894    3.623093  0.075692  0.391901  \n",
       "2   0.170881    3.524732    3.575085  0.048481  0.985915  \n",
       "3   0.339015         inf         inf  0.000000       NaN  \n",
       "4   0.258461         inf         inf  0.000000       NaN  \n",
       "5   0.199196    5.431538    5.431538  0.036674  1.000000  \n",
       "6   0.146055   18.938420   18.938420  0.007712  1.000000  \n",
       "7   0.109260    2.677409    2.816857  0.040808  0.950495  \n",
       "8   0.189010         inf         inf  0.000000       NaN  \n",
       "9   0.421485         inf         inf  0.000000       NaN  \n",
       "10  0.278467         inf         inf  0.000000       NaN  \n",
       "11  0.213314         inf         inf  0.000000       NaN  \n",
       "12  0.140856    2.138755    2.914135  0.065859  0.733925  \n",
       "13  0.109659    1.448534    3.735565  0.075703  0.387768  \n",
       "14  0.165948    3.260000    3.325637  0.050904  0.980263  \n",
       "15  0.349065         inf         inf  0.000000       NaN  \n",
       "16  0.258849  122.953247  122.953247  0.002105  1.000000  \n",
       "17  0.191516    4.897578    4.942510  0.039104  0.990909  "
      ]
     },
     "execution_count": 75,
     "metadata": {},
     "output_type": "execute_result"
    }
   ],
   "source": [
    "pivot_noobjective['CPM'] = (pivot_noobjective['cost_usd'] / pivot_noobjective['impressions']) * 1000\n",
    "pivot_noobjective['CTR'] = (pivot_noobjective['clicks'] / pivot_noobjective['impressions']) \n",
    "pivot_noobjective['CPC'] = (pivot_noobjective['cost_usd'] / pivot_noobjective['clicks']) \n",
    "pivot_noobjective['CPS'] = (pivot_noobjective['cost_usd'] / pivot_noobjective['signups']) \n",
    "pivot_noobjective['CPP'] = (pivot_noobjective['cost_usd'] / pivot_noobjective['payments']) \n",
    "pivot_noobjective['cr2'] = (pivot_noobjective['signups'] / pivot_noobjective['clicks'])\n",
    "pivot_noobjective['cr3'] = (pivot_noobjective['payments'] / pivot_noobjective['signups'])\n"
   ]
  },
  {
   "cell_type": "code",
   "execution_count": 45,
   "metadata": {},
   "outputs": [
    {
     "data": {
      "application/vnd.plotly.v1+json": {
       "config": {
        "plotlyServerURL": "https://plot.ly"
       },
       "data": [
        {
         "domain": {
          "x": [
           0,
           1
          ],
          "y": [
           0,
           1
          ]
         },
         "hovertemplate": "Campaign Type=%{label}<br>signups=%{value}<extra></extra>",
         "labels": [
          "Awareness",
          "Branding",
          "Prospecting",
          "Remarketing"
         ],
         "legendgroup": "",
         "marker": {
          "line": {
           "color": "white",
           "width": 1
          }
         },
         "name": "",
         "showlegend": true,
         "textfont": {
          "size": 14
         },
         "textinfo": "label+percent",
         "textposition": "inside",
         "type": "pie",
         "values": [
          1121,
          1143,
          1144,
          1164
         ]
        }
       ],
       "layout": {
        "legend": {
         "tracegroupgap": 0
        },
        "piecolorway": [
         "#51a16a",
         "#057dcd",
         "#f29f05",
         "#e3655b",
         "#9467bd"
        ],
        "template": {
         "data": {
          "bar": [
           {
            "error_x": {
             "color": "#2a3f5f"
            },
            "error_y": {
             "color": "#2a3f5f"
            },
            "marker": {
             "line": {
              "color": "#E5ECF6",
              "width": 0.5
             },
             "pattern": {
              "fillmode": "overlay",
              "size": 10,
              "solidity": 0.2
             }
            },
            "type": "bar"
           }
          ],
          "barpolar": [
           {
            "marker": {
             "line": {
              "color": "#E5ECF6",
              "width": 0.5
             },
             "pattern": {
              "fillmode": "overlay",
              "size": 10,
              "solidity": 0.2
             }
            },
            "type": "barpolar"
           }
          ],
          "carpet": [
           {
            "aaxis": {
             "endlinecolor": "#2a3f5f",
             "gridcolor": "white",
             "linecolor": "white",
             "minorgridcolor": "white",
             "startlinecolor": "#2a3f5f"
            },
            "baxis": {
             "endlinecolor": "#2a3f5f",
             "gridcolor": "white",
             "linecolor": "white",
             "minorgridcolor": "white",
             "startlinecolor": "#2a3f5f"
            },
            "type": "carpet"
           }
          ],
          "choropleth": [
           {
            "colorbar": {
             "outlinewidth": 0,
             "ticks": ""
            },
            "type": "choropleth"
           }
          ],
          "contour": [
           {
            "colorbar": {
             "outlinewidth": 0,
             "ticks": ""
            },
            "colorscale": [
             [
              0,
              "#0d0887"
             ],
             [
              0.1111111111111111,
              "#46039f"
             ],
             [
              0.2222222222222222,
              "#7201a8"
             ],
             [
              0.3333333333333333,
              "#9c179e"
             ],
             [
              0.4444444444444444,
              "#bd3786"
             ],
             [
              0.5555555555555556,
              "#d8576b"
             ],
             [
              0.6666666666666666,
              "#ed7953"
             ],
             [
              0.7777777777777778,
              "#fb9f3a"
             ],
             [
              0.8888888888888888,
              "#fdca26"
             ],
             [
              1,
              "#f0f921"
             ]
            ],
            "type": "contour"
           }
          ],
          "contourcarpet": [
           {
            "colorbar": {
             "outlinewidth": 0,
             "ticks": ""
            },
            "type": "contourcarpet"
           }
          ],
          "heatmap": [
           {
            "colorbar": {
             "outlinewidth": 0,
             "ticks": ""
            },
            "colorscale": [
             [
              0,
              "#0d0887"
             ],
             [
              0.1111111111111111,
              "#46039f"
             ],
             [
              0.2222222222222222,
              "#7201a8"
             ],
             [
              0.3333333333333333,
              "#9c179e"
             ],
             [
              0.4444444444444444,
              "#bd3786"
             ],
             [
              0.5555555555555556,
              "#d8576b"
             ],
             [
              0.6666666666666666,
              "#ed7953"
             ],
             [
              0.7777777777777778,
              "#fb9f3a"
             ],
             [
              0.8888888888888888,
              "#fdca26"
             ],
             [
              1,
              "#f0f921"
             ]
            ],
            "type": "heatmap"
           }
          ],
          "heatmapgl": [
           {
            "colorbar": {
             "outlinewidth": 0,
             "ticks": ""
            },
            "colorscale": [
             [
              0,
              "#0d0887"
             ],
             [
              0.1111111111111111,
              "#46039f"
             ],
             [
              0.2222222222222222,
              "#7201a8"
             ],
             [
              0.3333333333333333,
              "#9c179e"
             ],
             [
              0.4444444444444444,
              "#bd3786"
             ],
             [
              0.5555555555555556,
              "#d8576b"
             ],
             [
              0.6666666666666666,
              "#ed7953"
             ],
             [
              0.7777777777777778,
              "#fb9f3a"
             ],
             [
              0.8888888888888888,
              "#fdca26"
             ],
             [
              1,
              "#f0f921"
             ]
            ],
            "type": "heatmapgl"
           }
          ],
          "histogram": [
           {
            "marker": {
             "pattern": {
              "fillmode": "overlay",
              "size": 10,
              "solidity": 0.2
             }
            },
            "type": "histogram"
           }
          ],
          "histogram2d": [
           {
            "colorbar": {
             "outlinewidth": 0,
             "ticks": ""
            },
            "colorscale": [
             [
              0,
              "#0d0887"
             ],
             [
              0.1111111111111111,
              "#46039f"
             ],
             [
              0.2222222222222222,
              "#7201a8"
             ],
             [
              0.3333333333333333,
              "#9c179e"
             ],
             [
              0.4444444444444444,
              "#bd3786"
             ],
             [
              0.5555555555555556,
              "#d8576b"
             ],
             [
              0.6666666666666666,
              "#ed7953"
             ],
             [
              0.7777777777777778,
              "#fb9f3a"
             ],
             [
              0.8888888888888888,
              "#fdca26"
             ],
             [
              1,
              "#f0f921"
             ]
            ],
            "type": "histogram2d"
           }
          ],
          "histogram2dcontour": [
           {
            "colorbar": {
             "outlinewidth": 0,
             "ticks": ""
            },
            "colorscale": [
             [
              0,
              "#0d0887"
             ],
             [
              0.1111111111111111,
              "#46039f"
             ],
             [
              0.2222222222222222,
              "#7201a8"
             ],
             [
              0.3333333333333333,
              "#9c179e"
             ],
             [
              0.4444444444444444,
              "#bd3786"
             ],
             [
              0.5555555555555556,
              "#d8576b"
             ],
             [
              0.6666666666666666,
              "#ed7953"
             ],
             [
              0.7777777777777778,
              "#fb9f3a"
             ],
             [
              0.8888888888888888,
              "#fdca26"
             ],
             [
              1,
              "#f0f921"
             ]
            ],
            "type": "histogram2dcontour"
           }
          ],
          "mesh3d": [
           {
            "colorbar": {
             "outlinewidth": 0,
             "ticks": ""
            },
            "type": "mesh3d"
           }
          ],
          "parcoords": [
           {
            "line": {
             "colorbar": {
              "outlinewidth": 0,
              "ticks": ""
             }
            },
            "type": "parcoords"
           }
          ],
          "pie": [
           {
            "automargin": true,
            "type": "pie"
           }
          ],
          "scatter": [
           {
            "fillpattern": {
             "fillmode": "overlay",
             "size": 10,
             "solidity": 0.2
            },
            "type": "scatter"
           }
          ],
          "scatter3d": [
           {
            "line": {
             "colorbar": {
              "outlinewidth": 0,
              "ticks": ""
             }
            },
            "marker": {
             "colorbar": {
              "outlinewidth": 0,
              "ticks": ""
             }
            },
            "type": "scatter3d"
           }
          ],
          "scattercarpet": [
           {
            "marker": {
             "colorbar": {
              "outlinewidth": 0,
              "ticks": ""
             }
            },
            "type": "scattercarpet"
           }
          ],
          "scattergeo": [
           {
            "marker": {
             "colorbar": {
              "outlinewidth": 0,
              "ticks": ""
             }
            },
            "type": "scattergeo"
           }
          ],
          "scattergl": [
           {
            "marker": {
             "colorbar": {
              "outlinewidth": 0,
              "ticks": ""
             }
            },
            "type": "scattergl"
           }
          ],
          "scattermapbox": [
           {
            "marker": {
             "colorbar": {
              "outlinewidth": 0,
              "ticks": ""
             }
            },
            "type": "scattermapbox"
           }
          ],
          "scatterpolar": [
           {
            "marker": {
             "colorbar": {
              "outlinewidth": 0,
              "ticks": ""
             }
            },
            "type": "scatterpolar"
           }
          ],
          "scatterpolargl": [
           {
            "marker": {
             "colorbar": {
              "outlinewidth": 0,
              "ticks": ""
             }
            },
            "type": "scatterpolargl"
           }
          ],
          "scatterternary": [
           {
            "marker": {
             "colorbar": {
              "outlinewidth": 0,
              "ticks": ""
             }
            },
            "type": "scatterternary"
           }
          ],
          "surface": [
           {
            "colorbar": {
             "outlinewidth": 0,
             "ticks": ""
            },
            "colorscale": [
             [
              0,
              "#0d0887"
             ],
             [
              0.1111111111111111,
              "#46039f"
             ],
             [
              0.2222222222222222,
              "#7201a8"
             ],
             [
              0.3333333333333333,
              "#9c179e"
             ],
             [
              0.4444444444444444,
              "#bd3786"
             ],
             [
              0.5555555555555556,
              "#d8576b"
             ],
             [
              0.6666666666666666,
              "#ed7953"
             ],
             [
              0.7777777777777778,
              "#fb9f3a"
             ],
             [
              0.8888888888888888,
              "#fdca26"
             ],
             [
              1,
              "#f0f921"
             ]
            ],
            "type": "surface"
           }
          ],
          "table": [
           {
            "cells": {
             "fill": {
              "color": "#EBF0F8"
             },
             "line": {
              "color": "white"
             }
            },
            "header": {
             "fill": {
              "color": "#C8D4E3"
             },
             "line": {
              "color": "white"
             }
            },
            "type": "table"
           }
          ]
         },
         "layout": {
          "annotationdefaults": {
           "arrowcolor": "#2a3f5f",
           "arrowhead": 0,
           "arrowwidth": 1
          },
          "autotypenumbers": "strict",
          "coloraxis": {
           "colorbar": {
            "outlinewidth": 0,
            "ticks": ""
           }
          },
          "colorscale": {
           "diverging": [
            [
             0,
             "#8e0152"
            ],
            [
             0.1,
             "#c51b7d"
            ],
            [
             0.2,
             "#de77ae"
            ],
            [
             0.3,
             "#f1b6da"
            ],
            [
             0.4,
             "#fde0ef"
            ],
            [
             0.5,
             "#f7f7f7"
            ],
            [
             0.6,
             "#e6f5d0"
            ],
            [
             0.7,
             "#b8e186"
            ],
            [
             0.8,
             "#7fbc41"
            ],
            [
             0.9,
             "#4d9221"
            ],
            [
             1,
             "#276419"
            ]
           ],
           "sequential": [
            [
             0,
             "#0d0887"
            ],
            [
             0.1111111111111111,
             "#46039f"
            ],
            [
             0.2222222222222222,
             "#7201a8"
            ],
            [
             0.3333333333333333,
             "#9c179e"
            ],
            [
             0.4444444444444444,
             "#bd3786"
            ],
            [
             0.5555555555555556,
             "#d8576b"
            ],
            [
             0.6666666666666666,
             "#ed7953"
            ],
            [
             0.7777777777777778,
             "#fb9f3a"
            ],
            [
             0.8888888888888888,
             "#fdca26"
            ],
            [
             1,
             "#f0f921"
            ]
           ],
           "sequentialminus": [
            [
             0,
             "#0d0887"
            ],
            [
             0.1111111111111111,
             "#46039f"
            ],
            [
             0.2222222222222222,
             "#7201a8"
            ],
            [
             0.3333333333333333,
             "#9c179e"
            ],
            [
             0.4444444444444444,
             "#bd3786"
            ],
            [
             0.5555555555555556,
             "#d8576b"
            ],
            [
             0.6666666666666666,
             "#ed7953"
            ],
            [
             0.7777777777777778,
             "#fb9f3a"
            ],
            [
             0.8888888888888888,
             "#fdca26"
            ],
            [
             1,
             "#f0f921"
            ]
           ]
          },
          "colorway": [
           "#636efa",
           "#EF553B",
           "#00cc96",
           "#ab63fa",
           "#FFA15A",
           "#19d3f3",
           "#FF6692",
           "#B6E880",
           "#FF97FF",
           "#FECB52"
          ],
          "font": {
           "color": "#2a3f5f"
          },
          "geo": {
           "bgcolor": "white",
           "lakecolor": "white",
           "landcolor": "#E5ECF6",
           "showlakes": true,
           "showland": true,
           "subunitcolor": "white"
          },
          "hoverlabel": {
           "align": "left"
          },
          "hovermode": "closest",
          "mapbox": {
           "style": "light"
          },
          "paper_bgcolor": "white",
          "plot_bgcolor": "#E5ECF6",
          "polar": {
           "angularaxis": {
            "gridcolor": "white",
            "linecolor": "white",
            "ticks": ""
           },
           "bgcolor": "#E5ECF6",
           "radialaxis": {
            "gridcolor": "white",
            "linecolor": "white",
            "ticks": ""
           }
          },
          "scene": {
           "xaxis": {
            "backgroundcolor": "#E5ECF6",
            "gridcolor": "white",
            "gridwidth": 2,
            "linecolor": "white",
            "showbackground": true,
            "ticks": "",
            "zerolinecolor": "white"
           },
           "yaxis": {
            "backgroundcolor": "#E5ECF6",
            "gridcolor": "white",
            "gridwidth": 2,
            "linecolor": "white",
            "showbackground": true,
            "ticks": "",
            "zerolinecolor": "white"
           },
           "zaxis": {
            "backgroundcolor": "#E5ECF6",
            "gridcolor": "white",
            "gridwidth": 2,
            "linecolor": "white",
            "showbackground": true,
            "ticks": "",
            "zerolinecolor": "white"
           }
          },
          "shapedefaults": {
           "line": {
            "color": "#2a3f5f"
           }
          },
          "ternary": {
           "aaxis": {
            "gridcolor": "white",
            "linecolor": "white",
            "ticks": ""
           },
           "baxis": {
            "gridcolor": "white",
            "linecolor": "white",
            "ticks": ""
           },
           "bgcolor": "#E5ECF6",
           "caxis": {
            "gridcolor": "white",
            "linecolor": "white",
            "ticks": ""
           }
          },
          "title": {
           "x": 0.05
          },
          "xaxis": {
           "automargin": true,
           "gridcolor": "white",
           "linecolor": "white",
           "ticks": "",
           "title": {
            "standoff": 15
           },
           "zerolinecolor": "white",
           "zerolinewidth": 2
          },
          "yaxis": {
           "automargin": true,
           "gridcolor": "white",
           "linecolor": "white",
           "ticks": "",
           "title": {
            "standoff": 15
           },
           "zerolinecolor": "white",
           "zerolinewidth": 2
          }
         }
        },
        "title": {
         "font": {
          "size": 20
         },
         "text": "Total Clicks by Campaign Type",
         "x": 0.5
        },
        "uniformtext": {
         "mode": "show"
        }
       }
      }
     },
     "metadata": {},
     "output_type": "display_data"
    }
   ],
   "source": [
    "color_palette = ['#51a16a', '#057dcd', '#f29f05', '#e3655b', '#9467bd']\n",
    "fig = px.pie(campaign_summary, \n",
    "             names='objective', \n",
    "             values='signups', \n",
    "             title='Total Impressions by Campaign Type',\n",
    "             color_discrete_sequence=color_palette,\n",
    "             labels={'objective': 'Campaign Type', 'impressions': 'Impressions'})\n",
    "\n",
    "# Customize the layout for better appearance\n",
    "fig.update_layout(\n",
    "    title_text='Total Clicks by Campaign Type',\n",
    "    title_x=0.5,  \n",
    "    title_font_size=20,\n",
    "    uniformtext_mode='show'\n",
    ")\n",
    "fig.update_traces(\n",
    "    textinfo='label+percent',  # Show label and percentage\n",
    "    textfont_size=14,  # Adjust font size for better readability\n",
    "    textposition='inside',  # Place text inside the slices\n",
    "    marker=dict(line=dict(color='white', width=1))  # Add a border for better text visibility\n",
    ")\n",
    "fig.show()"
   ]
  },
  {
   "cell_type": "code",
   "execution_count": 63,
   "metadata": {},
   "outputs": [
    {
     "name": "stdout",
     "output_type": "stream",
     "text": [
      "This is the format of your plot grid:\n",
      "[ (1,1) x,y   ]\n",
      "[ (2,1) x2,y2 ]\n",
      "[ (3,1) x3,y3 ]\n",
      "[ (4,1) x4,y4 ]\n",
      "\n"
     ]
    },
    {
     "data": {
      "application/vnd.plotly.v1+json": {
       "config": {
        "plotlyServerURL": "https://plot.ly"
       },
       "data": [
        {
         "colorbar": {
          "lenmode": "fraction",
          "thickness": 15,
          "title": {
           "text": "CPC"
          }
         },
         "colorscale": [
          [
           0,
           "rgb(255,255,217)"
          ],
          [
           0.125,
           "rgb(237,248,177)"
          ],
          [
           0.25,
           "rgb(199,233,180)"
          ],
          [
           0.375,
           "rgb(127,205,187)"
          ],
          [
           0.5,
           "rgb(65,182,196)"
          ],
          [
           0.625,
           "rgb(29,145,192)"
          ],
          [
           0.75,
           "rgb(34,94,168)"
          ],
          [
           0.875,
           "rgb(37,52,148)"
          ],
          [
           1,
           "rgb(8,29,88)"
          ]
         ],
         "text": [
          0.1341293525648984,
          0.16358598793297588,
          0.1386161535950413,
          0.1063721562445141,
          0.11457075678942809,
          0.11295660164275524,
          0.16685281954894673,
          0.19412338956849315,
          0.1680162602998761,
          0.3588338632094595,
          0.4468520202222222,
          0.3194206739933775,
          0.2645487168918919,
          0.26647194793333334,
          0.2536927730297398,
          0.20457190599162478,
          0.21316770313812156,
          0.1978587079749009
         ],
         "textfont": {
          "size": 10
         },
         "texttemplate": "%{text:.2f}",
         "type": "heatmap",
         "x": [
          "Facebook News Feed",
          "Facebook News Feed",
          "Facebook News Feed",
          "Google Search Engine",
          "Google Search Engine",
          "Google Search Engine",
          "Instagram Stories",
          "Instagram Stories",
          "Instagram Stories",
          "MoPub",
          "MoPub",
          "MoPub",
          "TikTok",
          "TikTok",
          "TikTok",
          "YouTube",
          "YouTube",
          "YouTube"
         ],
         "xaxis": "x",
         "y": [
          "Android",
          "Desktop",
          "iOS",
          "Android",
          "Desktop",
          "iOS",
          "Android",
          "Desktop",
          "iOS",
          "Android",
          "Desktop",
          "iOS",
          "Android",
          "Desktop",
          "iOS",
          "Android",
          "Desktop",
          "iOS"
         ],
         "yaxis": "y",
         "z": [
          0.1341293525648984,
          0.16358598793297588,
          0.1386161535950413,
          0.1063721562445141,
          0.11457075678942809,
          0.11295660164275524,
          0.16685281954894673,
          0.19412338956849315,
          0.1680162602998761,
          0.3588338632094595,
          0.4468520202222222,
          0.3194206739933775,
          0.2645487168918919,
          0.26647194793333334,
          0.2536927730297398,
          0.20457190599162478,
          0.21316770313812156,
          0.1978587079749009
         ],
         "zmax": 0.4468520202222222,
         "zmin": 0.1044461901071953
        },
        {
         "colorbar": {
          "lenmode": "fraction",
          "thickness": 15,
          "title": {
           "text": "CPC"
          }
         },
         "colorscale": [
          [
           0,
           "rgb(255,255,217)"
          ],
          [
           0.125,
           "rgb(237,248,177)"
          ],
          [
           0.25,
           "rgb(199,233,180)"
          ],
          [
           0.375,
           "rgb(127,205,187)"
          ],
          [
           0.5,
           "rgb(65,182,196)"
          ],
          [
           0.625,
           "rgb(29,145,192)"
          ],
          [
           0.75,
           "rgb(34,94,168)"
          ],
          [
           0.875,
           "rgb(37,52,148)"
          ],
          [
           1,
           "rgb(8,29,88)"
          ]
         ],
         "text": [
          0.1570002911397985,
          0.1418962185047847,
          0.144158333,
          0.10631634886855724,
          0.1044461901071953,
          0.10577455702561141,
          0.17522330978100265,
          0.19587937660240964,
          0.17379948610183066,
          0.3510434254633028,
          0.41591865086046514,
          0.3673694772488263,
          0.2673653139561403,
          0.25789451780898875,
          0.2568323485409836,
          0.19679620282172705,
          0.215146322006993,
          0.18179313137658226
         ],
         "textfont": {
          "size": 10
         },
         "texttemplate": "%{text:.2f}",
         "type": "heatmap",
         "x": [
          "Facebook News Feed",
          "Facebook News Feed",
          "Facebook News Feed",
          "Google Search Engine",
          "Google Search Engine",
          "Google Search Engine",
          "Instagram Stories",
          "Instagram Stories",
          "Instagram Stories",
          "MoPub",
          "MoPub",
          "MoPub",
          "TikTok",
          "TikTok",
          "TikTok",
          "YouTube",
          "YouTube",
          "YouTube"
         ],
         "xaxis": "x2",
         "y": [
          "Android",
          "Desktop",
          "iOS",
          "Android",
          "Desktop",
          "iOS",
          "Android",
          "Desktop",
          "iOS",
          "Android",
          "Desktop",
          "iOS",
          "Android",
          "Desktop",
          "iOS",
          "Android",
          "Desktop",
          "iOS"
         ],
         "yaxis": "y2",
         "z": [
          0.1570002911397985,
          0.1418962185047847,
          0.144158333,
          0.10631634886855724,
          0.1044461901071953,
          0.10577455702561141,
          0.17522330978100265,
          0.19587937660240964,
          0.17379948610183066,
          0.3510434254633028,
          0.41591865086046514,
          0.3673694772488263,
          0.2673653139561403,
          0.25789451780898875,
          0.2568323485409836,
          0.19679620282172705,
          0.215146322006993,
          0.18179313137658226
         ],
         "zmax": 0.4468520202222222,
         "zmin": 0.1044461901071953
        },
        {
         "colorbar": {
          "lenmode": "fraction",
          "thickness": 15,
          "title": {
           "text": "CPC"
          }
         },
         "colorscale": [
          [
           0,
           "rgb(255,255,217)"
          ],
          [
           0.125,
           "rgb(237,248,177)"
          ],
          [
           0.25,
           "rgb(199,233,180)"
          ],
          [
           0.375,
           "rgb(127,205,187)"
          ],
          [
           0.5,
           "rgb(65,182,196)"
          ],
          [
           0.625,
           "rgb(29,145,192)"
          ],
          [
           0.75,
           "rgb(34,94,168)"
          ],
          [
           0.875,
           "rgb(37,52,148)"
          ],
          [
           1,
           "rgb(8,29,88)"
          ]
         ],
         "text": [
          0.14314080842875157,
          0.13454052441527448,
          0.1357409093357626,
          0.11251385746533094,
          0.10505524751582278,
          0.11018120912117924,
          0.17100227208589744,
          0.1846380238951049,
          0.155875934765625,
          0.29317044732330827,
          0.4176437928125,
          0.3353659444361702,
          0.2737473686842105,
          0.3018145790943396,
          0.2640494239623431,
          0.20706161388888888,
          0.20288575560919542,
          0.18645948889316238
         ],
         "textfont": {
          "size": 10
         },
         "texttemplate": "%{text:.2f}",
         "type": "heatmap",
         "x": [
          "Facebook News Feed",
          "Facebook News Feed",
          "Facebook News Feed",
          "Google Search Engine",
          "Google Search Engine",
          "Google Search Engine",
          "Instagram Stories",
          "Instagram Stories",
          "Instagram Stories",
          "MoPub",
          "MoPub",
          "MoPub",
          "TikTok",
          "TikTok",
          "TikTok",
          "YouTube",
          "YouTube",
          "YouTube"
         ],
         "xaxis": "x3",
         "y": [
          "Android",
          "Desktop",
          "iOS",
          "Android",
          "Desktop",
          "iOS",
          "Android",
          "Desktop",
          "iOS",
          "Android",
          "Desktop",
          "iOS",
          "Android",
          "Desktop",
          "iOS",
          "Android",
          "Desktop",
          "iOS"
         ],
         "yaxis": "y3",
         "z": [
          0.14314080842875157,
          0.13454052441527448,
          0.1357409093357626,
          0.11251385746533094,
          0.10505524751582278,
          0.11018120912117924,
          0.17100227208589744,
          0.1846380238951049,
          0.155875934765625,
          0.29317044732330827,
          0.4176437928125,
          0.3353659444361702,
          0.2737473686842105,
          0.3018145790943396,
          0.2640494239623431,
          0.20706161388888888,
          0.20288575560919542,
          0.18645948889316238
         ],
         "zmax": 0.4468520202222222,
         "zmin": 0.1044461901071953
        },
        {
         "colorbar": {
          "lenmode": "fraction",
          "thickness": 15,
          "title": {
           "text": "CPC"
          }
         },
         "colorscale": [
          [
           0,
           "rgb(255,255,217)"
          ],
          [
           0.125,
           "rgb(237,248,177)"
          ],
          [
           0.25,
           "rgb(199,233,180)"
          ],
          [
           0.375,
           "rgb(127,205,187)"
          ],
          [
           0.5,
           "rgb(65,182,196)"
          ],
          [
           0.625,
           "rgb(29,145,192)"
          ],
          [
           0.75,
           "rgb(34,94,168)"
          ],
          [
           0.875,
           "rgb(37,52,148)"
          ],
          [
           1,
           "rgb(8,29,88)"
          ]
         ],
         "text": [
          0.13177223711950395,
          0.1461224415635838,
          0.14498752615863142,
          0.1052580414189944,
          0.1141678464811966,
          0.10989288541848524,
          0.17065174202226027,
          0.1825396102923077,
          0.16220240714266118,
          0.34216669676162786,
          0.4139814118604651,
          0.3632025116816144,
          0.2344104533531746,
          0.29384265317741937,
          0.26206178075252523,
          0.19030059130366492,
          0.22377137941059605,
          0.1982917952936288
         ],
         "textfont": {
          "size": 10
         },
         "texttemplate": "%{text:.2f}",
         "type": "heatmap",
         "x": [
          "Facebook News Feed",
          "Facebook News Feed",
          "Facebook News Feed",
          "Google Search Engine",
          "Google Search Engine",
          "Google Search Engine",
          "Instagram Stories",
          "Instagram Stories",
          "Instagram Stories",
          "MoPub",
          "MoPub",
          "MoPub",
          "TikTok",
          "TikTok",
          "TikTok",
          "YouTube",
          "YouTube",
          "YouTube"
         ],
         "xaxis": "x4",
         "y": [
          "Android",
          "Desktop",
          "iOS",
          "Android",
          "Desktop",
          "iOS",
          "Android",
          "Desktop",
          "iOS",
          "Android",
          "Desktop",
          "iOS",
          "Android",
          "Desktop",
          "iOS",
          "Android",
          "Desktop",
          "iOS"
         ],
         "yaxis": "y4",
         "z": [
          0.13177223711950395,
          0.1461224415635838,
          0.14498752615863142,
          0.1052580414189944,
          0.1141678464811966,
          0.10989288541848524,
          0.17065174202226027,
          0.1825396102923077,
          0.16220240714266118,
          0.34216669676162786,
          0.4139814118604651,
          0.3632025116816144,
          0.2344104533531746,
          0.29384265317741937,
          0.26206178075252523,
          0.19030059130366492,
          0.22377137941059605,
          0.1982917952936288
         ],
         "zmax": 0.4468520202222222,
         "zmin": 0.1044461901071953
        }
       ],
       "layout": {
        "annotations": [
         {
          "font": {
           "size": 16
          },
          "showarrow": false,
          "text": "Awareness",
          "x": 0.5,
          "xanchor": "center",
          "xref": "paper",
          "y": 1,
          "yanchor": "bottom",
          "yref": "paper"
         },
         {
          "font": {
           "size": 16
          },
          "showarrow": false,
          "text": "Branding",
          "x": 0.5,
          "xanchor": "center",
          "xref": "paper",
          "y": 0.7375,
          "yanchor": "bottom",
          "yref": "paper"
         },
         {
          "font": {
           "size": 16
          },
          "showarrow": false,
          "text": "Prospecting",
          "x": 0.5,
          "xanchor": "center",
          "xref": "paper",
          "y": 0.475,
          "yanchor": "bottom",
          "yref": "paper"
         },
         {
          "font": {
           "size": 16
          },
          "showarrow": false,
          "text": "Remarketing",
          "x": 0.5,
          "xanchor": "center",
          "xref": "paper",
          "y": 0.2125,
          "yanchor": "bottom",
          "yref": "paper"
         }
        ],
        "font": {
         "size": 12
        },
        "height": 900,
        "template": {
         "data": {
          "bar": [
           {
            "error_x": {
             "color": "#2a3f5f"
            },
            "error_y": {
             "color": "#2a3f5f"
            },
            "marker": {
             "line": {
              "color": "#E5ECF6",
              "width": 0.5
             },
             "pattern": {
              "fillmode": "overlay",
              "size": 10,
              "solidity": 0.2
             }
            },
            "type": "bar"
           }
          ],
          "barpolar": [
           {
            "marker": {
             "line": {
              "color": "#E5ECF6",
              "width": 0.5
             },
             "pattern": {
              "fillmode": "overlay",
              "size": 10,
              "solidity": 0.2
             }
            },
            "type": "barpolar"
           }
          ],
          "carpet": [
           {
            "aaxis": {
             "endlinecolor": "#2a3f5f",
             "gridcolor": "white",
             "linecolor": "white",
             "minorgridcolor": "white",
             "startlinecolor": "#2a3f5f"
            },
            "baxis": {
             "endlinecolor": "#2a3f5f",
             "gridcolor": "white",
             "linecolor": "white",
             "minorgridcolor": "white",
             "startlinecolor": "#2a3f5f"
            },
            "type": "carpet"
           }
          ],
          "choropleth": [
           {
            "colorbar": {
             "outlinewidth": 0,
             "ticks": ""
            },
            "type": "choropleth"
           }
          ],
          "contour": [
           {
            "colorbar": {
             "outlinewidth": 0,
             "ticks": ""
            },
            "colorscale": [
             [
              0,
              "#0d0887"
             ],
             [
              0.1111111111111111,
              "#46039f"
             ],
             [
              0.2222222222222222,
              "#7201a8"
             ],
             [
              0.3333333333333333,
              "#9c179e"
             ],
             [
              0.4444444444444444,
              "#bd3786"
             ],
             [
              0.5555555555555556,
              "#d8576b"
             ],
             [
              0.6666666666666666,
              "#ed7953"
             ],
             [
              0.7777777777777778,
              "#fb9f3a"
             ],
             [
              0.8888888888888888,
              "#fdca26"
             ],
             [
              1,
              "#f0f921"
             ]
            ],
            "type": "contour"
           }
          ],
          "contourcarpet": [
           {
            "colorbar": {
             "outlinewidth": 0,
             "ticks": ""
            },
            "type": "contourcarpet"
           }
          ],
          "heatmap": [
           {
            "colorbar": {
             "outlinewidth": 0,
             "ticks": ""
            },
            "colorscale": [
             [
              0,
              "#0d0887"
             ],
             [
              0.1111111111111111,
              "#46039f"
             ],
             [
              0.2222222222222222,
              "#7201a8"
             ],
             [
              0.3333333333333333,
              "#9c179e"
             ],
             [
              0.4444444444444444,
              "#bd3786"
             ],
             [
              0.5555555555555556,
              "#d8576b"
             ],
             [
              0.6666666666666666,
              "#ed7953"
             ],
             [
              0.7777777777777778,
              "#fb9f3a"
             ],
             [
              0.8888888888888888,
              "#fdca26"
             ],
             [
              1,
              "#f0f921"
             ]
            ],
            "type": "heatmap"
           }
          ],
          "heatmapgl": [
           {
            "colorbar": {
             "outlinewidth": 0,
             "ticks": ""
            },
            "colorscale": [
             [
              0,
              "#0d0887"
             ],
             [
              0.1111111111111111,
              "#46039f"
             ],
             [
              0.2222222222222222,
              "#7201a8"
             ],
             [
              0.3333333333333333,
              "#9c179e"
             ],
             [
              0.4444444444444444,
              "#bd3786"
             ],
             [
              0.5555555555555556,
              "#d8576b"
             ],
             [
              0.6666666666666666,
              "#ed7953"
             ],
             [
              0.7777777777777778,
              "#fb9f3a"
             ],
             [
              0.8888888888888888,
              "#fdca26"
             ],
             [
              1,
              "#f0f921"
             ]
            ],
            "type": "heatmapgl"
           }
          ],
          "histogram": [
           {
            "marker": {
             "pattern": {
              "fillmode": "overlay",
              "size": 10,
              "solidity": 0.2
             }
            },
            "type": "histogram"
           }
          ],
          "histogram2d": [
           {
            "colorbar": {
             "outlinewidth": 0,
             "ticks": ""
            },
            "colorscale": [
             [
              0,
              "#0d0887"
             ],
             [
              0.1111111111111111,
              "#46039f"
             ],
             [
              0.2222222222222222,
              "#7201a8"
             ],
             [
              0.3333333333333333,
              "#9c179e"
             ],
             [
              0.4444444444444444,
              "#bd3786"
             ],
             [
              0.5555555555555556,
              "#d8576b"
             ],
             [
              0.6666666666666666,
              "#ed7953"
             ],
             [
              0.7777777777777778,
              "#fb9f3a"
             ],
             [
              0.8888888888888888,
              "#fdca26"
             ],
             [
              1,
              "#f0f921"
             ]
            ],
            "type": "histogram2d"
           }
          ],
          "histogram2dcontour": [
           {
            "colorbar": {
             "outlinewidth": 0,
             "ticks": ""
            },
            "colorscale": [
             [
              0,
              "#0d0887"
             ],
             [
              0.1111111111111111,
              "#46039f"
             ],
             [
              0.2222222222222222,
              "#7201a8"
             ],
             [
              0.3333333333333333,
              "#9c179e"
             ],
             [
              0.4444444444444444,
              "#bd3786"
             ],
             [
              0.5555555555555556,
              "#d8576b"
             ],
             [
              0.6666666666666666,
              "#ed7953"
             ],
             [
              0.7777777777777778,
              "#fb9f3a"
             ],
             [
              0.8888888888888888,
              "#fdca26"
             ],
             [
              1,
              "#f0f921"
             ]
            ],
            "type": "histogram2dcontour"
           }
          ],
          "mesh3d": [
           {
            "colorbar": {
             "outlinewidth": 0,
             "ticks": ""
            },
            "type": "mesh3d"
           }
          ],
          "parcoords": [
           {
            "line": {
             "colorbar": {
              "outlinewidth": 0,
              "ticks": ""
             }
            },
            "type": "parcoords"
           }
          ],
          "pie": [
           {
            "automargin": true,
            "type": "pie"
           }
          ],
          "scatter": [
           {
            "fillpattern": {
             "fillmode": "overlay",
             "size": 10,
             "solidity": 0.2
            },
            "type": "scatter"
           }
          ],
          "scatter3d": [
           {
            "line": {
             "colorbar": {
              "outlinewidth": 0,
              "ticks": ""
             }
            },
            "marker": {
             "colorbar": {
              "outlinewidth": 0,
              "ticks": ""
             }
            },
            "type": "scatter3d"
           }
          ],
          "scattercarpet": [
           {
            "marker": {
             "colorbar": {
              "outlinewidth": 0,
              "ticks": ""
             }
            },
            "type": "scattercarpet"
           }
          ],
          "scattergeo": [
           {
            "marker": {
             "colorbar": {
              "outlinewidth": 0,
              "ticks": ""
             }
            },
            "type": "scattergeo"
           }
          ],
          "scattergl": [
           {
            "marker": {
             "colorbar": {
              "outlinewidth": 0,
              "ticks": ""
             }
            },
            "type": "scattergl"
           }
          ],
          "scattermapbox": [
           {
            "marker": {
             "colorbar": {
              "outlinewidth": 0,
              "ticks": ""
             }
            },
            "type": "scattermapbox"
           }
          ],
          "scatterpolar": [
           {
            "marker": {
             "colorbar": {
              "outlinewidth": 0,
              "ticks": ""
             }
            },
            "type": "scatterpolar"
           }
          ],
          "scatterpolargl": [
           {
            "marker": {
             "colorbar": {
              "outlinewidth": 0,
              "ticks": ""
             }
            },
            "type": "scatterpolargl"
           }
          ],
          "scatterternary": [
           {
            "marker": {
             "colorbar": {
              "outlinewidth": 0,
              "ticks": ""
             }
            },
            "type": "scatterternary"
           }
          ],
          "surface": [
           {
            "colorbar": {
             "outlinewidth": 0,
             "ticks": ""
            },
            "colorscale": [
             [
              0,
              "#0d0887"
             ],
             [
              0.1111111111111111,
              "#46039f"
             ],
             [
              0.2222222222222222,
              "#7201a8"
             ],
             [
              0.3333333333333333,
              "#9c179e"
             ],
             [
              0.4444444444444444,
              "#bd3786"
             ],
             [
              0.5555555555555556,
              "#d8576b"
             ],
             [
              0.6666666666666666,
              "#ed7953"
             ],
             [
              0.7777777777777778,
              "#fb9f3a"
             ],
             [
              0.8888888888888888,
              "#fdca26"
             ],
             [
              1,
              "#f0f921"
             ]
            ],
            "type": "surface"
           }
          ],
          "table": [
           {
            "cells": {
             "fill": {
              "color": "#EBF0F8"
             },
             "line": {
              "color": "white"
             }
            },
            "header": {
             "fill": {
              "color": "#C8D4E3"
             },
             "line": {
              "color": "white"
             }
            },
            "type": "table"
           }
          ]
         },
         "layout": {
          "annotationdefaults": {
           "arrowcolor": "#2a3f5f",
           "arrowhead": 0,
           "arrowwidth": 1
          },
          "autotypenumbers": "strict",
          "coloraxis": {
           "colorbar": {
            "outlinewidth": 0,
            "ticks": ""
           }
          },
          "colorscale": {
           "diverging": [
            [
             0,
             "#8e0152"
            ],
            [
             0.1,
             "#c51b7d"
            ],
            [
             0.2,
             "#de77ae"
            ],
            [
             0.3,
             "#f1b6da"
            ],
            [
             0.4,
             "#fde0ef"
            ],
            [
             0.5,
             "#f7f7f7"
            ],
            [
             0.6,
             "#e6f5d0"
            ],
            [
             0.7,
             "#b8e186"
            ],
            [
             0.8,
             "#7fbc41"
            ],
            [
             0.9,
             "#4d9221"
            ],
            [
             1,
             "#276419"
            ]
           ],
           "sequential": [
            [
             0,
             "#0d0887"
            ],
            [
             0.1111111111111111,
             "#46039f"
            ],
            [
             0.2222222222222222,
             "#7201a8"
            ],
            [
             0.3333333333333333,
             "#9c179e"
            ],
            [
             0.4444444444444444,
             "#bd3786"
            ],
            [
             0.5555555555555556,
             "#d8576b"
            ],
            [
             0.6666666666666666,
             "#ed7953"
            ],
            [
             0.7777777777777778,
             "#fb9f3a"
            ],
            [
             0.8888888888888888,
             "#fdca26"
            ],
            [
             1,
             "#f0f921"
            ]
           ],
           "sequentialminus": [
            [
             0,
             "#0d0887"
            ],
            [
             0.1111111111111111,
             "#46039f"
            ],
            [
             0.2222222222222222,
             "#7201a8"
            ],
            [
             0.3333333333333333,
             "#9c179e"
            ],
            [
             0.4444444444444444,
             "#bd3786"
            ],
            [
             0.5555555555555556,
             "#d8576b"
            ],
            [
             0.6666666666666666,
             "#ed7953"
            ],
            [
             0.7777777777777778,
             "#fb9f3a"
            ],
            [
             0.8888888888888888,
             "#fdca26"
            ],
            [
             1,
             "#f0f921"
            ]
           ]
          },
          "colorway": [
           "#636efa",
           "#EF553B",
           "#00cc96",
           "#ab63fa",
           "#FFA15A",
           "#19d3f3",
           "#FF6692",
           "#B6E880",
           "#FF97FF",
           "#FECB52"
          ],
          "font": {
           "color": "#2a3f5f"
          },
          "geo": {
           "bgcolor": "white",
           "lakecolor": "white",
           "landcolor": "#E5ECF6",
           "showlakes": true,
           "showland": true,
           "subunitcolor": "white"
          },
          "hoverlabel": {
           "align": "left"
          },
          "hovermode": "closest",
          "mapbox": {
           "style": "light"
          },
          "paper_bgcolor": "white",
          "plot_bgcolor": "#E5ECF6",
          "polar": {
           "angularaxis": {
            "gridcolor": "white",
            "linecolor": "white",
            "ticks": ""
           },
           "bgcolor": "#E5ECF6",
           "radialaxis": {
            "gridcolor": "white",
            "linecolor": "white",
            "ticks": ""
           }
          },
          "scene": {
           "xaxis": {
            "backgroundcolor": "#E5ECF6",
            "gridcolor": "white",
            "gridwidth": 2,
            "linecolor": "white",
            "showbackground": true,
            "ticks": "",
            "zerolinecolor": "white"
           },
           "yaxis": {
            "backgroundcolor": "#E5ECF6",
            "gridcolor": "white",
            "gridwidth": 2,
            "linecolor": "white",
            "showbackground": true,
            "ticks": "",
            "zerolinecolor": "white"
           },
           "zaxis": {
            "backgroundcolor": "#E5ECF6",
            "gridcolor": "white",
            "gridwidth": 2,
            "linecolor": "white",
            "showbackground": true,
            "ticks": "",
            "zerolinecolor": "white"
           }
          },
          "shapedefaults": {
           "line": {
            "color": "#2a3f5f"
           }
          },
          "ternary": {
           "aaxis": {
            "gridcolor": "white",
            "linecolor": "white",
            "ticks": ""
           },
           "baxis": {
            "gridcolor": "white",
            "linecolor": "white",
            "ticks": ""
           },
           "bgcolor": "#E5ECF6",
           "caxis": {
            "gridcolor": "white",
            "linecolor": "white",
            "ticks": ""
           }
          },
          "title": {
           "x": 0.05
          },
          "xaxis": {
           "automargin": true,
           "gridcolor": "white",
           "linecolor": "white",
           "ticks": "",
           "title": {
            "standoff": 15
           },
           "zerolinecolor": "white",
           "zerolinewidth": 2
          },
          "yaxis": {
           "automargin": true,
           "gridcolor": "white",
           "linecolor": "white",
           "ticks": "",
           "title": {
            "standoff": 15
           },
           "zerolinecolor": "white",
           "zerolinewidth": 2
          }
         }
        },
        "title": {
         "font": {
          "size": 20
         },
         "text": "CPC Heatmap by Device Type and Platform for Each Campaign Type",
         "x": 0.5
        },
        "width": 1000,
        "xaxis": {
         "anchor": "y",
         "domain": [
          0,
          1
         ],
         "matches": "x4",
         "showticklabels": false
        },
        "xaxis2": {
         "anchor": "y2",
         "domain": [
          0,
          1
         ],
         "matches": "x4",
         "showticklabels": false
        },
        "xaxis3": {
         "anchor": "y3",
         "domain": [
          0,
          1
         ],
         "matches": "x4",
         "showticklabels": false
        },
        "xaxis4": {
         "anchor": "y4",
         "domain": [
          0,
          1
         ]
        },
        "yaxis": {
         "anchor": "x",
         "domain": [
          0.7875,
          1
         ]
        },
        "yaxis2": {
         "anchor": "x2",
         "domain": [
          0.525,
          0.7375
         ]
        },
        "yaxis3": {
         "anchor": "x3",
         "domain": [
          0.2625,
          0.475
         ]
        },
        "yaxis4": {
         "anchor": "x4",
         "domain": [
          0,
          0.2125
         ]
        }
       }
      }
     },
     "metadata": {},
     "output_type": "display_data"
    }
   ],
   "source": [
    "campaign_types = pivot_table['objective'].unique()\n",
    "zmin = pivot_table['CPC'].min()\n",
    "zmax = pivot_table['CPC'].max()\n",
    "\n",
    "\n",
    "fig = make_subplots(\n",
    "    rows=4, cols=1,\n",
    "    subplot_titles= campaign_types,\n",
    "    shared_yaxes=True,\n",
    "    shared_xaxes=True,\n",
    "    vertical_spacing=0.05)\n",
    "\n",
    "# Add heatmaps for each campaign type\n",
    "for i, campaign in enumerate(campaign_types):\n",
    "  \n",
    "    campaign_data = pivot_table[pivot_table['objective'] == campaign]\n",
    "    fig.add_trace(\n",
    "        go.Heatmap(\n",
    "        z=campaign_data.CPC,\n",
    "        x=campaign_data.channel_name,\n",
    "        y=campaign_data.device_type,\n",
    "        colorscale='YlGnBu',\n",
    "        zmin=zmin,  \n",
    "        zmax=zmax,\n",
    "        colorbar=dict(title='CPC',lenmode='fraction',thickness=15),\n",
    "        text=campaign_data['CPC'].values,\n",
    "        texttemplate=\"%{text:.2f}\",  # Use text labels inside cells\n",
    "        textfont=dict(size=10)),\n",
    "        row=1+i, col=1)\n",
    "fig.update_layout(\n",
    "    title_text='CPC Heatmap by Device Type and Platform for Each Campaign Type',\n",
    "    title_x=0.5,  # Center the title\n",
    "    title_font_size=20,\n",
    "    font=dict(size=12),\n",
    "    height=900 ,  # Adjust height for better view\n",
    "    width=1000 # Adjust width to fit all subplots\n",
    "    )\n",
    "\n",
    "\n",
    "fig.print_grid()\n",
    "fig.show()\n",
    "    "
   ]
  },
  {
   "cell_type": "code",
   "execution_count": 33,
   "metadata": {},
   "outputs": [
    {
     "data": {
      "application/vnd.plotly.v1+json": {
       "config": {
        "plotlyServerURL": "https://plot.ly"
       },
       "data": [
        {
         "alignmentgroup": "True",
         "hovertemplate": "device_type=Android<br>objective=Awareness<br>channel_name=%{x}<br>payments=%{y}<br>text=%{text}<extra></extra>",
         "legendgroup": "Android",
         "marker": {
          "color": "#44c0ed",
          "pattern": {
           "shape": ""
          }
         },
         "name": "Android",
         "offsetgroup": "Android",
         "orientation": "v",
         "showlegend": true,
         "text": [
          "0.08K",
          "0.14K",
          "0.04K",
          "0.00K",
          "0.00K",
          "0.02K"
         ],
         "textfont": {
          "size": 8
         },
         "textposition": "inside",
         "type": "bar",
         "x": [
          "Facebook News Feed",
          "Google Search Engine",
          "Instagram Stories",
          "MoPub",
          "TikTok",
          "YouTube"
         ],
         "xaxis": "x",
         "y": [
          82,
          138,
          43,
          0,
          0,
          18
         ],
         "yaxis": "y"
        },
        {
         "alignmentgroup": "True",
         "hovertemplate": "device_type=Android<br>objective=Branding<br>channel_name=%{x}<br>payments=%{y}<br>text=%{text}<extra></extra>",
         "legendgroup": "Android",
         "marker": {
          "color": "#44c0ed",
          "pattern": {
           "shape": ""
          }
         },
         "name": "Android",
         "offsetgroup": "Android",
         "orientation": "v",
         "showlegend": false,
         "text": [
          "0.07K",
          "0.14K",
          "0.04K",
          "0.00K",
          "0.00K",
          "0.03K"
         ],
         "textfont": {
          "size": 8
         },
         "textposition": "inside",
         "type": "bar",
         "x": [
          "Facebook News Feed",
          "Google Search Engine",
          "Instagram Stories",
          "MoPub",
          "TikTok",
          "YouTube"
         ],
         "xaxis": "x2",
         "y": [
          74,
          144,
          36,
          0,
          0,
          30
         ],
         "yaxis": "y2"
        },
        {
         "alignmentgroup": "True",
         "hovertemplate": "device_type=Android<br>objective=Prospecting<br>channel_name=%{x}<br>payments=%{y}<br>text=%{text}<extra></extra>",
         "legendgroup": "Android",
         "marker": {
          "color": "#44c0ed",
          "pattern": {
           "shape": ""
          }
         },
         "name": "Android",
         "offsetgroup": "Android",
         "orientation": "v",
         "showlegend": false,
         "text": [
          "0.08K",
          "0.14K",
          "0.03K",
          "0.00K",
          "0.00K",
          "0.02K"
         ],
         "textfont": {
          "size": 8
         },
         "textposition": "inside",
         "type": "bar",
         "x": [
          "Facebook News Feed",
          "Google Search Engine",
          "Instagram Stories",
          "MoPub",
          "TikTok",
          "YouTube"
         ],
         "xaxis": "x3",
         "y": [
          77,
          135,
          32,
          0,
          0,
          21
         ],
         "yaxis": "y3"
        },
        {
         "alignmentgroup": "True",
         "hovertemplate": "device_type=Android<br>objective=Remarketing<br>channel_name=%{x}<br>payments=%{y}<br>text=%{text}<extra></extra>",
         "legendgroup": "Android",
         "marker": {
          "color": "#44c0ed",
          "pattern": {
           "shape": ""
          }
         },
         "name": "Android",
         "offsetgroup": "Android",
         "orientation": "v",
         "showlegend": false,
         "text": [
          "0.08K",
          "0.15K",
          "0.03K",
          "0.00K",
          "0.00K",
          "0.03K"
         ],
         "textfont": {
          "size": 8
         },
         "textposition": "inside",
         "type": "bar",
         "x": [
          "Facebook News Feed",
          "Google Search Engine",
          "Instagram Stories",
          "MoPub",
          "TikTok",
          "YouTube"
         ],
         "xaxis": "x4",
         "y": [
          78,
          154,
          29,
          0,
          0,
          32
         ],
         "yaxis": "y4"
        },
        {
         "alignmentgroup": "True",
         "hovertemplate": "device_type=Desktop<br>objective=Awareness<br>channel_name=%{x}<br>payments=%{y}<br>text=%{text}<extra></extra>",
         "legendgroup": "Desktop",
         "marker": {
          "color": "#ffee93",
          "pattern": {
           "shape": ""
          }
         },
         "name": "Desktop",
         "offsetgroup": "Desktop",
         "orientation": "v",
         "showlegend": true,
         "text": [
          "0.00K",
          "0.04K",
          "0.00K",
          "0.00K",
          "0.00K",
          "0.00K"
         ],
         "textfont": {
          "size": 8
         },
         "textposition": "inside",
         "type": "bar",
         "x": [
          "Facebook News Feed",
          "Google Search Engine",
          "Instagram Stories",
          "MoPub",
          "TikTok",
          "YouTube"
         ],
         "xaxis": "x",
         "y": [
          4,
          41,
          0,
          0,
          0,
          0
         ],
         "yaxis": "y"
        },
        {
         "alignmentgroup": "True",
         "hovertemplate": "device_type=Desktop<br>objective=Branding<br>channel_name=%{x}<br>payments=%{y}<br>text=%{text}<extra></extra>",
         "legendgroup": "Desktop",
         "marker": {
          "color": "#ffee93",
          "pattern": {
           "shape": ""
          }
         },
         "name": "Desktop",
         "offsetgroup": "Desktop",
         "orientation": "v",
         "showlegend": false,
         "text": [
          "0.00K",
          "0.05K",
          "0.00K",
          "0.00K",
          "0.00K",
          "0.00K"
         ],
         "textfont": {
          "size": 8
         },
         "textposition": "inside",
         "type": "bar",
         "x": [
          "Facebook News Feed",
          "Google Search Engine",
          "Instagram Stories",
          "MoPub",
          "TikTok",
          "YouTube"
         ],
         "xaxis": "x2",
         "y": [
          3,
          53,
          0,
          0,
          0,
          0
         ],
         "yaxis": "y2"
        },
        {
         "alignmentgroup": "True",
         "hovertemplate": "device_type=Desktop<br>objective=Prospecting<br>channel_name=%{x}<br>payments=%{y}<br>text=%{text}<extra></extra>",
         "legendgroup": "Desktop",
         "marker": {
          "color": "#ffee93",
          "pattern": {
           "shape": ""
          }
         },
         "name": "Desktop",
         "offsetgroup": "Desktop",
         "orientation": "v",
         "showlegend": false,
         "text": [
          "0.00K",
          "0.05K",
          "0.00K",
          "0.00K",
          "0.00K",
          "0.00K"
         ],
         "textfont": {
          "size": 8
         },
         "textposition": "inside",
         "type": "bar",
         "x": [
          "Facebook News Feed",
          "Google Search Engine",
          "Instagram Stories",
          "MoPub",
          "TikTok",
          "YouTube"
         ],
         "xaxis": "x3",
         "y": [
          1,
          51,
          0,
          0,
          0,
          0
         ],
         "yaxis": "y3"
        },
        {
         "alignmentgroup": "True",
         "hovertemplate": "device_type=Desktop<br>objective=Remarketing<br>channel_name=%{x}<br>payments=%{y}<br>text=%{text}<extra></extra>",
         "legendgroup": "Desktop",
         "marker": {
          "color": "#ffee93",
          "pattern": {
           "shape": ""
          }
         },
         "name": "Desktop",
         "offsetgroup": "Desktop",
         "orientation": "v",
         "showlegend": false,
         "text": [
          "0.00K",
          "0.05K",
          "0.00K",
          "0.00K",
          "0.00K",
          "0.00K"
         ],
         "textfont": {
          "size": 8
         },
         "textposition": "inside",
         "type": "bar",
         "x": [
          "Facebook News Feed",
          "Google Search Engine",
          "Instagram Stories",
          "MoPub",
          "TikTok",
          "YouTube"
         ],
         "xaxis": "x4",
         "y": [
          4,
          47,
          0,
          0,
          0,
          0
         ],
         "yaxis": "y4"
        },
        {
         "alignmentgroup": "True",
         "hovertemplate": "device_type=iOS<br>objective=Awareness<br>channel_name=%{x}<br>payments=%{y}<br>text=%{text}<extra></extra>",
         "legendgroup": "iOS",
         "marker": {
          "color": "#8bd0c2",
          "pattern": {
           "shape": ""
          }
         },
         "name": "iOS",
         "offsetgroup": "iOS",
         "orientation": "v",
         "showlegend": true,
         "text": [
          "0.07K",
          "0.15K",
          "0.04K",
          "0.00K",
          "0.00K",
          "0.03K"
         ],
         "textfont": {
          "size": 8
         },
         "textposition": "inside",
         "type": "bar",
         "x": [
          "Facebook News Feed",
          "Google Search Engine",
          "Instagram Stories",
          "MoPub",
          "TikTok",
          "YouTube"
         ],
         "xaxis": "x",
         "y": [
          74,
          147,
          41,
          0,
          2,
          27
         ],
         "yaxis": "y"
        },
        {
         "alignmentgroup": "True",
         "hovertemplate": "device_type=iOS<br>objective=Branding<br>channel_name=%{x}<br>payments=%{y}<br>text=%{text}<extra></extra>",
         "legendgroup": "iOS",
         "marker": {
          "color": "#8bd0c2",
          "pattern": {
           "shape": ""
          }
         },
         "name": "iOS",
         "offsetgroup": "iOS",
         "orientation": "v",
         "showlegend": false,
         "text": [
          "0.07K",
          "0.16K",
          "0.04K",
          "0.00K",
          "0.00K",
          "0.03K"
         ],
         "textfont": {
          "size": 8
         },
         "textposition": "inside",
         "type": "bar",
         "x": [
          "Facebook News Feed",
          "Google Search Engine",
          "Instagram Stories",
          "MoPub",
          "TikTok",
          "YouTube"
         ],
         "xaxis": "x2",
         "y": [
          74,
          156,
          45,
          0,
          0,
          26
         ],
         "yaxis": "y2"
        },
        {
         "alignmentgroup": "True",
         "hovertemplate": "device_type=iOS<br>objective=Prospecting<br>channel_name=%{x}<br>payments=%{y}<br>text=%{text}<extra></extra>",
         "legendgroup": "iOS",
         "marker": {
          "color": "#8bd0c2",
          "pattern": {
           "shape": ""
          }
         },
         "name": "iOS",
         "offsetgroup": "iOS",
         "orientation": "v",
         "showlegend": false,
         "text": [
          "0.09K",
          "0.16K",
          "0.03K",
          "0.00K",
          "0.00K",
          "0.03K"
         ],
         "textfont": {
          "size": 8
         },
         "textposition": "inside",
         "type": "bar",
         "x": [
          "Facebook News Feed",
          "Google Search Engine",
          "Instagram Stories",
          "MoPub",
          "TikTok",
          "YouTube"
         ],
         "xaxis": "x3",
         "y": [
          89,
          160,
          32,
          0,
          0,
          28
         ],
         "yaxis": "y3"
        },
        {
         "alignmentgroup": "True",
         "hovertemplate": "device_type=iOS<br>objective=Remarketing<br>channel_name=%{x}<br>payments=%{y}<br>text=%{text}<extra></extra>",
         "legendgroup": "iOS",
         "marker": {
          "color": "#8bd0c2",
          "pattern": {
           "shape": ""
          }
         },
         "name": "iOS",
         "offsetgroup": "iOS",
         "orientation": "v",
         "showlegend": false,
         "text": [
          "0.09K",
          "0.13K",
          "0.03K",
          "0.00K",
          "0.00K",
          "0.03K"
         ],
         "textfont": {
          "size": 8
         },
         "textposition": "inside",
         "type": "bar",
         "x": [
          "Facebook News Feed",
          "Google Search Engine",
          "Instagram Stories",
          "MoPub",
          "TikTok",
          "YouTube"
         ],
         "xaxis": "x4",
         "y": [
          94,
          133,
          31,
          0,
          0,
          28
         ],
         "yaxis": "y4"
        }
       ],
       "layout": {
        "annotations": [
         {
          "font": {},
          "showarrow": false,
          "text": "Awareness",
          "x": 0.1175,
          "xanchor": "center",
          "xref": "paper",
          "y": 1,
          "yanchor": "bottom",
          "yref": "paper"
         },
         {
          "font": {},
          "showarrow": false,
          "text": "Branding",
          "x": 0.3725,
          "xanchor": "center",
          "xref": "paper",
          "y": 1,
          "yanchor": "bottom",
          "yref": "paper"
         },
         {
          "font": {},
          "showarrow": false,
          "text": "Prospecting",
          "x": 0.6275,
          "xanchor": "center",
          "xref": "paper",
          "y": 1,
          "yanchor": "bottom",
          "yref": "paper"
         },
         {
          "font": {},
          "showarrow": false,
          "text": "Remarketing",
          "x": 0.8824999999999998,
          "xanchor": "center",
          "xref": "paper",
          "y": 1,
          "yanchor": "bottom",
          "yref": "paper"
         }
        ],
        "barmode": "relative",
        "height": 800,
        "legend": {
         "title": {
          "text": "device_type"
         },
         "tracegroupgap": 0
        },
        "margin": {
         "t": 60
        },
        "template": {
         "data": {
          "bar": [
           {
            "error_x": {
             "color": "#2a3f5f"
            },
            "error_y": {
             "color": "#2a3f5f"
            },
            "marker": {
             "line": {
              "color": "#E5ECF6",
              "width": 0.5
             },
             "pattern": {
              "fillmode": "overlay",
              "size": 10,
              "solidity": 0.2
             }
            },
            "type": "bar"
           }
          ],
          "barpolar": [
           {
            "marker": {
             "line": {
              "color": "#E5ECF6",
              "width": 0.5
             },
             "pattern": {
              "fillmode": "overlay",
              "size": 10,
              "solidity": 0.2
             }
            },
            "type": "barpolar"
           }
          ],
          "carpet": [
           {
            "aaxis": {
             "endlinecolor": "#2a3f5f",
             "gridcolor": "white",
             "linecolor": "white",
             "minorgridcolor": "white",
             "startlinecolor": "#2a3f5f"
            },
            "baxis": {
             "endlinecolor": "#2a3f5f",
             "gridcolor": "white",
             "linecolor": "white",
             "minorgridcolor": "white",
             "startlinecolor": "#2a3f5f"
            },
            "type": "carpet"
           }
          ],
          "choropleth": [
           {
            "colorbar": {
             "outlinewidth": 0,
             "ticks": ""
            },
            "type": "choropleth"
           }
          ],
          "contour": [
           {
            "colorbar": {
             "outlinewidth": 0,
             "ticks": ""
            },
            "colorscale": [
             [
              0,
              "#0d0887"
             ],
             [
              0.1111111111111111,
              "#46039f"
             ],
             [
              0.2222222222222222,
              "#7201a8"
             ],
             [
              0.3333333333333333,
              "#9c179e"
             ],
             [
              0.4444444444444444,
              "#bd3786"
             ],
             [
              0.5555555555555556,
              "#d8576b"
             ],
             [
              0.6666666666666666,
              "#ed7953"
             ],
             [
              0.7777777777777778,
              "#fb9f3a"
             ],
             [
              0.8888888888888888,
              "#fdca26"
             ],
             [
              1,
              "#f0f921"
             ]
            ],
            "type": "contour"
           }
          ],
          "contourcarpet": [
           {
            "colorbar": {
             "outlinewidth": 0,
             "ticks": ""
            },
            "type": "contourcarpet"
           }
          ],
          "heatmap": [
           {
            "colorbar": {
             "outlinewidth": 0,
             "ticks": ""
            },
            "colorscale": [
             [
              0,
              "#0d0887"
             ],
             [
              0.1111111111111111,
              "#46039f"
             ],
             [
              0.2222222222222222,
              "#7201a8"
             ],
             [
              0.3333333333333333,
              "#9c179e"
             ],
             [
              0.4444444444444444,
              "#bd3786"
             ],
             [
              0.5555555555555556,
              "#d8576b"
             ],
             [
              0.6666666666666666,
              "#ed7953"
             ],
             [
              0.7777777777777778,
              "#fb9f3a"
             ],
             [
              0.8888888888888888,
              "#fdca26"
             ],
             [
              1,
              "#f0f921"
             ]
            ],
            "type": "heatmap"
           }
          ],
          "heatmapgl": [
           {
            "colorbar": {
             "outlinewidth": 0,
             "ticks": ""
            },
            "colorscale": [
             [
              0,
              "#0d0887"
             ],
             [
              0.1111111111111111,
              "#46039f"
             ],
             [
              0.2222222222222222,
              "#7201a8"
             ],
             [
              0.3333333333333333,
              "#9c179e"
             ],
             [
              0.4444444444444444,
              "#bd3786"
             ],
             [
              0.5555555555555556,
              "#d8576b"
             ],
             [
              0.6666666666666666,
              "#ed7953"
             ],
             [
              0.7777777777777778,
              "#fb9f3a"
             ],
             [
              0.8888888888888888,
              "#fdca26"
             ],
             [
              1,
              "#f0f921"
             ]
            ],
            "type": "heatmapgl"
           }
          ],
          "histogram": [
           {
            "marker": {
             "pattern": {
              "fillmode": "overlay",
              "size": 10,
              "solidity": 0.2
             }
            },
            "type": "histogram"
           }
          ],
          "histogram2d": [
           {
            "colorbar": {
             "outlinewidth": 0,
             "ticks": ""
            },
            "colorscale": [
             [
              0,
              "#0d0887"
             ],
             [
              0.1111111111111111,
              "#46039f"
             ],
             [
              0.2222222222222222,
              "#7201a8"
             ],
             [
              0.3333333333333333,
              "#9c179e"
             ],
             [
              0.4444444444444444,
              "#bd3786"
             ],
             [
              0.5555555555555556,
              "#d8576b"
             ],
             [
              0.6666666666666666,
              "#ed7953"
             ],
             [
              0.7777777777777778,
              "#fb9f3a"
             ],
             [
              0.8888888888888888,
              "#fdca26"
             ],
             [
              1,
              "#f0f921"
             ]
            ],
            "type": "histogram2d"
           }
          ],
          "histogram2dcontour": [
           {
            "colorbar": {
             "outlinewidth": 0,
             "ticks": ""
            },
            "colorscale": [
             [
              0,
              "#0d0887"
             ],
             [
              0.1111111111111111,
              "#46039f"
             ],
             [
              0.2222222222222222,
              "#7201a8"
             ],
             [
              0.3333333333333333,
              "#9c179e"
             ],
             [
              0.4444444444444444,
              "#bd3786"
             ],
             [
              0.5555555555555556,
              "#d8576b"
             ],
             [
              0.6666666666666666,
              "#ed7953"
             ],
             [
              0.7777777777777778,
              "#fb9f3a"
             ],
             [
              0.8888888888888888,
              "#fdca26"
             ],
             [
              1,
              "#f0f921"
             ]
            ],
            "type": "histogram2dcontour"
           }
          ],
          "mesh3d": [
           {
            "colorbar": {
             "outlinewidth": 0,
             "ticks": ""
            },
            "type": "mesh3d"
           }
          ],
          "parcoords": [
           {
            "line": {
             "colorbar": {
              "outlinewidth": 0,
              "ticks": ""
             }
            },
            "type": "parcoords"
           }
          ],
          "pie": [
           {
            "automargin": true,
            "type": "pie"
           }
          ],
          "scatter": [
           {
            "fillpattern": {
             "fillmode": "overlay",
             "size": 10,
             "solidity": 0.2
            },
            "type": "scatter"
           }
          ],
          "scatter3d": [
           {
            "line": {
             "colorbar": {
              "outlinewidth": 0,
              "ticks": ""
             }
            },
            "marker": {
             "colorbar": {
              "outlinewidth": 0,
              "ticks": ""
             }
            },
            "type": "scatter3d"
           }
          ],
          "scattercarpet": [
           {
            "marker": {
             "colorbar": {
              "outlinewidth": 0,
              "ticks": ""
             }
            },
            "type": "scattercarpet"
           }
          ],
          "scattergeo": [
           {
            "marker": {
             "colorbar": {
              "outlinewidth": 0,
              "ticks": ""
             }
            },
            "type": "scattergeo"
           }
          ],
          "scattergl": [
           {
            "marker": {
             "colorbar": {
              "outlinewidth": 0,
              "ticks": ""
             }
            },
            "type": "scattergl"
           }
          ],
          "scattermapbox": [
           {
            "marker": {
             "colorbar": {
              "outlinewidth": 0,
              "ticks": ""
             }
            },
            "type": "scattermapbox"
           }
          ],
          "scatterpolar": [
           {
            "marker": {
             "colorbar": {
              "outlinewidth": 0,
              "ticks": ""
             }
            },
            "type": "scatterpolar"
           }
          ],
          "scatterpolargl": [
           {
            "marker": {
             "colorbar": {
              "outlinewidth": 0,
              "ticks": ""
             }
            },
            "type": "scatterpolargl"
           }
          ],
          "scatterternary": [
           {
            "marker": {
             "colorbar": {
              "outlinewidth": 0,
              "ticks": ""
             }
            },
            "type": "scatterternary"
           }
          ],
          "surface": [
           {
            "colorbar": {
             "outlinewidth": 0,
             "ticks": ""
            },
            "colorscale": [
             [
              0,
              "#0d0887"
             ],
             [
              0.1111111111111111,
              "#46039f"
             ],
             [
              0.2222222222222222,
              "#7201a8"
             ],
             [
              0.3333333333333333,
              "#9c179e"
             ],
             [
              0.4444444444444444,
              "#bd3786"
             ],
             [
              0.5555555555555556,
              "#d8576b"
             ],
             [
              0.6666666666666666,
              "#ed7953"
             ],
             [
              0.7777777777777778,
              "#fb9f3a"
             ],
             [
              0.8888888888888888,
              "#fdca26"
             ],
             [
              1,
              "#f0f921"
             ]
            ],
            "type": "surface"
           }
          ],
          "table": [
           {
            "cells": {
             "fill": {
              "color": "#EBF0F8"
             },
             "line": {
              "color": "white"
             }
            },
            "header": {
             "fill": {
              "color": "#C8D4E3"
             },
             "line": {
              "color": "white"
             }
            },
            "type": "table"
           }
          ]
         },
         "layout": {
          "annotationdefaults": {
           "arrowcolor": "#2a3f5f",
           "arrowhead": 0,
           "arrowwidth": 1
          },
          "autotypenumbers": "strict",
          "coloraxis": {
           "colorbar": {
            "outlinewidth": 0,
            "ticks": ""
           }
          },
          "colorscale": {
           "diverging": [
            [
             0,
             "#8e0152"
            ],
            [
             0.1,
             "#c51b7d"
            ],
            [
             0.2,
             "#de77ae"
            ],
            [
             0.3,
             "#f1b6da"
            ],
            [
             0.4,
             "#fde0ef"
            ],
            [
             0.5,
             "#f7f7f7"
            ],
            [
             0.6,
             "#e6f5d0"
            ],
            [
             0.7,
             "#b8e186"
            ],
            [
             0.8,
             "#7fbc41"
            ],
            [
             0.9,
             "#4d9221"
            ],
            [
             1,
             "#276419"
            ]
           ],
           "sequential": [
            [
             0,
             "#0d0887"
            ],
            [
             0.1111111111111111,
             "#46039f"
            ],
            [
             0.2222222222222222,
             "#7201a8"
            ],
            [
             0.3333333333333333,
             "#9c179e"
            ],
            [
             0.4444444444444444,
             "#bd3786"
            ],
            [
             0.5555555555555556,
             "#d8576b"
            ],
            [
             0.6666666666666666,
             "#ed7953"
            ],
            [
             0.7777777777777778,
             "#fb9f3a"
            ],
            [
             0.8888888888888888,
             "#fdca26"
            ],
            [
             1,
             "#f0f921"
            ]
           ],
           "sequentialminus": [
            [
             0,
             "#0d0887"
            ],
            [
             0.1111111111111111,
             "#46039f"
            ],
            [
             0.2222222222222222,
             "#7201a8"
            ],
            [
             0.3333333333333333,
             "#9c179e"
            ],
            [
             0.4444444444444444,
             "#bd3786"
            ],
            [
             0.5555555555555556,
             "#d8576b"
            ],
            [
             0.6666666666666666,
             "#ed7953"
            ],
            [
             0.7777777777777778,
             "#fb9f3a"
            ],
            [
             0.8888888888888888,
             "#fdca26"
            ],
            [
             1,
             "#f0f921"
            ]
           ]
          },
          "colorway": [
           "#636efa",
           "#EF553B",
           "#00cc96",
           "#ab63fa",
           "#FFA15A",
           "#19d3f3",
           "#FF6692",
           "#B6E880",
           "#FF97FF",
           "#FECB52"
          ],
          "font": {
           "color": "#2a3f5f"
          },
          "geo": {
           "bgcolor": "white",
           "lakecolor": "white",
           "landcolor": "#E5ECF6",
           "showlakes": true,
           "showland": true,
           "subunitcolor": "white"
          },
          "hoverlabel": {
           "align": "left"
          },
          "hovermode": "closest",
          "mapbox": {
           "style": "light"
          },
          "paper_bgcolor": "white",
          "plot_bgcolor": "#E5ECF6",
          "polar": {
           "angularaxis": {
            "gridcolor": "white",
            "linecolor": "white",
            "ticks": ""
           },
           "bgcolor": "#E5ECF6",
           "radialaxis": {
            "gridcolor": "white",
            "linecolor": "white",
            "ticks": ""
           }
          },
          "scene": {
           "xaxis": {
            "backgroundcolor": "#E5ECF6",
            "gridcolor": "white",
            "gridwidth": 2,
            "linecolor": "white",
            "showbackground": true,
            "ticks": "",
            "zerolinecolor": "white"
           },
           "yaxis": {
            "backgroundcolor": "#E5ECF6",
            "gridcolor": "white",
            "gridwidth": 2,
            "linecolor": "white",
            "showbackground": true,
            "ticks": "",
            "zerolinecolor": "white"
           },
           "zaxis": {
            "backgroundcolor": "#E5ECF6",
            "gridcolor": "white",
            "gridwidth": 2,
            "linecolor": "white",
            "showbackground": true,
            "ticks": "",
            "zerolinecolor": "white"
           }
          },
          "shapedefaults": {
           "line": {
            "color": "#2a3f5f"
           }
          },
          "ternary": {
           "aaxis": {
            "gridcolor": "white",
            "linecolor": "white",
            "ticks": ""
           },
           "baxis": {
            "gridcolor": "white",
            "linecolor": "white",
            "ticks": ""
           },
           "bgcolor": "#E5ECF6",
           "caxis": {
            "gridcolor": "white",
            "linecolor": "white",
            "ticks": ""
           }
          },
          "title": {
           "x": 0.05
          },
          "xaxis": {
           "automargin": true,
           "gridcolor": "white",
           "linecolor": "white",
           "ticks": "",
           "title": {
            "standoff": 15
           },
           "zerolinecolor": "white",
           "zerolinewidth": 2
          },
          "yaxis": {
           "automargin": true,
           "gridcolor": "white",
           "linecolor": "white",
           "ticks": "",
           "title": {
            "standoff": 15
           },
           "zerolinecolor": "white",
           "zerolinewidth": 2
          }
         }
        },
        "title": {
         "font": {
          "size": 20
         },
         "text": "Payments by Channels and Device Types for Each Campaign Type",
         "x": 0.5
        },
        "width": 1200,
        "xaxis": {
         "anchor": "y",
         "domain": [
          0,
          0.235
         ],
         "title": {
          "text": "channel_name"
         }
        },
        "xaxis2": {
         "anchor": "y2",
         "domain": [
          0.255,
          0.49
         ],
         "matches": "x",
         "title": {
          "text": "channel_name"
         }
        },
        "xaxis3": {
         "anchor": "y3",
         "domain": [
          0.51,
          0.745
         ],
         "matches": "x",
         "title": {
          "text": "channel_name"
         }
        },
        "xaxis4": {
         "anchor": "y4",
         "domain": [
          0.7649999999999999,
          0.9999999999999999
         ],
         "matches": "x",
         "title": {
          "text": "channel_name"
         }
        },
        "yaxis": {
         "anchor": "x",
         "domain": [
          0,
          1
         ],
         "title": {
          "text": "payments"
         }
        },
        "yaxis2": {
         "anchor": "x2",
         "domain": [
          0,
          1
         ],
         "matches": "y",
         "showticklabels": false
        },
        "yaxis3": {
         "anchor": "x3",
         "domain": [
          0,
          1
         ],
         "matches": "y",
         "showticklabels": false
        },
        "yaxis4": {
         "anchor": "x4",
         "domain": [
          0,
          1
         ],
         "matches": "y",
         "showticklabels": false
        }
       }
      }
     },
     "metadata": {},
     "output_type": "display_data"
    }
   ],
   "source": [
    "color_palette = ['#44c0ed', '#ffee93', '#8bd0c2', '#d62728', '#9467bd']\n",
    "fig = px.bar(pivot_table, \n",
    "             x='channel_name', \n",
    "             y='payments', \n",
    "             facet_col='objective', \n",
    "             text=pivot_table['payments'].apply(lambda x: f\"{x / 1000:.2f}K\"),\n",
    "             color='device_type',\n",
    "             color_discrete_sequence=color_palette,\n",
    "             #title='Impressions by Platform and Device Type for Each Campaign Type',\n",
    "             labels={'impressions': 'Impressions'},\n",
    "             height=800,\n",
    "             width=1200)\n",
    "fig.for_each_annotation(lambda a: a.update(text=a.text.replace('objective=', ''))) \n",
    "fig.update_layout(\n",
    "    title_text='Payments by Channels and Device Types for Each Campaign Type',\n",
    "    title_x=0.5,  \n",
    "    title_font_size=20)\n",
    "\n",
    "fig.update_traces(\n",
    "    textposition='inside',  \n",
    "    textfont_size=8  )\n",
    "\n",
    "\n",
    "fig.show()"
   ]
  },
  {
   "cell_type": "code",
   "execution_count": 82,
   "metadata": {},
   "outputs": [
    {
     "data": {
      "text/html": [
       "<div>\n",
       "<style scoped>\n",
       "    .dataframe tbody tr th:only-of-type {\n",
       "        vertical-align: middle;\n",
       "    }\n",
       "\n",
       "    .dataframe tbody tr th {\n",
       "        vertical-align: top;\n",
       "    }\n",
       "\n",
       "    .dataframe thead th {\n",
       "        text-align: right;\n",
       "    }\n",
       "</style>\n",
       "<table border=\"1\" class=\"dataframe\">\n",
       "  <thead>\n",
       "    <tr style=\"text-align: right;\">\n",
       "      <th></th>\n",
       "      <th>device_type</th>\n",
       "      <th>channel_name</th>\n",
       "      <th>cost_usd</th>\n",
       "      <th>impressions</th>\n",
       "      <th>clicks</th>\n",
       "      <th>signups</th>\n",
       "      <th>payments</th>\n",
       "      <th>label</th>\n",
       "      <th>CPM</th>\n",
       "      <th>CTR</th>\n",
       "      <th>CPC</th>\n",
       "      <th>CPS</th>\n",
       "      <th>CPP</th>\n",
       "      <th>cr2</th>\n",
       "      <th>cr3</th>\n",
       "    </tr>\n",
       "  </thead>\n",
       "  <tbody>\n",
       "    <tr>\n",
       "      <th>0</th>\n",
       "      <td>Android</td>\n",
       "      <td>Facebook News Feed</td>\n",
       "      <td>947.778946</td>\n",
       "      <td>241666</td>\n",
       "      <td>6720</td>\n",
       "      <td>406</td>\n",
       "      <td>311</td>\n",
       "      <td>Facebook News Feed | Android</td>\n",
       "      <td>3.921855</td>\n",
       "      <td>0.027807</td>\n",
       "      <td>0.141039</td>\n",
       "      <td>2.334431</td>\n",
       "      <td>3.047521</td>\n",
       "      <td>0.060417</td>\n",
       "      <td>0.766010</td>\n",
       "    </tr>\n",
       "    <tr>\n",
       "      <th>1</th>\n",
       "      <td>Android</td>\n",
       "      <td>Google Search Engine</td>\n",
       "      <td>2068.786097</td>\n",
       "      <td>439756</td>\n",
       "      <td>19249</td>\n",
       "      <td>1457</td>\n",
       "      <td>571</td>\n",
       "      <td>Google Search Engine | Android</td>\n",
       "      <td>4.704395</td>\n",
       "      <td>0.043772</td>\n",
       "      <td>0.107475</td>\n",
       "      <td>1.419894</td>\n",
       "      <td>3.623093</td>\n",
       "      <td>0.075692</td>\n",
       "      <td>0.391901</td>\n",
       "    </tr>\n",
       "    <tr>\n",
       "      <th>2</th>\n",
       "      <td>Android</td>\n",
       "      <td>Instagram Stories</td>\n",
       "      <td>500.511884</td>\n",
       "      <td>150865</td>\n",
       "      <td>2929</td>\n",
       "      <td>142</td>\n",
       "      <td>140</td>\n",
       "      <td>Instagram Stories | Android</td>\n",
       "      <td>3.317614</td>\n",
       "      <td>0.019415</td>\n",
       "      <td>0.170881</td>\n",
       "      <td>3.524732</td>\n",
       "      <td>3.575085</td>\n",
       "      <td>0.048481</td>\n",
       "      <td>0.985915</td>\n",
       "    </tr>\n",
       "    <tr>\n",
       "      <th>3</th>\n",
       "      <td>Android</td>\n",
       "      <td>MoPub</td>\n",
       "      <td>227.479220</td>\n",
       "      <td>75487</td>\n",
       "      <td>671</td>\n",
       "      <td>0</td>\n",
       "      <td>0</td>\n",
       "      <td>MoPub | Android</td>\n",
       "      <td>3.013489</td>\n",
       "      <td>0.008889</td>\n",
       "      <td>0.339015</td>\n",
       "      <td>inf</td>\n",
       "      <td>inf</td>\n",
       "      <td>0.000000</td>\n",
       "      <td>NaN</td>\n",
       "    </tr>\n",
       "    <tr>\n",
       "      <th>4</th>\n",
       "      <td>Android</td>\n",
       "      <td>TikTok</td>\n",
       "      <td>220.984239</td>\n",
       "      <td>97857</td>\n",
       "      <td>855</td>\n",
       "      <td>0</td>\n",
       "      <td>0</td>\n",
       "      <td>TikTok | Android</td>\n",
       "      <td>2.258236</td>\n",
       "      <td>0.008737</td>\n",
       "      <td>0.258461</td>\n",
       "      <td>inf</td>\n",
       "      <td>inf</td>\n",
       "      <td>0.000000</td>\n",
       "      <td>NaN</td>\n",
       "    </tr>\n",
       "    <tr>\n",
       "      <th>5</th>\n",
       "      <td>Android</td>\n",
       "      <td>YouTube</td>\n",
       "      <td>548.585343</td>\n",
       "      <td>146032</td>\n",
       "      <td>2754</td>\n",
       "      <td>101</td>\n",
       "      <td>101</td>\n",
       "      <td>YouTube | Android</td>\n",
       "      <td>3.756610</td>\n",
       "      <td>0.018859</td>\n",
       "      <td>0.199196</td>\n",
       "      <td>5.431538</td>\n",
       "      <td>5.431538</td>\n",
       "      <td>0.036674</td>\n",
       "      <td>1.000000</td>\n",
       "    </tr>\n",
       "    <tr>\n",
       "      <th>6</th>\n",
       "      <td>Desktop</td>\n",
       "      <td>Facebook News Feed</td>\n",
       "      <td>227.261037</td>\n",
       "      <td>64014</td>\n",
       "      <td>1556</td>\n",
       "      <td>12</td>\n",
       "      <td>12</td>\n",
       "      <td>Facebook News Feed | Desktop</td>\n",
       "      <td>3.550177</td>\n",
       "      <td>0.024307</td>\n",
       "      <td>0.146055</td>\n",
       "      <td>18.938420</td>\n",
       "      <td>18.938420</td>\n",
       "      <td>0.007712</td>\n",
       "      <td>1.000000</td>\n",
       "    </tr>\n",
       "    <tr>\n",
       "      <th>7</th>\n",
       "      <td>Desktop</td>\n",
       "      <td>Google Search Engine</td>\n",
       "      <td>540.836578</td>\n",
       "      <td>156920</td>\n",
       "      <td>4950</td>\n",
       "      <td>202</td>\n",
       "      <td>192</td>\n",
       "      <td>Google Search Engine | Desktop</td>\n",
       "      <td>3.446575</td>\n",
       "      <td>0.031545</td>\n",
       "      <td>0.109260</td>\n",
       "      <td>2.677409</td>\n",
       "      <td>2.816857</td>\n",
       "      <td>0.040808</td>\n",
       "      <td>0.950495</td>\n",
       "    </tr>\n",
       "    <tr>\n",
       "      <th>8</th>\n",
       "      <td>Desktop</td>\n",
       "      <td>Instagram Stories</td>\n",
       "      <td>122.856453</td>\n",
       "      <td>58483</td>\n",
       "      <td>650</td>\n",
       "      <td>0</td>\n",
       "      <td>0</td>\n",
       "      <td>Instagram Stories | Desktop</td>\n",
       "      <td>2.100721</td>\n",
       "      <td>0.011114</td>\n",
       "      <td>0.189010</td>\n",
       "      <td>inf</td>\n",
       "      <td>inf</td>\n",
       "      <td>0.000000</td>\n",
       "      <td>NaN</td>\n",
       "    </tr>\n",
       "    <tr>\n",
       "      <th>9</th>\n",
       "      <td>Desktop</td>\n",
       "      <td>MoPub</td>\n",
       "      <td>61.115309</td>\n",
       "      <td>28881</td>\n",
       "      <td>145</td>\n",
       "      <td>0</td>\n",
       "      <td>0</td>\n",
       "      <td>MoPub | Desktop</td>\n",
       "      <td>2.116108</td>\n",
       "      <td>0.005021</td>\n",
       "      <td>0.421485</td>\n",
       "      <td>inf</td>\n",
       "      <td>inf</td>\n",
       "      <td>0.000000</td>\n",
       "      <td>NaN</td>\n",
       "    </tr>\n",
       "    <tr>\n",
       "      <th>10</th>\n",
       "      <td>Desktop</td>\n",
       "      <td>TikTok</td>\n",
       "      <td>65.161188</td>\n",
       "      <td>38948</td>\n",
       "      <td>234</td>\n",
       "      <td>0</td>\n",
       "      <td>0</td>\n",
       "      <td>TikTok | Desktop</td>\n",
       "      <td>1.673030</td>\n",
       "      <td>0.006008</td>\n",
       "      <td>0.278467</td>\n",
       "      <td>inf</td>\n",
       "      <td>inf</td>\n",
       "      <td>0.000000</td>\n",
       "      <td>NaN</td>\n",
       "    </tr>\n",
       "    <tr>\n",
       "      <th>11</th>\n",
       "      <td>Desktop</td>\n",
       "      <td>YouTube</td>\n",
       "      <td>138.440878</td>\n",
       "      <td>73716</td>\n",
       "      <td>649</td>\n",
       "      <td>0</td>\n",
       "      <td>0</td>\n",
       "      <td>YouTube | Desktop</td>\n",
       "      <td>1.878030</td>\n",
       "      <td>0.008804</td>\n",
       "      <td>0.213314</td>\n",
       "      <td>inf</td>\n",
       "      <td>inf</td>\n",
       "      <td>0.000000</td>\n",
       "      <td>NaN</td>\n",
       "    </tr>\n",
       "    <tr>\n",
       "      <th>12</th>\n",
       "      <td>iOS</td>\n",
       "      <td>Facebook News Feed</td>\n",
       "      <td>964.578663</td>\n",
       "      <td>229661</td>\n",
       "      <td>6848</td>\n",
       "      <td>451</td>\n",
       "      <td>331</td>\n",
       "      <td>Facebook News Feed | iOS</td>\n",
       "      <td>4.200011</td>\n",
       "      <td>0.029818</td>\n",
       "      <td>0.140856</td>\n",
       "      <td>2.138755</td>\n",
       "      <td>2.914135</td>\n",
       "      <td>0.065859</td>\n",
       "      <td>0.733925</td>\n",
       "    </tr>\n",
       "    <tr>\n",
       "      <th>13</th>\n",
       "      <td>iOS</td>\n",
       "      <td>Google Search Engine</td>\n",
       "      <td>2226.396571</td>\n",
       "      <td>472004</td>\n",
       "      <td>20303</td>\n",
       "      <td>1537</td>\n",
       "      <td>596</td>\n",
       "      <td>Google Search Engine | iOS</td>\n",
       "      <td>4.716902</td>\n",
       "      <td>0.043014</td>\n",
       "      <td>0.109659</td>\n",
       "      <td>1.448534</td>\n",
       "      <td>3.735565</td>\n",
       "      <td>0.075703</td>\n",
       "      <td>0.387768</td>\n",
       "    </tr>\n",
       "    <tr>\n",
       "      <th>14</th>\n",
       "      <td>iOS</td>\n",
       "      <td>Instagram Stories</td>\n",
       "      <td>495.519966</td>\n",
       "      <td>135292</td>\n",
       "      <td>2986</td>\n",
       "      <td>152</td>\n",
       "      <td>149</td>\n",
       "      <td>Instagram Stories | iOS</td>\n",
       "      <td>3.662596</td>\n",
       "      <td>0.022071</td>\n",
       "      <td>0.165948</td>\n",
       "      <td>3.260000</td>\n",
       "      <td>3.325637</td>\n",
       "      <td>0.050904</td>\n",
       "      <td>0.980263</td>\n",
       "    </tr>\n",
       "    <tr>\n",
       "      <th>15</th>\n",
       "      <td>iOS</td>\n",
       "      <td>MoPub</td>\n",
       "      <td>270.525178</td>\n",
       "      <td>98515</td>\n",
       "      <td>775</td>\n",
       "      <td>0</td>\n",
       "      <td>0</td>\n",
       "      <td>MoPub | iOS</td>\n",
       "      <td>2.746030</td>\n",
       "      <td>0.007867</td>\n",
       "      <td>0.349065</td>\n",
       "      <td>inf</td>\n",
       "      <td>inf</td>\n",
       "      <td>0.000000</td>\n",
       "      <td>NaN</td>\n",
       "    </tr>\n",
       "    <tr>\n",
       "      <th>16</th>\n",
       "      <td>iOS</td>\n",
       "      <td>TikTok</td>\n",
       "      <td>245.906494</td>\n",
       "      <td>96263</td>\n",
       "      <td>950</td>\n",
       "      <td>2</td>\n",
       "      <td>2</td>\n",
       "      <td>TikTok | iOS</td>\n",
       "      <td>2.554528</td>\n",
       "      <td>0.009869</td>\n",
       "      <td>0.258849</td>\n",
       "      <td>122.953247</td>\n",
       "      <td>122.953247</td>\n",
       "      <td>0.002105</td>\n",
       "      <td>1.000000</td>\n",
       "    </tr>\n",
       "    <tr>\n",
       "      <th>17</th>\n",
       "      <td>iOS</td>\n",
       "      <td>YouTube</td>\n",
       "      <td>538.733538</td>\n",
       "      <td>163363</td>\n",
       "      <td>2813</td>\n",
       "      <td>110</td>\n",
       "      <td>109</td>\n",
       "      <td>YouTube | iOS</td>\n",
       "      <td>3.297770</td>\n",
       "      <td>0.017219</td>\n",
       "      <td>0.191516</td>\n",
       "      <td>4.897578</td>\n",
       "      <td>4.942510</td>\n",
       "      <td>0.039104</td>\n",
       "      <td>0.990909</td>\n",
       "    </tr>\n",
       "  </tbody>\n",
       "</table>\n",
       "</div>"
      ],
      "text/plain": [
       "   device_type          channel_name     cost_usd  impressions  clicks  \\\n",
       "0      Android    Facebook News Feed   947.778946       241666    6720   \n",
       "1      Android  Google Search Engine  2068.786097       439756   19249   \n",
       "2      Android     Instagram Stories   500.511884       150865    2929   \n",
       "3      Android                 MoPub   227.479220        75487     671   \n",
       "4      Android                TikTok   220.984239        97857     855   \n",
       "5      Android               YouTube   548.585343       146032    2754   \n",
       "6      Desktop    Facebook News Feed   227.261037        64014    1556   \n",
       "7      Desktop  Google Search Engine   540.836578       156920    4950   \n",
       "8      Desktop     Instagram Stories   122.856453        58483     650   \n",
       "9      Desktop                 MoPub    61.115309        28881     145   \n",
       "10     Desktop                TikTok    65.161188        38948     234   \n",
       "11     Desktop               YouTube   138.440878        73716     649   \n",
       "12         iOS    Facebook News Feed   964.578663       229661    6848   \n",
       "13         iOS  Google Search Engine  2226.396571       472004   20303   \n",
       "14         iOS     Instagram Stories   495.519966       135292    2986   \n",
       "15         iOS                 MoPub   270.525178        98515     775   \n",
       "16         iOS                TikTok   245.906494        96263     950   \n",
       "17         iOS               YouTube   538.733538       163363    2813   \n",
       "\n",
       "    signups  payments                           label       CPM       CTR  \\\n",
       "0       406       311    Facebook News Feed | Android  3.921855  0.027807   \n",
       "1      1457       571  Google Search Engine | Android  4.704395  0.043772   \n",
       "2       142       140     Instagram Stories | Android  3.317614  0.019415   \n",
       "3         0         0                 MoPub | Android  3.013489  0.008889   \n",
       "4         0         0                TikTok | Android  2.258236  0.008737   \n",
       "5       101       101               YouTube | Android  3.756610  0.018859   \n",
       "6        12        12    Facebook News Feed | Desktop  3.550177  0.024307   \n",
       "7       202       192  Google Search Engine | Desktop  3.446575  0.031545   \n",
       "8         0         0     Instagram Stories | Desktop  2.100721  0.011114   \n",
       "9         0         0                 MoPub | Desktop  2.116108  0.005021   \n",
       "10        0         0                TikTok | Desktop  1.673030  0.006008   \n",
       "11        0         0               YouTube | Desktop  1.878030  0.008804   \n",
       "12      451       331        Facebook News Feed | iOS  4.200011  0.029818   \n",
       "13     1537       596      Google Search Engine | iOS  4.716902  0.043014   \n",
       "14      152       149         Instagram Stories | iOS  3.662596  0.022071   \n",
       "15        0         0                     MoPub | iOS  2.746030  0.007867   \n",
       "16        2         2                    TikTok | iOS  2.554528  0.009869   \n",
       "17      110       109                   YouTube | iOS  3.297770  0.017219   \n",
       "\n",
       "         CPC         CPS         CPP       cr2       cr3  \n",
       "0   0.141039    2.334431    3.047521  0.060417  0.766010  \n",
       "1   0.107475    1.419894    3.623093  0.075692  0.391901  \n",
       "2   0.170881    3.524732    3.575085  0.048481  0.985915  \n",
       "3   0.339015         inf         inf  0.000000       NaN  \n",
       "4   0.258461         inf         inf  0.000000       NaN  \n",
       "5   0.199196    5.431538    5.431538  0.036674  1.000000  \n",
       "6   0.146055   18.938420   18.938420  0.007712  1.000000  \n",
       "7   0.109260    2.677409    2.816857  0.040808  0.950495  \n",
       "8   0.189010         inf         inf  0.000000       NaN  \n",
       "9   0.421485         inf         inf  0.000000       NaN  \n",
       "10  0.278467         inf         inf  0.000000       NaN  \n",
       "11  0.213314         inf         inf  0.000000       NaN  \n",
       "12  0.140856    2.138755    2.914135  0.065859  0.733925  \n",
       "13  0.109659    1.448534    3.735565  0.075703  0.387768  \n",
       "14  0.165948    3.260000    3.325637  0.050904  0.980263  \n",
       "15  0.349065         inf         inf  0.000000       NaN  \n",
       "16  0.258849  122.953247  122.953247  0.002105  1.000000  \n",
       "17  0.191516    4.897578    4.942510  0.039104  0.990909  "
      ]
     },
     "execution_count": 82,
     "metadata": {},
     "output_type": "execute_result"
    }
   ],
   "source": [
    "pivot_noobjective"
   ]
  },
  {
   "cell_type": "code",
   "execution_count": 84,
   "metadata": {},
   "outputs": [
    {
     "data": {
      "application/vnd.plotly.v1+json": {
       "config": {
        "plotlyServerURL": "https://plot.ly"
       },
       "data": [
        {
         "marker": {
          "color": [
           "#44c0ed",
           "#4c956c",
           "#ffee93",
           "#ff7700",
           "#2d2c5e",
           "#7e5d50",
           "#44c0ed",
           "#4c956c",
           "#ffee93",
           "#ff7700",
           "#2d2c5e",
           "#7e5d50",
           "#44c0ed",
           "#4c956c",
           "#ffee93",
           "#ff7700",
           "#2d2c5e",
           "#7e5d50"
          ],
          "showscale": true,
          "size": 10
         },
         "mode": "markers+text",
         "text": [
          "Facebook News Feed | Android",
          "Google Search Engine | Android",
          "Instagram Stories | Android",
          "MoPub | Android",
          "TikTok | Android",
          "YouTube | Android",
          "Facebook News Feed | Desktop",
          "Google Search Engine | Desktop",
          "Instagram Stories | Desktop",
          "MoPub | Desktop",
          "TikTok | Desktop",
          "YouTube | Desktop",
          "Facebook News Feed | iOS",
          "Google Search Engine | iOS",
          "Instagram Stories | iOS",
          "MoPub | iOS",
          "TikTok | iOS",
          "YouTube | iOS"
         ],
         "textfont": {
          "size": 8
         },
         "textposition": "top center",
         "type": "scatter",
         "x": [
          0.14103853361502977,
          0.10747499074658425,
          0.17088148984568113,
          0.33901523076453055,
          0.2584610976631579,
          0.19919583973638344,
          0.14605465125,
          0.10925991464727274,
          0.18900992741076925,
          0.4214848869862069,
          0.27846661415384616,
          0.2133141418828968,
          0.1408555290058411,
          0.10965850221996751,
          0.1659477448583389,
          0.3490647459174193,
          0.25884894095263156,
          0.19151565530465695
         ],
         "y": [
          0.06041666666666667,
          0.07569224375292223,
          0.04848071013997952,
          0,
          0,
          0.036673928830791576,
          0.007712082262210797,
          0.04080808080808081,
          0,
          0,
          0,
          0,
          0.06585864485981309,
          0.07570309806432547,
          0.050904219691895514,
          0,
          0.002105263157894737,
          0.0391041592605759
         ]
        }
       ],
       "layout": {
        "height": 800,
        "shapes": [
         {
          "line": {
           "color": "Red",
           "dash": "dash",
           "width": 2
          },
          "name": "CPM Reference Line",
          "type": "line",
          "x0": 0.1311,
          "x1": 0.1311,
          "y0": 0,
          "y1": 0.1
         },
         {
          "line": {
           "color": "Red",
           "dash": "dash",
           "width": 2
          },
          "name": "CTR Reference Line",
          "type": "line",
          "x0": 0,
          "x1": 0.5,
          "y0": 0.0601,
          "y1": 0.0601
         }
        ],
        "template": {
         "data": {
          "bar": [
           {
            "error_x": {
             "color": "#2a3f5f"
            },
            "error_y": {
             "color": "#2a3f5f"
            },
            "marker": {
             "line": {
              "color": "#E5ECF6",
              "width": 0.5
             },
             "pattern": {
              "fillmode": "overlay",
              "size": 10,
              "solidity": 0.2
             }
            },
            "type": "bar"
           }
          ],
          "barpolar": [
           {
            "marker": {
             "line": {
              "color": "#E5ECF6",
              "width": 0.5
             },
             "pattern": {
              "fillmode": "overlay",
              "size": 10,
              "solidity": 0.2
             }
            },
            "type": "barpolar"
           }
          ],
          "carpet": [
           {
            "aaxis": {
             "endlinecolor": "#2a3f5f",
             "gridcolor": "white",
             "linecolor": "white",
             "minorgridcolor": "white",
             "startlinecolor": "#2a3f5f"
            },
            "baxis": {
             "endlinecolor": "#2a3f5f",
             "gridcolor": "white",
             "linecolor": "white",
             "minorgridcolor": "white",
             "startlinecolor": "#2a3f5f"
            },
            "type": "carpet"
           }
          ],
          "choropleth": [
           {
            "colorbar": {
             "outlinewidth": 0,
             "ticks": ""
            },
            "type": "choropleth"
           }
          ],
          "contour": [
           {
            "colorbar": {
             "outlinewidth": 0,
             "ticks": ""
            },
            "colorscale": [
             [
              0,
              "#0d0887"
             ],
             [
              0.1111111111111111,
              "#46039f"
             ],
             [
              0.2222222222222222,
              "#7201a8"
             ],
             [
              0.3333333333333333,
              "#9c179e"
             ],
             [
              0.4444444444444444,
              "#bd3786"
             ],
             [
              0.5555555555555556,
              "#d8576b"
             ],
             [
              0.6666666666666666,
              "#ed7953"
             ],
             [
              0.7777777777777778,
              "#fb9f3a"
             ],
             [
              0.8888888888888888,
              "#fdca26"
             ],
             [
              1,
              "#f0f921"
             ]
            ],
            "type": "contour"
           }
          ],
          "contourcarpet": [
           {
            "colorbar": {
             "outlinewidth": 0,
             "ticks": ""
            },
            "type": "contourcarpet"
           }
          ],
          "heatmap": [
           {
            "colorbar": {
             "outlinewidth": 0,
             "ticks": ""
            },
            "colorscale": [
             [
              0,
              "#0d0887"
             ],
             [
              0.1111111111111111,
              "#46039f"
             ],
             [
              0.2222222222222222,
              "#7201a8"
             ],
             [
              0.3333333333333333,
              "#9c179e"
             ],
             [
              0.4444444444444444,
              "#bd3786"
             ],
             [
              0.5555555555555556,
              "#d8576b"
             ],
             [
              0.6666666666666666,
              "#ed7953"
             ],
             [
              0.7777777777777778,
              "#fb9f3a"
             ],
             [
              0.8888888888888888,
              "#fdca26"
             ],
             [
              1,
              "#f0f921"
             ]
            ],
            "type": "heatmap"
           }
          ],
          "heatmapgl": [
           {
            "colorbar": {
             "outlinewidth": 0,
             "ticks": ""
            },
            "colorscale": [
             [
              0,
              "#0d0887"
             ],
             [
              0.1111111111111111,
              "#46039f"
             ],
             [
              0.2222222222222222,
              "#7201a8"
             ],
             [
              0.3333333333333333,
              "#9c179e"
             ],
             [
              0.4444444444444444,
              "#bd3786"
             ],
             [
              0.5555555555555556,
              "#d8576b"
             ],
             [
              0.6666666666666666,
              "#ed7953"
             ],
             [
              0.7777777777777778,
              "#fb9f3a"
             ],
             [
              0.8888888888888888,
              "#fdca26"
             ],
             [
              1,
              "#f0f921"
             ]
            ],
            "type": "heatmapgl"
           }
          ],
          "histogram": [
           {
            "marker": {
             "pattern": {
              "fillmode": "overlay",
              "size": 10,
              "solidity": 0.2
             }
            },
            "type": "histogram"
           }
          ],
          "histogram2d": [
           {
            "colorbar": {
             "outlinewidth": 0,
             "ticks": ""
            },
            "colorscale": [
             [
              0,
              "#0d0887"
             ],
             [
              0.1111111111111111,
              "#46039f"
             ],
             [
              0.2222222222222222,
              "#7201a8"
             ],
             [
              0.3333333333333333,
              "#9c179e"
             ],
             [
              0.4444444444444444,
              "#bd3786"
             ],
             [
              0.5555555555555556,
              "#d8576b"
             ],
             [
              0.6666666666666666,
              "#ed7953"
             ],
             [
              0.7777777777777778,
              "#fb9f3a"
             ],
             [
              0.8888888888888888,
              "#fdca26"
             ],
             [
              1,
              "#f0f921"
             ]
            ],
            "type": "histogram2d"
           }
          ],
          "histogram2dcontour": [
           {
            "colorbar": {
             "outlinewidth": 0,
             "ticks": ""
            },
            "colorscale": [
             [
              0,
              "#0d0887"
             ],
             [
              0.1111111111111111,
              "#46039f"
             ],
             [
              0.2222222222222222,
              "#7201a8"
             ],
             [
              0.3333333333333333,
              "#9c179e"
             ],
             [
              0.4444444444444444,
              "#bd3786"
             ],
             [
              0.5555555555555556,
              "#d8576b"
             ],
             [
              0.6666666666666666,
              "#ed7953"
             ],
             [
              0.7777777777777778,
              "#fb9f3a"
             ],
             [
              0.8888888888888888,
              "#fdca26"
             ],
             [
              1,
              "#f0f921"
             ]
            ],
            "type": "histogram2dcontour"
           }
          ],
          "mesh3d": [
           {
            "colorbar": {
             "outlinewidth": 0,
             "ticks": ""
            },
            "type": "mesh3d"
           }
          ],
          "parcoords": [
           {
            "line": {
             "colorbar": {
              "outlinewidth": 0,
              "ticks": ""
             }
            },
            "type": "parcoords"
           }
          ],
          "pie": [
           {
            "automargin": true,
            "type": "pie"
           }
          ],
          "scatter": [
           {
            "fillpattern": {
             "fillmode": "overlay",
             "size": 10,
             "solidity": 0.2
            },
            "type": "scatter"
           }
          ],
          "scatter3d": [
           {
            "line": {
             "colorbar": {
              "outlinewidth": 0,
              "ticks": ""
             }
            },
            "marker": {
             "colorbar": {
              "outlinewidth": 0,
              "ticks": ""
             }
            },
            "type": "scatter3d"
           }
          ],
          "scattercarpet": [
           {
            "marker": {
             "colorbar": {
              "outlinewidth": 0,
              "ticks": ""
             }
            },
            "type": "scattercarpet"
           }
          ],
          "scattergeo": [
           {
            "marker": {
             "colorbar": {
              "outlinewidth": 0,
              "ticks": ""
             }
            },
            "type": "scattergeo"
           }
          ],
          "scattergl": [
           {
            "marker": {
             "colorbar": {
              "outlinewidth": 0,
              "ticks": ""
             }
            },
            "type": "scattergl"
           }
          ],
          "scattermapbox": [
           {
            "marker": {
             "colorbar": {
              "outlinewidth": 0,
              "ticks": ""
             }
            },
            "type": "scattermapbox"
           }
          ],
          "scatterpolar": [
           {
            "marker": {
             "colorbar": {
              "outlinewidth": 0,
              "ticks": ""
             }
            },
            "type": "scatterpolar"
           }
          ],
          "scatterpolargl": [
           {
            "marker": {
             "colorbar": {
              "outlinewidth": 0,
              "ticks": ""
             }
            },
            "type": "scatterpolargl"
           }
          ],
          "scatterternary": [
           {
            "marker": {
             "colorbar": {
              "outlinewidth": 0,
              "ticks": ""
             }
            },
            "type": "scatterternary"
           }
          ],
          "surface": [
           {
            "colorbar": {
             "outlinewidth": 0,
             "ticks": ""
            },
            "colorscale": [
             [
              0,
              "#0d0887"
             ],
             [
              0.1111111111111111,
              "#46039f"
             ],
             [
              0.2222222222222222,
              "#7201a8"
             ],
             [
              0.3333333333333333,
              "#9c179e"
             ],
             [
              0.4444444444444444,
              "#bd3786"
             ],
             [
              0.5555555555555556,
              "#d8576b"
             ],
             [
              0.6666666666666666,
              "#ed7953"
             ],
             [
              0.7777777777777778,
              "#fb9f3a"
             ],
             [
              0.8888888888888888,
              "#fdca26"
             ],
             [
              1,
              "#f0f921"
             ]
            ],
            "type": "surface"
           }
          ],
          "table": [
           {
            "cells": {
             "fill": {
              "color": "#EBF0F8"
             },
             "line": {
              "color": "white"
             }
            },
            "header": {
             "fill": {
              "color": "#C8D4E3"
             },
             "line": {
              "color": "white"
             }
            },
            "type": "table"
           }
          ]
         },
         "layout": {
          "annotationdefaults": {
           "arrowcolor": "#2a3f5f",
           "arrowhead": 0,
           "arrowwidth": 1
          },
          "autotypenumbers": "strict",
          "coloraxis": {
           "colorbar": {
            "outlinewidth": 0,
            "ticks": ""
           }
          },
          "colorscale": {
           "diverging": [
            [
             0,
             "#8e0152"
            ],
            [
             0.1,
             "#c51b7d"
            ],
            [
             0.2,
             "#de77ae"
            ],
            [
             0.3,
             "#f1b6da"
            ],
            [
             0.4,
             "#fde0ef"
            ],
            [
             0.5,
             "#f7f7f7"
            ],
            [
             0.6,
             "#e6f5d0"
            ],
            [
             0.7,
             "#b8e186"
            ],
            [
             0.8,
             "#7fbc41"
            ],
            [
             0.9,
             "#4d9221"
            ],
            [
             1,
             "#276419"
            ]
           ],
           "sequential": [
            [
             0,
             "#0d0887"
            ],
            [
             0.1111111111111111,
             "#46039f"
            ],
            [
             0.2222222222222222,
             "#7201a8"
            ],
            [
             0.3333333333333333,
             "#9c179e"
            ],
            [
             0.4444444444444444,
             "#bd3786"
            ],
            [
             0.5555555555555556,
             "#d8576b"
            ],
            [
             0.6666666666666666,
             "#ed7953"
            ],
            [
             0.7777777777777778,
             "#fb9f3a"
            ],
            [
             0.8888888888888888,
             "#fdca26"
            ],
            [
             1,
             "#f0f921"
            ]
           ],
           "sequentialminus": [
            [
             0,
             "#0d0887"
            ],
            [
             0.1111111111111111,
             "#46039f"
            ],
            [
             0.2222222222222222,
             "#7201a8"
            ],
            [
             0.3333333333333333,
             "#9c179e"
            ],
            [
             0.4444444444444444,
             "#bd3786"
            ],
            [
             0.5555555555555556,
             "#d8576b"
            ],
            [
             0.6666666666666666,
             "#ed7953"
            ],
            [
             0.7777777777777778,
             "#fb9f3a"
            ],
            [
             0.8888888888888888,
             "#fdca26"
            ],
            [
             1,
             "#f0f921"
            ]
           ]
          },
          "colorway": [
           "#636efa",
           "#EF553B",
           "#00cc96",
           "#ab63fa",
           "#FFA15A",
           "#19d3f3",
           "#FF6692",
           "#B6E880",
           "#FF97FF",
           "#FECB52"
          ],
          "font": {
           "color": "#2a3f5f"
          },
          "geo": {
           "bgcolor": "white",
           "lakecolor": "white",
           "landcolor": "#E5ECF6",
           "showlakes": true,
           "showland": true,
           "subunitcolor": "white"
          },
          "hoverlabel": {
           "align": "left"
          },
          "hovermode": "closest",
          "mapbox": {
           "style": "light"
          },
          "paper_bgcolor": "white",
          "plot_bgcolor": "#E5ECF6",
          "polar": {
           "angularaxis": {
            "gridcolor": "white",
            "linecolor": "white",
            "ticks": ""
           },
           "bgcolor": "#E5ECF6",
           "radialaxis": {
            "gridcolor": "white",
            "linecolor": "white",
            "ticks": ""
           }
          },
          "scene": {
           "xaxis": {
            "backgroundcolor": "#E5ECF6",
            "gridcolor": "white",
            "gridwidth": 2,
            "linecolor": "white",
            "showbackground": true,
            "ticks": "",
            "zerolinecolor": "white"
           },
           "yaxis": {
            "backgroundcolor": "#E5ECF6",
            "gridcolor": "white",
            "gridwidth": 2,
            "linecolor": "white",
            "showbackground": true,
            "ticks": "",
            "zerolinecolor": "white"
           },
           "zaxis": {
            "backgroundcolor": "#E5ECF6",
            "gridcolor": "white",
            "gridwidth": 2,
            "linecolor": "white",
            "showbackground": true,
            "ticks": "",
            "zerolinecolor": "white"
           }
          },
          "shapedefaults": {
           "line": {
            "color": "#2a3f5f"
           }
          },
          "ternary": {
           "aaxis": {
            "gridcolor": "white",
            "linecolor": "white",
            "ticks": ""
           },
           "baxis": {
            "gridcolor": "white",
            "linecolor": "white",
            "ticks": ""
           },
           "bgcolor": "#E5ECF6",
           "caxis": {
            "gridcolor": "white",
            "linecolor": "white",
            "ticks": ""
           }
          },
          "title": {
           "x": 0.05
          },
          "xaxis": {
           "automargin": true,
           "gridcolor": "white",
           "linecolor": "white",
           "ticks": "",
           "title": {
            "standoff": 15
           },
           "zerolinecolor": "white",
           "zerolinewidth": 2
          },
          "yaxis": {
           "automargin": true,
           "gridcolor": "white",
           "linecolor": "white",
           "ticks": "",
           "title": {
            "standoff": 15
           },
           "zerolinecolor": "white",
           "zerolinewidth": 2
          }
         }
        },
        "title": {
         "text": "Scatter Plot of CPC vs. CR2",
         "x": 0.5
        },
        "width": 1200,
        "xaxis": {
         "title": {
          "text": "CPC"
         }
        },
        "yaxis": {
         "title": {
          "text": "CR2"
         }
        }
       }
      }
     },
     "metadata": {},
     "output_type": "display_data"
    }
   ],
   "source": [
    "\n",
    "df = pivot_noobjective\n",
    "#[pivot_table['objective'] == 'Branding']\n",
    "color_palette = ['#44c0ed', '#4c956c','#ffee93', '#ff7700', '#2d2c5e', '#7e5d50']\n",
    "channel = pivot_noobjective['channel_name'].unique()\n",
    "color_mapping = {channel: color_palette[i % len(color_palette)] for i, channel in enumerate(channel)}\n",
    "\n",
    "#df['label'] = df['channel_name'] + ' | ' + df['device_type']\n",
    "\n",
    "# Create scatter plot\n",
    "fig = go.Figure()\n",
    "\n",
    "fig.add_trace(\n",
    "    go.Scatter(\n",
    "        x=df['CPC'],\n",
    "        y=df['cr2'],\n",
    "        mode='markers+text',\n",
    "        marker=dict(\n",
    "            size=10,  \n",
    "            color=[color_mapping[channel] for channel in df['channel_name']], \n",
    "            showscale=True\n",
    "        ),\n",
    "        text=df['label'],  \n",
    "        textposition='top center',\n",
    "        textfont=dict(size=8)  \n",
    "    )\n",
    ")\n",
    "\n",
    "fig.add_shape(\n",
    "    go.layout.Shape(\n",
    "        type=\"line\",\n",
    "        x0=0.1311,\n",
    "        x1=0.1311,\n",
    "        y0=0,  # Start from the minimum y-value\n",
    "        y1=0.1,  # End at the maximum y-value\n",
    "        line=dict(\n",
    "            color=\"Red\",\n",
    "            width=2,\n",
    "            dash=\"dash\"\n",
    "        ),\n",
    "        name=\"CPM Reference Line\"\n",
    "    )\n",
    ")\n",
    "\n",
    "fig.add_shape(\n",
    "    go.layout.Shape(\n",
    "        type=\"line\",\n",
    "        x0=0,  # Start from the minimum x-value\n",
    "        x1=0.5,  # End at the maximum x-value\n",
    "        y0=0.0601,\n",
    "        y1=0.0601,\n",
    "        line=dict(\n",
    "            color=\"Red\",\n",
    "            width=2,\n",
    "            dash=\"dash\"\n",
    "        ),\n",
    "        name=\"CTR Reference Line\"\n",
    "    )\n",
    ")\n",
    "\n",
    "# Update layout\n",
    "fig.update_layout(\n",
    "    title='Scatter Plot of CPC vs. CR2',\n",
    "    title_x=0.5,\n",
    "    xaxis_title='CPC',\n",
    "    yaxis_title='CR2',\n",
    "    height=800,\n",
    "    width=1200\n",
    ")\n",
    "\n",
    "fig.show()\n"
   ]
  },
  {
   "cell_type": "code",
   "execution_count": null,
   "metadata": {},
   "outputs": [],
   "source": []
  },
  {
   "cell_type": "code",
   "execution_count": 87,
   "metadata": {},
   "outputs": [
    {
     "data": {
      "application/vnd.plotly.v1+json": {
       "config": {
        "plotlyServerURL": "https://plot.ly"
       },
       "data": [
        {
         "marker": {
          "color": [
           "#44c0ed",
           "#4c956c",
           "#ffee93",
           "#ff7700",
           "#2d2c5e",
           "#7e5d50",
           "#44c0ed",
           "#4c956c",
           "#ffee93",
           "#ff7700",
           "#2d2c5e",
           "#7e5d50",
           "#44c0ed",
           "#4c956c",
           "#ffee93",
           "#ff7700",
           "#2d2c5e",
           "#7e5d50"
          ],
          "showscale": true,
          "size": 10
         },
         "mode": "markers+text",
         "text": [
          "Facebook News Feed | Android",
          "Google Search Engine | Android",
          "Instagram Stories | Android",
          "MoPub | Android",
          "TikTok | Android",
          "YouTube | Android",
          "Facebook News Feed | Desktop",
          "Google Search Engine | Desktop",
          "Instagram Stories | Desktop",
          "MoPub | Desktop",
          "TikTok | Desktop",
          "YouTube | Desktop",
          "Facebook News Feed | iOS",
          "Google Search Engine | iOS",
          "Instagram Stories | iOS",
          "MoPub | iOS",
          "TikTok | iOS",
          "YouTube | iOS"
         ],
         "textfont": {
          "size": 8
         },
         "textposition": "top center",
         "type": "scatter",
         "x": [
          3.921854732949608,
          4.704395384897534,
          3.3176143158320355,
          3.0134886780902677,
          2.258236390876483,
          3.7566104869754575,
          3.5501771072734094,
          3.446575181646699,
          2.1007207704290134,
          2.1161077737266716,
          1.6730303921125604,
          1.8780302523468448,
          4.2000107229002746,
          4.716901913060059,
          3.6625962078097745,
          2.7460303312795005,
          2.5545276368386607,
          3.2977696196323527
         ],
         "y": [
          0.027806973260615892,
          0.043772000836827696,
          0.01941470851423458,
          0.008888947765840476,
          0.008737239032465741,
          0.01885888024542566,
          0.02430718280376168,
          0.03154473617129747,
          0.011114340919583469,
          0.005020601779716769,
          0.006008010680907877,
          0.008804058820337511,
          0.029817861979178007,
          0.04301446597910187,
          0.022070780238299382,
          0.007866822311323149,
          0.009868796941711768,
          0.017219321388564118
         ]
        }
       ],
       "layout": {
        "height": 800,
        "shapes": [
         {
          "line": {
           "color": "Red",
           "dash": "dash",
           "width": 2
          },
          "name": "CPM Reference Line",
          "type": "line",
          "x0": 3.6015,
          "x1": 3.6015,
          "y0": 0,
          "y1": 0.1
         },
         {
          "line": {
           "color": "Red",
           "dash": "dash",
           "width": 2
          },
          "name": "CTR Reference Line",
          "type": "line",
          "x0": 0,
          "x1": 5,
          "y0": 0.0275,
          "y1": 0.0275
         }
        ],
        "template": {
         "data": {
          "bar": [
           {
            "error_x": {
             "color": "#2a3f5f"
            },
            "error_y": {
             "color": "#2a3f5f"
            },
            "marker": {
             "line": {
              "color": "#E5ECF6",
              "width": 0.5
             },
             "pattern": {
              "fillmode": "overlay",
              "size": 10,
              "solidity": 0.2
             }
            },
            "type": "bar"
           }
          ],
          "barpolar": [
           {
            "marker": {
             "line": {
              "color": "#E5ECF6",
              "width": 0.5
             },
             "pattern": {
              "fillmode": "overlay",
              "size": 10,
              "solidity": 0.2
             }
            },
            "type": "barpolar"
           }
          ],
          "carpet": [
           {
            "aaxis": {
             "endlinecolor": "#2a3f5f",
             "gridcolor": "white",
             "linecolor": "white",
             "minorgridcolor": "white",
             "startlinecolor": "#2a3f5f"
            },
            "baxis": {
             "endlinecolor": "#2a3f5f",
             "gridcolor": "white",
             "linecolor": "white",
             "minorgridcolor": "white",
             "startlinecolor": "#2a3f5f"
            },
            "type": "carpet"
           }
          ],
          "choropleth": [
           {
            "colorbar": {
             "outlinewidth": 0,
             "ticks": ""
            },
            "type": "choropleth"
           }
          ],
          "contour": [
           {
            "colorbar": {
             "outlinewidth": 0,
             "ticks": ""
            },
            "colorscale": [
             [
              0,
              "#0d0887"
             ],
             [
              0.1111111111111111,
              "#46039f"
             ],
             [
              0.2222222222222222,
              "#7201a8"
             ],
             [
              0.3333333333333333,
              "#9c179e"
             ],
             [
              0.4444444444444444,
              "#bd3786"
             ],
             [
              0.5555555555555556,
              "#d8576b"
             ],
             [
              0.6666666666666666,
              "#ed7953"
             ],
             [
              0.7777777777777778,
              "#fb9f3a"
             ],
             [
              0.8888888888888888,
              "#fdca26"
             ],
             [
              1,
              "#f0f921"
             ]
            ],
            "type": "contour"
           }
          ],
          "contourcarpet": [
           {
            "colorbar": {
             "outlinewidth": 0,
             "ticks": ""
            },
            "type": "contourcarpet"
           }
          ],
          "heatmap": [
           {
            "colorbar": {
             "outlinewidth": 0,
             "ticks": ""
            },
            "colorscale": [
             [
              0,
              "#0d0887"
             ],
             [
              0.1111111111111111,
              "#46039f"
             ],
             [
              0.2222222222222222,
              "#7201a8"
             ],
             [
              0.3333333333333333,
              "#9c179e"
             ],
             [
              0.4444444444444444,
              "#bd3786"
             ],
             [
              0.5555555555555556,
              "#d8576b"
             ],
             [
              0.6666666666666666,
              "#ed7953"
             ],
             [
              0.7777777777777778,
              "#fb9f3a"
             ],
             [
              0.8888888888888888,
              "#fdca26"
             ],
             [
              1,
              "#f0f921"
             ]
            ],
            "type": "heatmap"
           }
          ],
          "heatmapgl": [
           {
            "colorbar": {
             "outlinewidth": 0,
             "ticks": ""
            },
            "colorscale": [
             [
              0,
              "#0d0887"
             ],
             [
              0.1111111111111111,
              "#46039f"
             ],
             [
              0.2222222222222222,
              "#7201a8"
             ],
             [
              0.3333333333333333,
              "#9c179e"
             ],
             [
              0.4444444444444444,
              "#bd3786"
             ],
             [
              0.5555555555555556,
              "#d8576b"
             ],
             [
              0.6666666666666666,
              "#ed7953"
             ],
             [
              0.7777777777777778,
              "#fb9f3a"
             ],
             [
              0.8888888888888888,
              "#fdca26"
             ],
             [
              1,
              "#f0f921"
             ]
            ],
            "type": "heatmapgl"
           }
          ],
          "histogram": [
           {
            "marker": {
             "pattern": {
              "fillmode": "overlay",
              "size": 10,
              "solidity": 0.2
             }
            },
            "type": "histogram"
           }
          ],
          "histogram2d": [
           {
            "colorbar": {
             "outlinewidth": 0,
             "ticks": ""
            },
            "colorscale": [
             [
              0,
              "#0d0887"
             ],
             [
              0.1111111111111111,
              "#46039f"
             ],
             [
              0.2222222222222222,
              "#7201a8"
             ],
             [
              0.3333333333333333,
              "#9c179e"
             ],
             [
              0.4444444444444444,
              "#bd3786"
             ],
             [
              0.5555555555555556,
              "#d8576b"
             ],
             [
              0.6666666666666666,
              "#ed7953"
             ],
             [
              0.7777777777777778,
              "#fb9f3a"
             ],
             [
              0.8888888888888888,
              "#fdca26"
             ],
             [
              1,
              "#f0f921"
             ]
            ],
            "type": "histogram2d"
           }
          ],
          "histogram2dcontour": [
           {
            "colorbar": {
             "outlinewidth": 0,
             "ticks": ""
            },
            "colorscale": [
             [
              0,
              "#0d0887"
             ],
             [
              0.1111111111111111,
              "#46039f"
             ],
             [
              0.2222222222222222,
              "#7201a8"
             ],
             [
              0.3333333333333333,
              "#9c179e"
             ],
             [
              0.4444444444444444,
              "#bd3786"
             ],
             [
              0.5555555555555556,
              "#d8576b"
             ],
             [
              0.6666666666666666,
              "#ed7953"
             ],
             [
              0.7777777777777778,
              "#fb9f3a"
             ],
             [
              0.8888888888888888,
              "#fdca26"
             ],
             [
              1,
              "#f0f921"
             ]
            ],
            "type": "histogram2dcontour"
           }
          ],
          "mesh3d": [
           {
            "colorbar": {
             "outlinewidth": 0,
             "ticks": ""
            },
            "type": "mesh3d"
           }
          ],
          "parcoords": [
           {
            "line": {
             "colorbar": {
              "outlinewidth": 0,
              "ticks": ""
             }
            },
            "type": "parcoords"
           }
          ],
          "pie": [
           {
            "automargin": true,
            "type": "pie"
           }
          ],
          "scatter": [
           {
            "fillpattern": {
             "fillmode": "overlay",
             "size": 10,
             "solidity": 0.2
            },
            "type": "scatter"
           }
          ],
          "scatter3d": [
           {
            "line": {
             "colorbar": {
              "outlinewidth": 0,
              "ticks": ""
             }
            },
            "marker": {
             "colorbar": {
              "outlinewidth": 0,
              "ticks": ""
             }
            },
            "type": "scatter3d"
           }
          ],
          "scattercarpet": [
           {
            "marker": {
             "colorbar": {
              "outlinewidth": 0,
              "ticks": ""
             }
            },
            "type": "scattercarpet"
           }
          ],
          "scattergeo": [
           {
            "marker": {
             "colorbar": {
              "outlinewidth": 0,
              "ticks": ""
             }
            },
            "type": "scattergeo"
           }
          ],
          "scattergl": [
           {
            "marker": {
             "colorbar": {
              "outlinewidth": 0,
              "ticks": ""
             }
            },
            "type": "scattergl"
           }
          ],
          "scattermapbox": [
           {
            "marker": {
             "colorbar": {
              "outlinewidth": 0,
              "ticks": ""
             }
            },
            "type": "scattermapbox"
           }
          ],
          "scatterpolar": [
           {
            "marker": {
             "colorbar": {
              "outlinewidth": 0,
              "ticks": ""
             }
            },
            "type": "scatterpolar"
           }
          ],
          "scatterpolargl": [
           {
            "marker": {
             "colorbar": {
              "outlinewidth": 0,
              "ticks": ""
             }
            },
            "type": "scatterpolargl"
           }
          ],
          "scatterternary": [
           {
            "marker": {
             "colorbar": {
              "outlinewidth": 0,
              "ticks": ""
             }
            },
            "type": "scatterternary"
           }
          ],
          "surface": [
           {
            "colorbar": {
             "outlinewidth": 0,
             "ticks": ""
            },
            "colorscale": [
             [
              0,
              "#0d0887"
             ],
             [
              0.1111111111111111,
              "#46039f"
             ],
             [
              0.2222222222222222,
              "#7201a8"
             ],
             [
              0.3333333333333333,
              "#9c179e"
             ],
             [
              0.4444444444444444,
              "#bd3786"
             ],
             [
              0.5555555555555556,
              "#d8576b"
             ],
             [
              0.6666666666666666,
              "#ed7953"
             ],
             [
              0.7777777777777778,
              "#fb9f3a"
             ],
             [
              0.8888888888888888,
              "#fdca26"
             ],
             [
              1,
              "#f0f921"
             ]
            ],
            "type": "surface"
           }
          ],
          "table": [
           {
            "cells": {
             "fill": {
              "color": "#EBF0F8"
             },
             "line": {
              "color": "white"
             }
            },
            "header": {
             "fill": {
              "color": "#C8D4E3"
             },
             "line": {
              "color": "white"
             }
            },
            "type": "table"
           }
          ]
         },
         "layout": {
          "annotationdefaults": {
           "arrowcolor": "#2a3f5f",
           "arrowhead": 0,
           "arrowwidth": 1
          },
          "autotypenumbers": "strict",
          "coloraxis": {
           "colorbar": {
            "outlinewidth": 0,
            "ticks": ""
           }
          },
          "colorscale": {
           "diverging": [
            [
             0,
             "#8e0152"
            ],
            [
             0.1,
             "#c51b7d"
            ],
            [
             0.2,
             "#de77ae"
            ],
            [
             0.3,
             "#f1b6da"
            ],
            [
             0.4,
             "#fde0ef"
            ],
            [
             0.5,
             "#f7f7f7"
            ],
            [
             0.6,
             "#e6f5d0"
            ],
            [
             0.7,
             "#b8e186"
            ],
            [
             0.8,
             "#7fbc41"
            ],
            [
             0.9,
             "#4d9221"
            ],
            [
             1,
             "#276419"
            ]
           ],
           "sequential": [
            [
             0,
             "#0d0887"
            ],
            [
             0.1111111111111111,
             "#46039f"
            ],
            [
             0.2222222222222222,
             "#7201a8"
            ],
            [
             0.3333333333333333,
             "#9c179e"
            ],
            [
             0.4444444444444444,
             "#bd3786"
            ],
            [
             0.5555555555555556,
             "#d8576b"
            ],
            [
             0.6666666666666666,
             "#ed7953"
            ],
            [
             0.7777777777777778,
             "#fb9f3a"
            ],
            [
             0.8888888888888888,
             "#fdca26"
            ],
            [
             1,
             "#f0f921"
            ]
           ],
           "sequentialminus": [
            [
             0,
             "#0d0887"
            ],
            [
             0.1111111111111111,
             "#46039f"
            ],
            [
             0.2222222222222222,
             "#7201a8"
            ],
            [
             0.3333333333333333,
             "#9c179e"
            ],
            [
             0.4444444444444444,
             "#bd3786"
            ],
            [
             0.5555555555555556,
             "#d8576b"
            ],
            [
             0.6666666666666666,
             "#ed7953"
            ],
            [
             0.7777777777777778,
             "#fb9f3a"
            ],
            [
             0.8888888888888888,
             "#fdca26"
            ],
            [
             1,
             "#f0f921"
            ]
           ]
          },
          "colorway": [
           "#636efa",
           "#EF553B",
           "#00cc96",
           "#ab63fa",
           "#FFA15A",
           "#19d3f3",
           "#FF6692",
           "#B6E880",
           "#FF97FF",
           "#FECB52"
          ],
          "font": {
           "color": "#2a3f5f"
          },
          "geo": {
           "bgcolor": "white",
           "lakecolor": "white",
           "landcolor": "#E5ECF6",
           "showlakes": true,
           "showland": true,
           "subunitcolor": "white"
          },
          "hoverlabel": {
           "align": "left"
          },
          "hovermode": "closest",
          "mapbox": {
           "style": "light"
          },
          "paper_bgcolor": "white",
          "plot_bgcolor": "#E5ECF6",
          "polar": {
           "angularaxis": {
            "gridcolor": "white",
            "linecolor": "white",
            "ticks": ""
           },
           "bgcolor": "#E5ECF6",
           "radialaxis": {
            "gridcolor": "white",
            "linecolor": "white",
            "ticks": ""
           }
          },
          "scene": {
           "xaxis": {
            "backgroundcolor": "#E5ECF6",
            "gridcolor": "white",
            "gridwidth": 2,
            "linecolor": "white",
            "showbackground": true,
            "ticks": "",
            "zerolinecolor": "white"
           },
           "yaxis": {
            "backgroundcolor": "#E5ECF6",
            "gridcolor": "white",
            "gridwidth": 2,
            "linecolor": "white",
            "showbackground": true,
            "ticks": "",
            "zerolinecolor": "white"
           },
           "zaxis": {
            "backgroundcolor": "#E5ECF6",
            "gridcolor": "white",
            "gridwidth": 2,
            "linecolor": "white",
            "showbackground": true,
            "ticks": "",
            "zerolinecolor": "white"
           }
          },
          "shapedefaults": {
           "line": {
            "color": "#2a3f5f"
           }
          },
          "ternary": {
           "aaxis": {
            "gridcolor": "white",
            "linecolor": "white",
            "ticks": ""
           },
           "baxis": {
            "gridcolor": "white",
            "linecolor": "white",
            "ticks": ""
           },
           "bgcolor": "#E5ECF6",
           "caxis": {
            "gridcolor": "white",
            "linecolor": "white",
            "ticks": ""
           }
          },
          "title": {
           "x": 0.05
          },
          "xaxis": {
           "automargin": true,
           "gridcolor": "white",
           "linecolor": "white",
           "ticks": "",
           "title": {
            "standoff": 15
           },
           "zerolinecolor": "white",
           "zerolinewidth": 2
          },
          "yaxis": {
           "automargin": true,
           "gridcolor": "white",
           "linecolor": "white",
           "ticks": "",
           "title": {
            "standoff": 15
           },
           "zerolinecolor": "white",
           "zerolinewidth": 2
          }
         }
        },
        "title": {
         "text": "Scatter Plot of CPM vs. CTR",
         "x": 0.5
        },
        "width": 1200,
        "xaxis": {
         "title": {
          "text": "CPM"
         }
        },
        "yaxis": {
         "title": {
          "text": "CTR"
         }
        }
       }
      }
     },
     "metadata": {},
     "output_type": "display_data"
    }
   ],
   "source": [
    "\n",
    "df = pivot_noobjective\n",
    "\n",
    "color_palette = ['#44c0ed', '#4c956c','#ffee93', '#ff7700', '#2d2c5e', '#7e5d50']\n",
    "channel = pivot_noobjective['channel_name'].unique()\n",
    "color_mapping = {channel: color_palette[i % len(color_palette)] for i, channel in enumerate(channel)}\n",
    "\n",
    "#df['label'] = df['channel_name'] + ' | ' + df['device_type']\n",
    "\n",
    "# Create scatter plot\n",
    "fig = go.Figure()\n",
    "\n",
    "fig.add_trace(\n",
    "    go.Scatter(\n",
    "        x=df['CPM'],\n",
    "        y=df['CTR'],\n",
    "        mode='markers+text',\n",
    "        marker=dict(\n",
    "            size=10,  \n",
    "            color=[color_mapping[channel] for channel in df['channel_name']], \n",
    "            showscale=True\n",
    "        ),\n",
    "        text=df['label'],  \n",
    "        textposition='top center',\n",
    "        textfont=dict(size=8)  \n",
    "    )\n",
    ")\n",
    "\n",
    "fig.add_shape(\n",
    "    go.layout.Shape(\n",
    "        type=\"line\",\n",
    "        x0=3.6015,\n",
    "        x1=3.6015,\n",
    "        y0=0,  # Start from the minimum y-value\n",
    "        y1=0.1,  # End at the maximum y-value\n",
    "        line=dict(\n",
    "            color=\"Red\",\n",
    "            width=2,\n",
    "            dash=\"dash\"\n",
    "        ),\n",
    "        name=\"CPM Reference Line\"\n",
    "    )\n",
    ")\n",
    "\n",
    "fig.add_shape(\n",
    "    go.layout.Shape(\n",
    "        type=\"line\",\n",
    "        x0=0,  # Start from the minimum x-value\n",
    "        x1=5,  # End at the maximum x-value\n",
    "        y0=0.0275,\n",
    "        y1=0.0275,\n",
    "        line=dict(\n",
    "            color=\"Red\",\n",
    "            width=2,\n",
    "            dash=\"dash\"\n",
    "        ),\n",
    "        name=\"CTR Reference Line\"\n",
    "    )\n",
    ")\n",
    "\n",
    "# Update layout\n",
    "fig.update_layout(\n",
    "    title='Scatter Plot of CPM vs. CTR',\n",
    "    title_x=0.5,\n",
    "    xaxis_title='CPM',\n",
    "    yaxis_title='CTR',\n",
    "    height=800,\n",
    "    width=1200\n",
    ")\n",
    "\n",
    "fig.show()\n"
   ]
  },
  {
   "cell_type": "code",
   "execution_count": 94,
   "metadata": {},
   "outputs": [
    {
     "data": {
      "application/vnd.plotly.v1+json": {
       "config": {
        "plotlyServerURL": "https://plot.ly"
       },
       "data": [
        {
         "marker": {
          "color": [
           "#44c0ed",
           "#4c956c",
           "#ffee93",
           "#ff7700",
           "#2d2c5e",
           "#7e5d50",
           "#44c0ed",
           "#4c956c",
           "#ffee93",
           "#ff7700",
           "#2d2c5e",
           "#7e5d50",
           "#44c0ed",
           "#4c956c",
           "#ffee93",
           "#ff7700",
           "#2d2c5e",
           "#7e5d50"
          ],
          "showscale": true,
          "size": 10
         },
         "mode": "markers+text",
         "text": [
          "Facebook News Feed | Android",
          "Google Search Engine | Android",
          "Instagram Stories | Android",
          "MoPub | Android",
          "TikTok | Android",
          "YouTube | Android",
          "Facebook News Feed | Desktop",
          "Google Search Engine | Desktop",
          "Instagram Stories | Desktop",
          "MoPub | Desktop",
          "TikTok | Desktop",
          "YouTube | Desktop",
          "Facebook News Feed | iOS",
          "Google Search Engine | iOS",
          "Instagram Stories | iOS",
          "MoPub | iOS",
          "TikTok | iOS",
          "YouTube | iOS"
         ],
         "textfont": {
          "size": 6
         },
         "textposition": "top center",
         "type": "scatter",
         "x": [
          2.3344309012142856,
          1.4198943698565547,
          3.5247315757605633,
          null,
          null,
          5.4315380458811875,
          18.93841977875,
          2.677408799524753,
          null,
          null,
          null,
          null,
          2.1387553495166296,
          1.4485338780559534,
          3.2599997772828946,
          null,
          122.9532469525,
          4.897577621563636
         ],
         "y": [
          0.7660098522167488,
          0.39190116678105696,
          0.9859154929577465,
          null,
          null,
          1,
          1,
          0.9504950495049505,
          null,
          null,
          null,
          null,
          0.7339246119733924,
          0.3877683799609629,
          0.9802631578947368,
          null,
          1,
          0.990909090909091
         ]
        }
       ],
       "layout": {
        "height": 800,
        "shapes": [
         {
          "line": {
           "color": "Red",
           "dash": "dash",
           "width": 2
          },
          "name": "CPM Reference Line",
          "type": "line",
          "x0": 2.1802,
          "x1": 2.1802,
          "y0": 0,
          "y1": 1
         },
         {
          "line": {
           "color": "Red",
           "dash": "dash",
           "width": 2
          },
          "name": "CTR Reference Line",
          "type": "line",
          "x0": 0,
          "x1": 125,
          "y0": 0.5499,
          "y1": 0.5499
         }
        ],
        "template": {
         "data": {
          "bar": [
           {
            "error_x": {
             "color": "#2a3f5f"
            },
            "error_y": {
             "color": "#2a3f5f"
            },
            "marker": {
             "line": {
              "color": "#E5ECF6",
              "width": 0.5
             },
             "pattern": {
              "fillmode": "overlay",
              "size": 10,
              "solidity": 0.2
             }
            },
            "type": "bar"
           }
          ],
          "barpolar": [
           {
            "marker": {
             "line": {
              "color": "#E5ECF6",
              "width": 0.5
             },
             "pattern": {
              "fillmode": "overlay",
              "size": 10,
              "solidity": 0.2
             }
            },
            "type": "barpolar"
           }
          ],
          "carpet": [
           {
            "aaxis": {
             "endlinecolor": "#2a3f5f",
             "gridcolor": "white",
             "linecolor": "white",
             "minorgridcolor": "white",
             "startlinecolor": "#2a3f5f"
            },
            "baxis": {
             "endlinecolor": "#2a3f5f",
             "gridcolor": "white",
             "linecolor": "white",
             "minorgridcolor": "white",
             "startlinecolor": "#2a3f5f"
            },
            "type": "carpet"
           }
          ],
          "choropleth": [
           {
            "colorbar": {
             "outlinewidth": 0,
             "ticks": ""
            },
            "type": "choropleth"
           }
          ],
          "contour": [
           {
            "colorbar": {
             "outlinewidth": 0,
             "ticks": ""
            },
            "colorscale": [
             [
              0,
              "#0d0887"
             ],
             [
              0.1111111111111111,
              "#46039f"
             ],
             [
              0.2222222222222222,
              "#7201a8"
             ],
             [
              0.3333333333333333,
              "#9c179e"
             ],
             [
              0.4444444444444444,
              "#bd3786"
             ],
             [
              0.5555555555555556,
              "#d8576b"
             ],
             [
              0.6666666666666666,
              "#ed7953"
             ],
             [
              0.7777777777777778,
              "#fb9f3a"
             ],
             [
              0.8888888888888888,
              "#fdca26"
             ],
             [
              1,
              "#f0f921"
             ]
            ],
            "type": "contour"
           }
          ],
          "contourcarpet": [
           {
            "colorbar": {
             "outlinewidth": 0,
             "ticks": ""
            },
            "type": "contourcarpet"
           }
          ],
          "heatmap": [
           {
            "colorbar": {
             "outlinewidth": 0,
             "ticks": ""
            },
            "colorscale": [
             [
              0,
              "#0d0887"
             ],
             [
              0.1111111111111111,
              "#46039f"
             ],
             [
              0.2222222222222222,
              "#7201a8"
             ],
             [
              0.3333333333333333,
              "#9c179e"
             ],
             [
              0.4444444444444444,
              "#bd3786"
             ],
             [
              0.5555555555555556,
              "#d8576b"
             ],
             [
              0.6666666666666666,
              "#ed7953"
             ],
             [
              0.7777777777777778,
              "#fb9f3a"
             ],
             [
              0.8888888888888888,
              "#fdca26"
             ],
             [
              1,
              "#f0f921"
             ]
            ],
            "type": "heatmap"
           }
          ],
          "heatmapgl": [
           {
            "colorbar": {
             "outlinewidth": 0,
             "ticks": ""
            },
            "colorscale": [
             [
              0,
              "#0d0887"
             ],
             [
              0.1111111111111111,
              "#46039f"
             ],
             [
              0.2222222222222222,
              "#7201a8"
             ],
             [
              0.3333333333333333,
              "#9c179e"
             ],
             [
              0.4444444444444444,
              "#bd3786"
             ],
             [
              0.5555555555555556,
              "#d8576b"
             ],
             [
              0.6666666666666666,
              "#ed7953"
             ],
             [
              0.7777777777777778,
              "#fb9f3a"
             ],
             [
              0.8888888888888888,
              "#fdca26"
             ],
             [
              1,
              "#f0f921"
             ]
            ],
            "type": "heatmapgl"
           }
          ],
          "histogram": [
           {
            "marker": {
             "pattern": {
              "fillmode": "overlay",
              "size": 10,
              "solidity": 0.2
             }
            },
            "type": "histogram"
           }
          ],
          "histogram2d": [
           {
            "colorbar": {
             "outlinewidth": 0,
             "ticks": ""
            },
            "colorscale": [
             [
              0,
              "#0d0887"
             ],
             [
              0.1111111111111111,
              "#46039f"
             ],
             [
              0.2222222222222222,
              "#7201a8"
             ],
             [
              0.3333333333333333,
              "#9c179e"
             ],
             [
              0.4444444444444444,
              "#bd3786"
             ],
             [
              0.5555555555555556,
              "#d8576b"
             ],
             [
              0.6666666666666666,
              "#ed7953"
             ],
             [
              0.7777777777777778,
              "#fb9f3a"
             ],
             [
              0.8888888888888888,
              "#fdca26"
             ],
             [
              1,
              "#f0f921"
             ]
            ],
            "type": "histogram2d"
           }
          ],
          "histogram2dcontour": [
           {
            "colorbar": {
             "outlinewidth": 0,
             "ticks": ""
            },
            "colorscale": [
             [
              0,
              "#0d0887"
             ],
             [
              0.1111111111111111,
              "#46039f"
             ],
             [
              0.2222222222222222,
              "#7201a8"
             ],
             [
              0.3333333333333333,
              "#9c179e"
             ],
             [
              0.4444444444444444,
              "#bd3786"
             ],
             [
              0.5555555555555556,
              "#d8576b"
             ],
             [
              0.6666666666666666,
              "#ed7953"
             ],
             [
              0.7777777777777778,
              "#fb9f3a"
             ],
             [
              0.8888888888888888,
              "#fdca26"
             ],
             [
              1,
              "#f0f921"
             ]
            ],
            "type": "histogram2dcontour"
           }
          ],
          "mesh3d": [
           {
            "colorbar": {
             "outlinewidth": 0,
             "ticks": ""
            },
            "type": "mesh3d"
           }
          ],
          "parcoords": [
           {
            "line": {
             "colorbar": {
              "outlinewidth": 0,
              "ticks": ""
             }
            },
            "type": "parcoords"
           }
          ],
          "pie": [
           {
            "automargin": true,
            "type": "pie"
           }
          ],
          "scatter": [
           {
            "fillpattern": {
             "fillmode": "overlay",
             "size": 10,
             "solidity": 0.2
            },
            "type": "scatter"
           }
          ],
          "scatter3d": [
           {
            "line": {
             "colorbar": {
              "outlinewidth": 0,
              "ticks": ""
             }
            },
            "marker": {
             "colorbar": {
              "outlinewidth": 0,
              "ticks": ""
             }
            },
            "type": "scatter3d"
           }
          ],
          "scattercarpet": [
           {
            "marker": {
             "colorbar": {
              "outlinewidth": 0,
              "ticks": ""
             }
            },
            "type": "scattercarpet"
           }
          ],
          "scattergeo": [
           {
            "marker": {
             "colorbar": {
              "outlinewidth": 0,
              "ticks": ""
             }
            },
            "type": "scattergeo"
           }
          ],
          "scattergl": [
           {
            "marker": {
             "colorbar": {
              "outlinewidth": 0,
              "ticks": ""
             }
            },
            "type": "scattergl"
           }
          ],
          "scattermapbox": [
           {
            "marker": {
             "colorbar": {
              "outlinewidth": 0,
              "ticks": ""
             }
            },
            "type": "scattermapbox"
           }
          ],
          "scatterpolar": [
           {
            "marker": {
             "colorbar": {
              "outlinewidth": 0,
              "ticks": ""
             }
            },
            "type": "scatterpolar"
           }
          ],
          "scatterpolargl": [
           {
            "marker": {
             "colorbar": {
              "outlinewidth": 0,
              "ticks": ""
             }
            },
            "type": "scatterpolargl"
           }
          ],
          "scatterternary": [
           {
            "marker": {
             "colorbar": {
              "outlinewidth": 0,
              "ticks": ""
             }
            },
            "type": "scatterternary"
           }
          ],
          "surface": [
           {
            "colorbar": {
             "outlinewidth": 0,
             "ticks": ""
            },
            "colorscale": [
             [
              0,
              "#0d0887"
             ],
             [
              0.1111111111111111,
              "#46039f"
             ],
             [
              0.2222222222222222,
              "#7201a8"
             ],
             [
              0.3333333333333333,
              "#9c179e"
             ],
             [
              0.4444444444444444,
              "#bd3786"
             ],
             [
              0.5555555555555556,
              "#d8576b"
             ],
             [
              0.6666666666666666,
              "#ed7953"
             ],
             [
              0.7777777777777778,
              "#fb9f3a"
             ],
             [
              0.8888888888888888,
              "#fdca26"
             ],
             [
              1,
              "#f0f921"
             ]
            ],
            "type": "surface"
           }
          ],
          "table": [
           {
            "cells": {
             "fill": {
              "color": "#EBF0F8"
             },
             "line": {
              "color": "white"
             }
            },
            "header": {
             "fill": {
              "color": "#C8D4E3"
             },
             "line": {
              "color": "white"
             }
            },
            "type": "table"
           }
          ]
         },
         "layout": {
          "annotationdefaults": {
           "arrowcolor": "#2a3f5f",
           "arrowhead": 0,
           "arrowwidth": 1
          },
          "autotypenumbers": "strict",
          "coloraxis": {
           "colorbar": {
            "outlinewidth": 0,
            "ticks": ""
           }
          },
          "colorscale": {
           "diverging": [
            [
             0,
             "#8e0152"
            ],
            [
             0.1,
             "#c51b7d"
            ],
            [
             0.2,
             "#de77ae"
            ],
            [
             0.3,
             "#f1b6da"
            ],
            [
             0.4,
             "#fde0ef"
            ],
            [
             0.5,
             "#f7f7f7"
            ],
            [
             0.6,
             "#e6f5d0"
            ],
            [
             0.7,
             "#b8e186"
            ],
            [
             0.8,
             "#7fbc41"
            ],
            [
             0.9,
             "#4d9221"
            ],
            [
             1,
             "#276419"
            ]
           ],
           "sequential": [
            [
             0,
             "#0d0887"
            ],
            [
             0.1111111111111111,
             "#46039f"
            ],
            [
             0.2222222222222222,
             "#7201a8"
            ],
            [
             0.3333333333333333,
             "#9c179e"
            ],
            [
             0.4444444444444444,
             "#bd3786"
            ],
            [
             0.5555555555555556,
             "#d8576b"
            ],
            [
             0.6666666666666666,
             "#ed7953"
            ],
            [
             0.7777777777777778,
             "#fb9f3a"
            ],
            [
             0.8888888888888888,
             "#fdca26"
            ],
            [
             1,
             "#f0f921"
            ]
           ],
           "sequentialminus": [
            [
             0,
             "#0d0887"
            ],
            [
             0.1111111111111111,
             "#46039f"
            ],
            [
             0.2222222222222222,
             "#7201a8"
            ],
            [
             0.3333333333333333,
             "#9c179e"
            ],
            [
             0.4444444444444444,
             "#bd3786"
            ],
            [
             0.5555555555555556,
             "#d8576b"
            ],
            [
             0.6666666666666666,
             "#ed7953"
            ],
            [
             0.7777777777777778,
             "#fb9f3a"
            ],
            [
             0.8888888888888888,
             "#fdca26"
            ],
            [
             1,
             "#f0f921"
            ]
           ]
          },
          "colorway": [
           "#636efa",
           "#EF553B",
           "#00cc96",
           "#ab63fa",
           "#FFA15A",
           "#19d3f3",
           "#FF6692",
           "#B6E880",
           "#FF97FF",
           "#FECB52"
          ],
          "font": {
           "color": "#2a3f5f"
          },
          "geo": {
           "bgcolor": "white",
           "lakecolor": "white",
           "landcolor": "#E5ECF6",
           "showlakes": true,
           "showland": true,
           "subunitcolor": "white"
          },
          "hoverlabel": {
           "align": "left"
          },
          "hovermode": "closest",
          "mapbox": {
           "style": "light"
          },
          "paper_bgcolor": "white",
          "plot_bgcolor": "#E5ECF6",
          "polar": {
           "angularaxis": {
            "gridcolor": "white",
            "linecolor": "white",
            "ticks": ""
           },
           "bgcolor": "#E5ECF6",
           "radialaxis": {
            "gridcolor": "white",
            "linecolor": "white",
            "ticks": ""
           }
          },
          "scene": {
           "xaxis": {
            "backgroundcolor": "#E5ECF6",
            "gridcolor": "white",
            "gridwidth": 2,
            "linecolor": "white",
            "showbackground": true,
            "ticks": "",
            "zerolinecolor": "white"
           },
           "yaxis": {
            "backgroundcolor": "#E5ECF6",
            "gridcolor": "white",
            "gridwidth": 2,
            "linecolor": "white",
            "showbackground": true,
            "ticks": "",
            "zerolinecolor": "white"
           },
           "zaxis": {
            "backgroundcolor": "#E5ECF6",
            "gridcolor": "white",
            "gridwidth": 2,
            "linecolor": "white",
            "showbackground": true,
            "ticks": "",
            "zerolinecolor": "white"
           }
          },
          "shapedefaults": {
           "line": {
            "color": "#2a3f5f"
           }
          },
          "ternary": {
           "aaxis": {
            "gridcolor": "white",
            "linecolor": "white",
            "ticks": ""
           },
           "baxis": {
            "gridcolor": "white",
            "linecolor": "white",
            "ticks": ""
           },
           "bgcolor": "#E5ECF6",
           "caxis": {
            "gridcolor": "white",
            "linecolor": "white",
            "ticks": ""
           }
          },
          "title": {
           "x": 0.05
          },
          "xaxis": {
           "automargin": true,
           "gridcolor": "white",
           "linecolor": "white",
           "ticks": "",
           "title": {
            "standoff": 15
           },
           "zerolinecolor": "white",
           "zerolinewidth": 2
          },
          "yaxis": {
           "automargin": true,
           "gridcolor": "white",
           "linecolor": "white",
           "ticks": "",
           "title": {
            "standoff": 15
           },
           "zerolinecolor": "white",
           "zerolinewidth": 2
          }
         }
        },
        "title": {
         "text": "Scatter Plot of CPS vs. CR3",
         "x": 0.5
        },
        "width": 1200,
        "xaxis": {
         "title": {
          "text": "CPS"
         }
        },
        "yaxis": {
         "title": {
          "text": "CR3"
         }
        }
       }
      }
     },
     "metadata": {},
     "output_type": "display_data"
    }
   ],
   "source": [
    "\n",
    "df = pivot_noobjective\n",
    "#[pivot_table['objective'] == 'Branding']\n",
    "color_palette = ['#44c0ed', '#4c956c','#ffee93', '#ff7700', '#2d2c5e', '#7e5d50']\n",
    "channel = pivot_noobjective['channel_name'].unique()\n",
    "color_mapping = {channel: color_palette[i % len(color_palette)] for i, channel in enumerate(channel)}\n",
    "\n",
    "#df['label'] = df['channel_name'] + ' | ' + df['device_type']\n",
    "\n",
    "# Create scatter plot\n",
    "fig = go.Figure()\n",
    "\n",
    "fig.add_trace(\n",
    "    go.Scatter(\n",
    "        x=df['CPS'],\n",
    "        y=df['cr3'],\n",
    "        mode='markers+text',\n",
    "        marker=dict(\n",
    "            size=10,  \n",
    "            color=[color_mapping[channel] for channel in df['channel_name']], \n",
    "            showscale=True\n",
    "        ),\n",
    "        text=df['label'],  \n",
    "        textposition='top center',\n",
    "        textfont=dict(size=6)  \n",
    "    )\n",
    ")\n",
    "\n",
    "fig.add_shape(\n",
    "    go.layout.Shape(\n",
    "        type=\"line\",\n",
    "        x0=2.1802,\n",
    "        x1=2.1802,\n",
    "        y0=0,  # Start from the minimum y-value\n",
    "        y1=1,  # End at the maximum y-value\n",
    "        line=dict(\n",
    "            color=\"Red\",\n",
    "            width=2,\n",
    "            dash=\"dash\"\n",
    "        ),\n",
    "        name=\"CPM Reference Line\"\n",
    "    )\n",
    ")\n",
    "\n",
    "fig.add_shape(\n",
    "    go.layout.Shape(\n",
    "        type=\"line\",\n",
    "        x0=0,  # Start from the minimum x-value\n",
    "        x1=125,  # End at the maximum x-value\n",
    "        y0=0.5499,\n",
    "        y1=0.5499,\n",
    "        line=dict(\n",
    "            color=\"Red\",\n",
    "            width=2,\n",
    "            dash=\"dash\"\n",
    "        ),\n",
    "        name=\"CTR Reference Line\"\n",
    "    )\n",
    ")\n",
    "\n",
    "# Update layout\n",
    "fig.update_layout(\n",
    "    title='Scatter Plot of CPS vs. CR3',\n",
    "    title_x=0.5,\n",
    "    xaxis_title='CPS',\n",
    "    yaxis_title='CR3',\n",
    "    height=800,\n",
    "    width=1200\n",
    ")\n",
    "\n",
    "fig.show()\n"
   ]
  }
 ],
 "metadata": {
  "kernelspec": {
   "display_name": "Python 3",
   "language": "python",
   "name": "python3"
  },
  "language_info": {
   "codemirror_mode": {
    "name": "ipython",
    "version": 3
   },
   "file_extension": ".py",
   "mimetype": "text/x-python",
   "name": "python",
   "nbconvert_exporter": "python",
   "pygments_lexer": "ipython3",
   "version": "3.11.1"
  }
 },
 "nbformat": 4,
 "nbformat_minor": 2
}
